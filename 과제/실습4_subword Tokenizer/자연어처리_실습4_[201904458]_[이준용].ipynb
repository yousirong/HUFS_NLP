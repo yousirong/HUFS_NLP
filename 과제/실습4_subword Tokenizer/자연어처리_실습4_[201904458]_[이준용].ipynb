{
  "nbformat": 4,
  "nbformat_minor": 0,
  "metadata": {
    "colab": {
      "name": "자연어처리_실습4_[201904458]_[이준용].ipynb",
      "provenance": [],
      "collapsed_sections": []
    },
    "kernelspec": {
      "name": "python3",
      "display_name": "Python 3"
    },
    "language_info": {
      "name": "python"
    }
  },
  "cells": [
    {
      "cell_type": "code",
      "metadata": {
        "colab": {
          "base_uri": "https://localhost:8080/"
        },
        "id": "Wrv0rk_H7WBE",
        "outputId": "1415745a-9889-4769-fade-0a516e30c5cc"
      },
      "source": [
        "pip install sentencepiece"
      ],
      "execution_count": 2,
      "outputs": [
        {
          "output_type": "stream",
          "name": "stdout",
          "text": [
            "Collecting sentencepiece\n",
            "  Downloading sentencepiece-0.1.96-cp37-cp37m-manylinux_2_17_x86_64.manylinux2014_x86_64.whl (1.2 MB)\n",
            "\u001b[K     |████████████████████████████████| 1.2 MB 5.0 MB/s \n",
            "\u001b[?25hInstalling collected packages: sentencepiece\n",
            "Successfully installed sentencepiece-0.1.96\n"
          ]
        }
      ]
    },
    {
      "cell_type": "code",
      "metadata": {
        "id": "2tuT5FiT6Mpg"
      },
      "source": [
        "import pandas as pd\n",
        "import sentencepiece as spm\n",
        "import urllib.request\n",
        "import csv\n",
        "urllib.request.urlretrieve(\"https://raw.githubusercontent.com/e9t/nsmc/master/ratings.txt\", filename=\"ratings.txt\")\n",
        "naver_df = pd.read_table('ratings.txt')\n",
        "naver_df = naver_df.dropna(how = 'any') # Null 값이 존재하는 행 제거\n",
        "# 결과를 naver_review.txt 파일에 저장\n",
        "with open('naver_review.txt', 'w', encoding='utf8') as f: f.write('\\n'.join(naver_df['document']))"
      ],
      "execution_count": 3,
      "outputs": []
    },
    {
      "cell_type": "code",
      "metadata": {
        "id": "f1L7TmHY7_gj"
      },
      "source": [
        "spm.SentencePieceTrainer.Train('--input=naver_review.txt --model_prefix=naver --vocab_size=10000 --model_type=bpe --max_sentence_length=9999')\n"
      ],
      "execution_count": 4,
      "outputs": []
    },
    {
      "cell_type": "code",
      "metadata": {
        "colab": {
          "base_uri": "https://localhost:8080/"
        },
        "id": "PITY1D-p9rkY",
        "outputId": "8dbade16-422b-46bf-e0f6-c7d0baaec677"
      },
      "source": [
        "naver_df['document'][range(80001,80011)]\n"
      ],
      "execution_count": 5,
      "outputs": [
        {
          "output_type": "execute_result",
          "data": {
            "text/plain": [
              "80001                              이건 얄짤없이 10점이긴한디 재개봉인가요?\n",
              "80002    너무 훌륭한 동물농장! 몇년째 보는 일요일 프로그램인데 오늘 정말 방치되어 굶어죽는...\n",
              "80003                                          난 재밌던데?....\n",
              "80004                                 귀엽고 멋지고 재미있는. 매력 덩어리\n",
              "80005                        이방인과 현지인, 그들이 하나가 되는 순간의 코인로커\n",
              "80006                                                    ♥\n",
              "80007      월드컵 기간에 보기엔 딱 좋은 영화! 이 영화만 100번 넘게 볼 정도로 강력 추천!\n",
              "80008                             5점준놈 생각좀해 78년작인데 ㅡㅡ 멀더바래\n",
              "80009                               잘 찍었네요..하지만 흥행과는 무관할 듯\n",
              "80010                                이게 왜 8점대야 최소 9점대는 돼야지\n",
              "Name: document, dtype: object"
            ]
          },
          "metadata": {},
          "execution_count": 5
        }
      ]
    },
    {
      "cell_type": "code",
      "metadata": {
        "colab": {
          "base_uri": "https://localhost:8080/"
        },
        "id": "8CF6ItbQA0yW",
        "outputId": "de2b0576-e897-426e-d421-88f16facb8bc"
      },
      "source": [
        "sp = spm.SentencePieceProcessor()\n",
        "vocab_file = \"naver.model\"\n",
        "sp.load(vocab_file)\n",
        "lines = naver_df['document'][range(80001,80011)]\n",
        "\n",
        "for line in lines:\n",
        "  print(line)\n",
        "  print(sp.encode_as_pieces(line))\n",
        "  print(sp.encode_as_ids(line))\n",
        "  print()"
      ],
      "execution_count": 6,
      "outputs": [
        {
          "output_type": "stream",
          "name": "stdout",
          "text": [
            "이건 얄짤없이 10점이긴한디 재개봉인가요?\n",
            "['▁이건', '▁얄', '짤', '없이', '▁10', '점이', '긴', '한', '디', '▁재개봉', '인가요', '?']\n",
            "[196, 7076, 9408, 370, 135, 498, 8505, 8291, 8431, 5607, 3025, 8329]\n",
            "\n",
            "너무 훌륭한 동물농장! 몇년째 보는 일요일 프로그램인데 오늘 정말 방치되어 굶어죽는 강아지들 그리고 인간이 아닌것 같은 견주를 보면서 다시한번 동물농장에 감사드립니다! 너무 훌륭한 일을 하고 계세요!! 항상 감사한 마음으로 시청하고 있습니다! 홧팅!!\n",
            "['▁너무', '▁훌륭한', '▁동물', '농', '장', '!', '▁몇년', '째', '▁보는', '▁일', '요일', '▁프로그램', '인데', '▁오늘', '▁정말', '▁방', '치', '되어', '▁', '굶', '어', '죽는', '▁강', '아지', '들', '▁그리고', '▁인간이', '▁아닌', '것', '▁같은', '▁견', '주', '를', '▁보면서', '▁다시한번', '▁동물', '농', '장에', '▁감사', '드립니다', '!', '▁너무', '▁훌륭한', '▁일을', '▁하고', '▁계', '세요', '!!', '▁항상', '▁감사', '한', '▁마음으로', '▁시청', '하고', '▁있습니다', '!', '▁홧팅', '!!']\n",
            "[23, 1617, 3037, 9129, 8344, 8303, 6196, 8872, 157, 104, 3723, 2401, 242, 952, 42, 443, 8400, 1755, 8275, 9842, 8293, 5106, 264, 5730, 8307, 319, 3600, 337, 8360, 346, 1952, 8338, 8331, 828, 3086, 3037, 9129, 6759, 1215, 3643, 8303, 23, 1617, 7028, 511, 429, 235, 32, 1575, 1215, 8291, 5019, 878, 35, 2743, 8303, 8014, 32]\n",
            "\n",
            "난 재밌던데?....\n",
            "['▁난', '▁재밌던데', '?', '....']\n",
            "[205, 4037, 8329, 47]\n",
            "\n",
            "귀엽고 멋지고 재미있는. 매력 덩어리\n",
            "['▁귀엽고', '▁멋지고', '▁재미있는', '.', '▁매력', '▁', '덩어리']\n",
            "[2670, 5253, 1485, 8276, 396, 8275, 6715]\n",
            "\n",
            "이방인과 현지인, 그들이 하나가 되는 순간의 코인로커\n",
            "['▁이', '방', '인과', '▁현', '지', '인', ',', '▁그들이', '▁하나가', '▁되는', '▁순간', '의', '▁코', '인', '로', '커']\n",
            "[6, 8541, 3941, 240, 8281, 8308, 8315, 5884, 7408, 844, 1721, 8294, 215, 8308, 8299, 8767]\n",
            "\n",
            "♥\n",
            "['▁♥']\n",
            "[6314]\n",
            "\n",
            "월드컵 기간에 보기엔 딱 좋은 영화! 이 영화만 100번 넘게 볼 정도로 강력 추천!\n",
            "['▁월드', '컵', '▁기', '간에', '▁보기엔', '▁딱', '▁좋은', '▁영화', '!', '▁이', '▁영화만', '▁100', '번', '▁넘게', '▁볼', '▁정도로', '▁강력', '▁추천', '!']\n",
            "[7116, 9619, 49, 5671, 2654, 547, 179, 5, 8303, 6, 4734, 1311, 8480, 4460, 97, 1450, 3969, 531, 8303]\n",
            "\n",
            "5점준놈 생각좀해 78년작인데 ㅡㅡ 멀더바래\n",
            "['▁5', '점준', '놈', '▁생각', '좀', '해', '▁7', '8', '년작', '인데', '▁ᅳᅳ', '▁멀', '더', '바', '래']\n",
            "[543, 2110, 8765, 83, 8467, 8323, 536, 8619, 4451, 242, 488, 2076, 8366, 8448, 8412]\n",
            "\n",
            "잘 찍었네요..하지만 흥행과는 무관할 듯\n",
            "['▁잘', '▁찍', '었네요', '..', '하지만', '▁흥행', '과는', '▁무', '관', '할', '▁듯']\n",
            "[63, 538, 2245, 3, 408, 1602, 2511, 58, 8486, 8391, 485]\n",
            "\n",
            "이게 왜 8점대야 최소 9점대는 돼야지\n",
            "['▁이게', '▁왜', '▁8', '점대', '야', '▁최소', '▁9', '점대는', '▁돼', '야지']\n",
            "[244, 84, 497, 970, 8357, 5818, 486, 4341, 2616, 1155]\n",
            "\n"
          ]
        }
      ]
    },
    {
      "cell_type": "code",
      "metadata": {
        "id": "_MyIFgKsr88x"
      },
      "source": [
        "spm.SentencePieceTrainer.Train('--input=naver_review.txt --model_prefix=naver --vocab_size=20000 --model_type=bpe --max_sentence_length=9999')"
      ],
      "execution_count": 7,
      "outputs": []
    },
    {
      "cell_type": "code",
      "metadata": {
        "colab": {
          "base_uri": "https://localhost:8080/"
        },
        "id": "_B32qbEkr801",
        "outputId": "e827115b-89b6-4100-f312-46bcfd78af51"
      },
      "source": [
        "sd = spm.SentencePieceProcessor()\n",
        "vocab_file = \"naver.model\"\n",
        "sd.load(vocab_file)\n",
        "lines = naver_df['document'][range(80001,80011)]\n",
        "\n",
        "for line in lines:\n",
        "  print(line)\n",
        "  print(sd.encode_as_pieces(line))\n",
        "  print(sd.encode_as_ids(line))\n",
        "  print()"
      ],
      "execution_count": 8,
      "outputs": [
        {
          "output_type": "stream",
          "name": "stdout",
          "text": [
            "이건 얄짤없이 10점이긴한디 재개봉인가요?\n",
            "['▁이건', '▁얄', '짤', '없이', '▁10', '점이', '긴', '한', '디', '▁재개봉', '인가요', '?']\n",
            "[196, 7076, 19408, 370, 135, 498, 18505, 18291, 18431, 5607, 3025, 18329]\n",
            "\n",
            "너무 훌륭한 동물농장! 몇년째 보는 일요일 프로그램인데 오늘 정말 방치되어 굶어죽는 강아지들 그리고 인간이 아닌것 같은 견주를 보면서 다시한번 동물농장에 감사드립니다! 너무 훌륭한 일을 하고 계세요!! 항상 감사한 마음으로 시청하고 있습니다! 홧팅!!\n",
            "['▁너무', '▁훌륭한', '▁동물', '농', '장', '!', '▁몇년', '째', '▁보는', '▁일요일', '▁프로그램', '인데', '▁오늘', '▁정말', '▁방', '치', '되어', '▁', '굶', '어', '죽는', '▁강아지', '들', '▁그리고', '▁인간이', '▁아닌것', '▁같은', '▁견', '주를', '▁보면서', '▁다시한번', '▁동물', '농', '장에', '▁감사드립니다', '!', '▁너무', '▁훌륭한', '▁일을', '▁하고', '▁계', '세요', '!!', '▁항상', '▁감사', '한', '▁마음으로', '▁시청', '하고', '▁있습니다', '!', '▁홧팅', '!!']\n",
            "[23, 1617, 3037, 19129, 18344, 18303, 6196, 18872, 157, 9983, 2401, 242, 952, 42, 443, 18400, 1755, 18275, 19842, 18293, 5106, 9269, 18307, 319, 3600, 9787, 346, 1952, 8362, 828, 3086, 3037, 19129, 6759, 14087, 18303, 23, 1617, 7028, 511, 429, 235, 32, 1575, 1215, 18291, 5019, 878, 35, 2743, 18303, 8014, 32]\n",
            "\n",
            "난 재밌던데?....\n",
            "['▁난', '▁재밌던데', '?....']\n",
            "[205, 4037, 16845]\n",
            "\n",
            "귀엽고 멋지고 재미있는. 매력 덩어리\n",
            "['▁귀엽고', '▁멋지고', '▁재미있는', '.', '▁매력', '▁', '덩어리']\n",
            "[2670, 5253, 1485, 18276, 396, 18275, 6715]\n",
            "\n",
            "이방인과 현지인, 그들이 하나가 되는 순간의 코인로커\n",
            "['▁이', '방', '인과', '▁현', '지', '인', ',', '▁그들이', '▁하나가', '▁되는', '▁순간의', '▁코', '인', '로', '커']\n",
            "[6, 18541, 3941, 240, 18281, 18308, 18315, 5884, 7408, 844, 17975, 215, 18308, 18299, 18767]\n",
            "\n",
            "♥\n",
            "['▁♥']\n",
            "[6314]\n",
            "\n",
            "월드컵 기간에 보기엔 딱 좋은 영화! 이 영화만 100번 넘게 볼 정도로 강력 추천!\n",
            "['▁월드컵', '▁기', '간에', '▁보기엔', '▁딱', '▁좋은', '▁영화', '!', '▁이', '▁영화만', '▁100', '번', '▁넘게', '▁볼', '▁정도로', '▁강력', '▁추천', '!']\n",
            "[15237, 49, 5671, 2654, 547, 179, 5, 18303, 6, 4734, 1311, 18480, 4460, 97, 1450, 3969, 531, 18303]\n",
            "\n",
            "5점준놈 생각좀해 78년작인데 ㅡㅡ 멀더바래\n",
            "['▁5', '점준', '놈', '▁생각', '좀', '해', '▁7', '8', '년작', '인데', '▁ᅳᅳ', '▁멀', '더', '바', '래']\n",
            "[543, 2110, 18765, 83, 18467, 18323, 536, 18619, 4451, 242, 488, 2076, 18366, 18448, 18412]\n",
            "\n",
            "잘 찍었네요..하지만 흥행과는 무관할 듯\n",
            "['▁잘', '▁찍', '었네요', '..', '하지만', '▁흥행', '과는', '▁무관', '할', '▁듯']\n",
            "[63, 538, 2245, 3, 408, 1602, 2511, 9718, 18391, 485]\n",
            "\n",
            "이게 왜 8점대야 최소 9점대는 돼야지\n",
            "['▁이게', '▁왜', '▁8', '점대', '야', '▁최소', '▁9', '점대는', '▁돼', '야지']\n",
            "[244, 84, 497, 970, 18357, 5818, 486, 4341, 2616, 1155]\n",
            "\n"
          ]
        }
      ]
    },
    {
      "cell_type": "code",
      "metadata": {
        "colab": {
          "base_uri": "https://localhost:8080/"
        },
        "id": "55RDCDj2HV-x",
        "outputId": "045f6436-58bf-4339-e52c-c2f8d990ab6e"
      },
      "source": [
        "pip install konlpy"
      ],
      "execution_count": 9,
      "outputs": [
        {
          "output_type": "stream",
          "name": "stdout",
          "text": [
            "Collecting konlpy\n",
            "  Downloading konlpy-0.5.2-py2.py3-none-any.whl (19.4 MB)\n",
            "\u001b[K     |████████████████████████████████| 19.4 MB 1.2 MB/s \n",
            "\u001b[?25hRequirement already satisfied: lxml>=4.1.0 in /usr/local/lib/python3.7/dist-packages (from konlpy) (4.2.6)\n",
            "Collecting beautifulsoup4==4.6.0\n",
            "  Downloading beautifulsoup4-4.6.0-py3-none-any.whl (86 kB)\n",
            "\u001b[K     |████████████████████████████████| 86 kB 4.6 MB/s \n",
            "\u001b[?25hRequirement already satisfied: numpy>=1.6 in /usr/local/lib/python3.7/dist-packages (from konlpy) (1.19.5)\n",
            "Collecting colorama\n",
            "  Downloading colorama-0.4.4-py2.py3-none-any.whl (16 kB)\n",
            "Collecting JPype1>=0.7.0\n",
            "  Downloading JPype1-1.3.0-cp37-cp37m-manylinux_2_5_x86_64.manylinux1_x86_64.whl (448 kB)\n",
            "\u001b[K     |████████████████████████████████| 448 kB 58.8 MB/s \n",
            "\u001b[?25hRequirement already satisfied: tweepy>=3.7.0 in /usr/local/lib/python3.7/dist-packages (from konlpy) (3.10.0)\n",
            "Requirement already satisfied: typing-extensions in /usr/local/lib/python3.7/dist-packages (from JPype1>=0.7.0->konlpy) (3.10.0.2)\n",
            "Requirement already satisfied: requests-oauthlib>=0.7.0 in /usr/local/lib/python3.7/dist-packages (from tweepy>=3.7.0->konlpy) (1.3.0)\n",
            "Requirement already satisfied: six>=1.10.0 in /usr/local/lib/python3.7/dist-packages (from tweepy>=3.7.0->konlpy) (1.15.0)\n",
            "Requirement already satisfied: requests[socks]>=2.11.1 in /usr/local/lib/python3.7/dist-packages (from tweepy>=3.7.0->konlpy) (2.23.0)\n",
            "Requirement already satisfied: oauthlib>=3.0.0 in /usr/local/lib/python3.7/dist-packages (from requests-oauthlib>=0.7.0->tweepy>=3.7.0->konlpy) (3.1.1)\n",
            "Requirement already satisfied: chardet<4,>=3.0.2 in /usr/local/lib/python3.7/dist-packages (from requests[socks]>=2.11.1->tweepy>=3.7.0->konlpy) (3.0.4)\n",
            "Requirement already satisfied: certifi>=2017.4.17 in /usr/local/lib/python3.7/dist-packages (from requests[socks]>=2.11.1->tweepy>=3.7.0->konlpy) (2021.10.8)\n",
            "Requirement already satisfied: urllib3!=1.25.0,!=1.25.1,<1.26,>=1.21.1 in /usr/local/lib/python3.7/dist-packages (from requests[socks]>=2.11.1->tweepy>=3.7.0->konlpy) (1.24.3)\n",
            "Requirement already satisfied: idna<3,>=2.5 in /usr/local/lib/python3.7/dist-packages (from requests[socks]>=2.11.1->tweepy>=3.7.0->konlpy) (2.10)\n",
            "Requirement already satisfied: PySocks!=1.5.7,>=1.5.6 in /usr/local/lib/python3.7/dist-packages (from requests[socks]>=2.11.1->tweepy>=3.7.0->konlpy) (1.7.1)\n",
            "Installing collected packages: JPype1, colorama, beautifulsoup4, konlpy\n",
            "  Attempting uninstall: beautifulsoup4\n",
            "    Found existing installation: beautifulsoup4 4.6.3\n",
            "    Uninstalling beautifulsoup4-4.6.3:\n",
            "      Successfully uninstalled beautifulsoup4-4.6.3\n",
            "Successfully installed JPype1-1.3.0 beautifulsoup4-4.6.0 colorama-0.4.4 konlpy-0.5.2\n"
          ]
        }
      ]
    },
    {
      "cell_type": "code",
      "metadata": {
        "colab": {
          "base_uri": "https://localhost:8080/"
        },
        "id": "NYF_X4TU7ssb",
        "outputId": "e2585c46-0d79-431d-e466-a21ac911bc9f"
      },
      "source": [
        "from collections import Counter\n",
        "import pandas as pd\n",
        "import numpy as np\n",
        "import matplotlib.pyplot as plt\n",
        "import re\n",
        "import urllib.request \n",
        "from konlpy.tag import Okt\n",
        "from tensorflow.keras.preprocessing.text import Tokenizer\n",
        "from tensorflow.keras.preprocessing.sequence import pad_sequences\n",
        "urllib.request.urlretrieve(\"https://raw.githubusercontent.com/e9t/nsmc/master/ratings_train.txt\",\n",
        "filename=\"ratings_train.txt\")\n",
        "f = open(\"ratings_train.txt\",'r',encoding='utf-8')\n",
        "result = f.read()\n",
        "\n",
        "stopwords =['의','가','이','은','들','는','좀','잘','걍','과','도','를','으로','자','에','와','한','하다']\n",
        "okt=Okt()\n",
        "noun = okt.nouns(result)\n",
        "noun = [word for word in noun if not word in stopwords] # 불용어 제거\n",
        "count = Counter(noun)\n",
        "noun_list = count.most_common(100)\n",
        "for i in noun_list:\n",
        "  print(i)"
      ],
      "execution_count": 12,
      "outputs": [
        {
          "output_type": "stream",
          "name": "stdout",
          "text": [
            "('영화', 50737)\n",
            "('정말', 9645)\n",
            "('진짜', 8343)\n",
            "('점', 7930)\n",
            "('연기', 6434)\n",
            "('평점', 6324)\n",
            "('것', 6315)\n",
            "('최고', 6035)\n",
            "('스토리', 5344)\n",
            "('생각', 5314)\n",
            "('왜', 5157)\n",
            "('드라마', 5063)\n",
            "('감동', 4879)\n",
            "('사람', 4836)\n",
            "('보고', 4612)\n",
            "('말', 4565)\n",
            "('더', 4366)\n",
            "('때', 4314)\n",
            "('내', 4306)\n",
            "('배우', 4297)\n",
            "('거', 4139)\n",
            "('감독', 4126)\n",
            "('재미', 3930)\n",
            "('내용', 3899)\n",
            "('그냥', 3838)\n",
            "('뭐', 3813)\n",
            "('그', 3698)\n",
            "('쓰레기', 3542)\n",
            "('시간', 3446)\n",
            "('수', 3253)\n",
            "('나', 3060)\n",
            "('작품', 2964)\n",
            "('사랑', 2943)\n",
            "('다시', 2838)\n",
            "('하나', 2838)\n",
            "('볼', 2790)\n",
            "('마지막', 2755)\n",
            "('이건', 2688)\n",
            "('완전', 2542)\n",
            "('정도', 2523)\n",
            "('처음', 2452)\n",
            "('장면', 2436)\n",
            "('액션', 2397)\n",
            "('주인공', 2382)\n",
            "('걸', 2328)\n",
            "('최악', 2268)\n",
            "('지금', 2206)\n",
            "('돈', 2205)\n",
            "('이야기', 2174)\n",
            "('별로', 2143)\n",
            "('임', 2130)\n",
            "('느낌', 2095)\n",
            "('연출', 2082)\n",
            "('개', 2064)\n",
            "('끝', 2047)\n",
            "('명작', 2041)\n",
            "('듯', 2036)\n",
            "('역시', 1994)\n",
            "('이해', 1906)\n",
            "('이영화', 1824)\n",
            "('안', 1804)\n",
            "('또', 1784)\n",
            "('여자', 1742)\n",
            "('때문', 1735)\n",
            "('난', 1663)\n",
            "('중', 1642)\n",
            "('꼭', 1634)\n",
            "('편', 1620)\n",
            "('보기', 1611)\n",
            "('기억', 1596)\n",
            "('결말', 1579)\n",
            "('마음', 1553)\n",
            "('인생', 1541)\n",
            "('소재', 1511)\n",
            "('애', 1486)\n",
            "('못', 1480)\n",
            "('수준', 1448)\n",
            "('현실', 1418)\n",
            "('한번', 1402)\n",
            "('가장', 1396)\n",
            "('반전', 1382)\n",
            "('매력', 1372)\n",
            "('전개', 1368)\n",
            "('남자', 1338)\n",
            "('한국', 1337)\n",
            "('가슴', 1331)\n",
            "('저', 1300)\n",
            "('음악', 1288)\n",
            "('알', 1288)\n",
            "('아이', 1279)\n",
            "('원작', 1252)\n",
            "('줄', 1240)\n",
            "('인간', 1212)\n",
            "('무슨', 1203)\n",
            "('우리', 1199)\n",
            "('추천', 1193)\n",
            "('함', 1185)\n",
            "('눈물', 1181)\n",
            "('만', 1170)\n",
            "('게', 1164)\n"
          ]
        }
      ]
    },
    {
      "cell_type": "code",
      "metadata": {
        "id": "spXDN9kIHlYQ"
      },
      "source": [
        "stopwords =['의','가','이','은','들','는','좀','잘','걍','과','도','를','으로','자','에','와','한','하다']\n",
        "okt = Okt() # 형태소 분석기\n",
        "X_train = []\n",
        "k = 0\n",
        "for sentence in lines:\n",
        "  k = k+1\n",
        "  if k % 5000 == 0: print(k)\n",
        "  temp_X = []\n",
        "  temp_X = okt.morphs(sentence, stem=True) # 토큰화\n",
        "  temp_X = [word for word in temp_X if not word in stopwords] # 불용어 제거\n",
        "  X_train.append(temp_X)\n"
      ],
      "execution_count": 13,
      "outputs": []
    },
    {
      "cell_type": "code",
      "metadata": {
        "colab": {
          "base_uri": "https://localhost:8080/"
        },
        "id": "z65vkc-A41hS",
        "outputId": "f7ab89ec-db2a-4592-f47d-95bcb6d606ad"
      },
      "source": [
        "for line in lines:\n",
        "  print(line)\n",
        "  noun = okt.nouns(line)\n",
        "  count = Counter(noun)\n",
        "  noun_list = count.most_common(100)\n",
        "  for i in noun_list:\n",
        "    print(i)\n",
        "  print()\n"
      ],
      "execution_count": 14,
      "outputs": [
        {
          "output_type": "stream",
          "name": "stdout",
          "text": [
            "이건 얄짤없이 10점이긴한디 재개봉인가요?\n",
            "('이건', 1)\n",
            "('얄짤없', 1)\n",
            "('점', 1)\n",
            "('디', 1)\n",
            "('재', 1)\n",
            "('개봉', 1)\n",
            "\n",
            "너무 훌륭한 동물농장! 몇년째 보는 일요일 프로그램인데 오늘 정말 방치되어 굶어죽는 강아지들 그리고 인간이 아닌것 같은 견주를 보면서 다시한번 동물농장에 감사드립니다! 너무 훌륭한 일을 하고 계세요!! 항상 감사한 마음으로 시청하고 있습니다! 홧팅!!\n",
            "('동물농장', 2)\n",
            "('년', 1)\n",
            "('일요일', 1)\n",
            "('프로그램', 1)\n",
            "('오늘', 1)\n",
            "('정말', 1)\n",
            "('방치', 1)\n",
            "('강아지', 1)\n",
            "('인간', 1)\n",
            "('견주', 1)\n",
            "('다시', 1)\n",
            "('한번', 1)\n",
            "('감사', 1)\n",
            "('일', 1)\n",
            "('계세', 1)\n",
            "('항상', 1)\n",
            "('마음', 1)\n",
            "('시청', 1)\n",
            "('홧팅', 1)\n",
            "\n",
            "난 재밌던데?....\n",
            "('난', 1)\n",
            "\n",
            "귀엽고 멋지고 재미있는. 매력 덩어리\n",
            "('매력', 1)\n",
            "('덩어리', 1)\n",
            "\n",
            "이방인과 현지인, 그들이 하나가 되는 순간의 코인로커\n",
            "('이방인', 1)\n",
            "('현지', 1)\n",
            "('그', 1)\n",
            "('하나', 1)\n",
            "('순간', 1)\n",
            "('코인', 1)\n",
            "('로커', 1)\n",
            "\n",
            "♥\n",
            "\n",
            "월드컵 기간에 보기엔 딱 좋은 영화! 이 영화만 100번 넘게 볼 정도로 강력 추천!\n",
            "('영화', 2)\n",
            "('월드컵', 1)\n",
            "('기간', 1)\n",
            "('보기', 1)\n",
            "('이', 1)\n",
            "('번', 1)\n",
            "('볼', 1)\n",
            "('정도', 1)\n",
            "('강력', 1)\n",
            "('추천', 1)\n",
            "\n",
            "5점준놈 생각좀해 78년작인데 ㅡㅡ 멀더바래\n",
            "('점준놈', 1)\n",
            "('생각', 1)\n",
            "('멀더', 1)\n",
            "('바', 1)\n",
            "\n",
            "잘 찍었네요..하지만 흥행과는 무관할 듯\n",
            "('흥행', 1)\n",
            "('무', 1)\n",
            "('관할', 1)\n",
            "('듯', 1)\n",
            "\n",
            "이게 왜 8점대야 최소 9점대는 돼야지\n",
            "('점', 2)\n",
            "('이', 1)\n",
            "('왜', 1)\n",
            "('최소', 1)\n",
            "\n"
          ]
        }
      ]
    }
  ]
}