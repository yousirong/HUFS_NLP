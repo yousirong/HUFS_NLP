{
 "cells": [
  {
   "cell_type": "code",
   "execution_count": 1,
   "metadata": {
    "scrolled": false
   },
   "outputs": [
    {
     "name": "stdout",
     "output_type": "stream",
     "text": [
      "['AI가', '학습자의', '기존', '학습데이터를', '실시간으로', '분석해', '난이도를', '조절하여', '학습자', '맞춤형', '교육을', '제공하는', '기술을', '말한다.', '세부기술로는', '▷학습용', 'AI(축적된', '학습데이터를', '바탕으로', '난이도조절,', '교육과정', '제시)', '▷학습데이터', '처리(사용자의', '학습데이터를', '수집‧가공하는', '기술)', '▷교육플랫폼(교사·학생·학부모', '등', '다양한', '인력이', '참여하는', '교육플랫폼)', '등이', '해당한다.']\n",
      "['AI가', '학습자의', '기존', '학습데이터를', '실시간으로', '분석해', '난이도를', '조절하여', '학습자', '맞춤형', '교육을', '제공하는', '기술을', '말한다', '.', '세부기술로는', '▷학습용', 'AI', '(', '축적된', '학습데이터를', '바탕으로', '난이도조절', ',', '교육과정', '제시', ')', '▷학습데이터', '처리', '(', '사용자의', '학습데이터를', '수집‧가공하는', '기술', ')', '▷교육플랫폼', '(', '교사·학생·학부모', '등', '다양한', '인력이', '참여하는', '교육플랫폼', ')', '등이', '해당한다', '.']\n"
     ]
    }
   ],
   "source": [
    "import re\n",
    "from nltk import word_tokenize\n",
    "\n",
    "data=\"\"\"AI가 학습자의 기존 학습데이터를 실시간으로 분석해 난이도를 조절하여 학습자 맞춤형 교육을 제공하는 기술을 말한다. 세부기술로는 ▷학습용 AI(축적된 학습데이터를 바탕으로 난이도조절, 교육과정 제시) ▷학습데이터 처리(사용자의 학습데이터를 수집‧가공하는 기술) ▷교육플랫폼(교사·학생·학부모 등 다양한 인력이 참여하는 교육플랫폼) 등이 해당한다.\"\"\"\n",
    "\n",
    "x1=re.split('\\s+', data)\n",
    "x2=word_tokenize(data)\n",
    "\n",
    "print(x1)\n",
    "print(x2)"
   ]
  },
  {
   "cell_type": "code",
   "execution_count": 2,
   "metadata": {
    "scrolled": false
   },
   "outputs": [
    {
     "name": "stdout",
     "output_type": "stream",
     "text": [
      "--sys version--\n",
      "3.8.5 (default, Sep  3 2020, 21:29:08) [MSC v.1916 64 bit (AMD64)]\n"
     ]
    }
   ],
   "source": [
    "import sys\n",
    "print(\"--sys version--\")\n",
    "print(sys.version)"
   ]
  },
  {
   "cell_type": "code",
   "execution_count": 3,
   "metadata": {},
   "outputs": [
    {
     "name": "stdout",
     "output_type": "stream",
     "text": [
      "['...']\n",
      "Counter({'...': 1})\n"
     ]
    }
   ],
   "source": [
    "from nltk import word_tokenize\n",
    "from collections import Counter\n",
    "\n",
    "data=\"...\"# 앞 장의 데이터와 동일\n",
    "\n",
    "words = word_tokenize(data)\n",
    "vocab = Counter(words)\n",
    "\n",
    "print(words)\n",
    "print(vocab)"
   ]
  },
  {
   "cell_type": "code",
   "execution_count": 1,
   "metadata": {
    "scrolled": false
   },
   "outputs": [
    {
     "ename": "AttributeError",
     "evalue": "Java package 'kr.lucypark.kkma' is not valid",
     "output_type": "error",
     "traceback": [
      "\u001b[1;31m---------------------------------------------------------------------------\u001b[0m",
      "\u001b[1;31mAttributeError\u001b[0m                            Traceback (most recent call last)",
      "\u001b[1;32m<ipython-input-1-b5fd49b308b8>\u001b[0m in \u001b[0;36m<module>\u001b[1;34m\u001b[0m\n\u001b[0;32m      3\u001b[0m \u001b[0mdata\u001b[0m\u001b[1;33m=\u001b[0m\u001b[1;34m\"AI가 학습자의 기존 학습데이터를 실시간으로 분석해 난이도를 조절하여 학습자 맞춤형 교육을 제공하는 기술을 말한다. 세부기술로는 ▷학습용 AI(축적된 학습데이터를 바탕으로 난이도조절, 교육과정 제시) ▷학습데이터 처리(사용자의 학습데이터를 수집‧가공하는 기술) ▷교육플랫폼(교사·학생·학부모 등 다양한 인력이 참여하는 교육플랫폼) 등이 해당한다.\"\u001b[0m\u001b[1;33m\u001b[0m\u001b[1;33m\u001b[0m\u001b[0m\n\u001b[0;32m      4\u001b[0m \u001b[1;33m\u001b[0m\u001b[0m\n\u001b[1;32m----> 5\u001b[1;33m \u001b[0mkkma\u001b[0m \u001b[1;33m=\u001b[0m \u001b[0mKkma\u001b[0m\u001b[1;33m(\u001b[0m\u001b[1;33m)\u001b[0m\u001b[1;33m\u001b[0m\u001b[1;33m\u001b[0m\u001b[0m\n\u001b[0m\u001b[0;32m      6\u001b[0m \u001b[1;33m\u001b[0m\u001b[0m\n\u001b[0;32m      7\u001b[0m \u001b[0mprint\u001b[0m\u001b[1;33m(\u001b[0m\u001b[0mkkma\u001b[0m\u001b[1;33m.\u001b[0m\u001b[0mnouns\u001b[0m\u001b[1;33m(\u001b[0m\u001b[0mdata\u001b[0m\u001b[1;33m)\u001b[0m\u001b[1;33m)\u001b[0m\u001b[1;33m\u001b[0m\u001b[1;33m\u001b[0m\u001b[0m\n",
      "\u001b[1;32m~\\AppData\\Roaming\\Python\\Python38\\site-packages\\konlpy\\tag\\_kkma.py\u001b[0m in \u001b[0;36m__init__\u001b[1;34m(self, jvmpath, max_heap_size)\u001b[0m\n\u001b[0;32m     96\u001b[0m \u001b[1;33m\u001b[0m\u001b[0m\n\u001b[0;32m     97\u001b[0m         \u001b[0mkkmaJavaPackage\u001b[0m \u001b[1;33m=\u001b[0m \u001b[0mjpype\u001b[0m\u001b[1;33m.\u001b[0m\u001b[0mJPackage\u001b[0m\u001b[1;33m(\u001b[0m\u001b[1;34m'kr.lucypark.kkma'\u001b[0m\u001b[1;33m)\u001b[0m\u001b[1;33m\u001b[0m\u001b[1;33m\u001b[0m\u001b[0m\n\u001b[1;32m---> 98\u001b[1;33m         \u001b[0mKkmaInterfaceJavaClass\u001b[0m \u001b[1;33m=\u001b[0m \u001b[0mkkmaJavaPackage\u001b[0m\u001b[1;33m.\u001b[0m\u001b[0mKkmaInterface\u001b[0m\u001b[1;33m\u001b[0m\u001b[1;33m\u001b[0m\u001b[0m\n\u001b[0m\u001b[0;32m     99\u001b[0m         \u001b[0mself\u001b[0m\u001b[1;33m.\u001b[0m\u001b[0mjki\u001b[0m \u001b[1;33m=\u001b[0m \u001b[0mKkmaInterfaceJavaClass\u001b[0m\u001b[1;33m(\u001b[0m\u001b[1;33m)\u001b[0m  \u001b[1;31m# Java instance\u001b[0m\u001b[1;33m\u001b[0m\u001b[1;33m\u001b[0m\u001b[0m\n\u001b[0;32m    100\u001b[0m         \u001b[0mself\u001b[0m\u001b[1;33m.\u001b[0m\u001b[0mtagset\u001b[0m \u001b[1;33m=\u001b[0m \u001b[0mutils\u001b[0m\u001b[1;33m.\u001b[0m\u001b[0mread_json\u001b[0m\u001b[1;33m(\u001b[0m\u001b[1;34m'%s/data/tagset/kkma.json'\u001b[0m \u001b[1;33m%\u001b[0m \u001b[0mutils\u001b[0m\u001b[1;33m.\u001b[0m\u001b[0minstallpath\u001b[0m\u001b[1;33m)\u001b[0m\u001b[1;33m\u001b[0m\u001b[1;33m\u001b[0m\u001b[0m\n",
      "\u001b[1;31mAttributeError\u001b[0m: Java package 'kr.lucypark.kkma' is not valid"
     ]
    }
   ],
   "source": [
    "\n",
    "from konlpy.tag import Kkma\n",
    "\n",
    "data=\"AI가 학습자의 기존 학습데이터를 실시간으로 분석해 난이도를 조절하여 학습자 맞춤형 교육을 제공하는 기술을 말한다. 세부기술로는 ▷학습용 AI(축적된 학습데이터를 바탕으로 난이도조절, 교육과정 제시) ▷학습데이터 처리(사용자의 학습데이터를 수집‧가공하는 기술) ▷교육플랫폼(교사·학생·학부모 등 다양한 인력이 참여하는 교육플랫폼) 등이 해당한다.\"\n",
    "\n",
    "kkma = Kkma()\n",
    "\n",
    "print(kkma.nouns(data))\n",
    "print(kkma.pos(data))\n",
    "words=kkma.morphs(data)\n",
    "vocab=Counter(words)\n",
    "print(vocab)\n"
   ]
  },
  {
   "cell_type": "code",
   "execution_count": null,
   "metadata": {},
   "outputs": [],
   "source": [
    "from konlpy.tag import Kkma\n",
    "from collections import Counter\n",
    "\n",
    "infile = open(\"opinion.txt\", encoding='utf-8')\n",
    "data=infile.read()\n",
    "\n",
    "kkma = Kkma()\n",
    "words=kkma.morphs(data)\n",
    "\n",
    "vocab=Counter(words)\n",
    "print(vocab)\n"
   ]
  },
  {
   "cell_type": "code",
   "execution_count": 3,
   "metadata": {},
   "outputs": [
    {
     "name": "stdout",
     "output_type": "stream",
     "text": [
      "C:\\Users\\이준용\\AppData\\Local\\Microsoft\\WindowsApps\\python3.exe\n"
     ]
    }
   ],
   "source": [
    "!where python3\n"
   ]
  },
  {
   "cell_type": "code",
   "execution_count": 5,
   "metadata": {},
   "outputs": [
    {
     "name": "stderr",
     "output_type": "stream",
     "text": [
      "'Is'은(는) 내부 또는 외부 명령, 실행할 수 있는 프로그램, 또는\n",
      "배치 파일이 아닙니다.\n"
     ]
    }
   ],
   "source": [
    "!pip install konlpy"
   ]
  },
  {
   "cell_type": "code",
   "execution_count": null,
   "metadata": {},
   "outputs": [],
   "source": []
  }
 ],
 "metadata": {
  "kernelspec": {
   "display_name": "Python 3",
   "language": "python",
   "name": "python3"
  },
  "language_info": {
   "codemirror_mode": {
    "name": "ipython",
    "version": 3
   },
   "file_extension": ".py",
   "mimetype": "text/x-python",
   "name": "python",
   "nbconvert_exporter": "python",
   "pygments_lexer": "ipython3",
   "version": "3.8.5"
  }
 },
 "nbformat": 4,
 "nbformat_minor": 4
}
