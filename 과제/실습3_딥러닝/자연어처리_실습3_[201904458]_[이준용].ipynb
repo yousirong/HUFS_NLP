{
  "nbformat": 4,
  "nbformat_minor": 0,
  "metadata": {
    "colab": {
      "name": "자연어처리_실습3_[201904458]_[이준용].ipynb",
      "provenance": [],
      "collapsed_sections": []
    },
    "kernelspec": {
      "name": "python3",
      "display_name": "Python 3"
    },
    "language_info": {
      "name": "python"
    }
  },
  "cells": [
    {
      "cell_type": "markdown",
      "metadata": {
        "id": "5cHbt6LGZsXd"
      },
      "source": [
        "**사례1 : 필기체 숫자 인식**"
      ]
    },
    {
      "cell_type": "code",
      "metadata": {
        "id": "f4UivNeHOlfC"
      },
      "source": [
        "from keras.datasets import mnist\n",
        "\n",
        "(train_images, train_labels), (test_images, test_labels) = mnist.load_data()\n"
      ],
      "execution_count": 1,
      "outputs": []
    },
    {
      "cell_type": "code",
      "metadata": {
        "colab": {
          "base_uri": "https://localhost:8080/"
        },
        "id": "VeoY4ffuPO9R",
        "outputId": "894558ff-0e1d-4e6a-e497-569a51f5902c"
      },
      "source": [
        "train_images.shape\n",
        "len(train_labels)\n",
        "train_labels"
      ],
      "execution_count": 2,
      "outputs": [
        {
          "output_type": "execute_result",
          "data": {
            "text/plain": [
              "array([5, 0, 4, ..., 5, 6, 8], dtype=uint8)"
            ]
          },
          "metadata": {},
          "execution_count": 2
        }
      ]
    },
    {
      "cell_type": "code",
      "metadata": {
        "colab": {
          "base_uri": "https://localhost:8080/"
        },
        "id": "pYO4vNsWPiko",
        "outputId": "e28892bc-6c81-466c-e5ae-35152433a6c3"
      },
      "source": [
        "test_images.shape\n",
        "len(test_labels)\n",
        "test_labels"
      ],
      "execution_count": 3,
      "outputs": [
        {
          "output_type": "execute_result",
          "data": {
            "text/plain": [
              "array([7, 2, 1, ..., 4, 5, 6], dtype=uint8)"
            ]
          },
          "metadata": {},
          "execution_count": 3
        }
      ]
    },
    {
      "cell_type": "code",
      "metadata": {
        "colab": {
          "base_uri": "https://localhost:8080/",
          "height": 265
        },
        "id": "xujkrNMyP8RZ",
        "outputId": "d19ee026-e358-4c17-b654-db9c1fce41f5"
      },
      "source": [
        "digit = train_images[4]\n",
        "\n",
        "import matplotlib.pyplot as plt \n",
        "plt.imshow(digit, cmap=plt.cm.binary) \n",
        "plt.show()"
      ],
      "execution_count": 4,
      "outputs": [
        {
          "output_type": "display_data",
          "data": {
            "image/png": "[encoded data removed]",
            "text/plain": [
              "<Figure size 432x288 with 1 Axes>"
            ]
          },
          "metadata": {
            "needs_background": "light"
          }
        }
      ]
    },
    {
      "cell_type": "code",
      "metadata": {
        "id": "fNHSgQzRQhAt"
      },
      "source": [
        "from keras import models\n",
        "from keras import layers\n",
        "\n",
        "# Network architecture\n",
        "network = models.Sequential()\n",
        "network.add(layers.Dense(512, activation='relu', input_shape=(28 * 28,)))\n",
        "network.add(layers.Dense(10, activation='softmax'))\n",
        "\n"
      ],
      "execution_count": 5,
      "outputs": []
    },
    {
      "cell_type": "code",
      "metadata": {
        "id": "WbAejLZ3QxGu"
      },
      "source": [
        "train_images = train_images.reshape((60000, 28 * 28)) \n",
        "train_images = train_images.astype('float32') / 255 \n",
        "\n",
        "test_images = test_images.reshape((10000, 28 * 28)) \n",
        "test_images = test_images.astype('float32') / 255\n"
      ],
      "execution_count": 6,
      "outputs": []
    },
    {
      "cell_type": "code",
      "metadata": {
        "id": "Yp1S2JaaQ19E"
      },
      "source": [
        "#Keras is now fully intregrated into Tensorflow. So, importing only Keras causes error.\n",
        "#from keras.utils import to_categorical \n",
        "from tensorflow.keras.utils import to_categorical\n",
        "train_labels = to_categorical(train_labels) \n",
        "test_labels = to_categorical(test_labels)\n"
      ],
      "execution_count": 7,
      "outputs": []
    },
    {
      "cell_type": "code",
      "metadata": {
        "colab": {
          "base_uri": "https://localhost:8080/"
        },
        "id": "_PtEe7f5SZlg",
        "outputId": "dc3b1cfb-e759-44ee-c3ad-66985f37c803"
      },
      "source": [
        "network.compile(optimizer='rmsprop', \n",
        "\tloss='categorical_crossentropy', \n",
        "\tmetrics=['accuracy'])\n",
        "\n",
        "network.fit(train_images, train_labels, epochs=10, batch_size=128)\n"
      ],
      "execution_count": 8,
      "outputs": [
        {
          "output_type": "stream",
          "name": "stdout",
          "text": [
            "Epoch 1/10\n",
            "469/469 [==============================] - 6s 12ms/step - loss: 0.2599 - accuracy: 0.9247\n",
            "Epoch 2/10\n",
            "469/469 [==============================] - 4s 9ms/step - loss: 0.1053 - accuracy: 0.9693\n",
            "Epoch 3/10\n",
            "469/469 [==============================] - 5s 10ms/step - loss: 0.0705 - accuracy: 0.9785\n",
            "Epoch 4/10\n",
            "469/469 [==============================] - 5s 10ms/step - loss: 0.0516 - accuracy: 0.9845\n",
            "Epoch 5/10\n",
            "469/469 [==============================] - 5s 10ms/step - loss: 0.0382 - accuracy: 0.9884\n",
            "Epoch 6/10\n",
            "469/469 [==============================] - 5s 10ms/step - loss: 0.0299 - accuracy: 0.9913\n",
            "Epoch 7/10\n",
            "469/469 [==============================] - 5s 10ms/step - loss: 0.0216 - accuracy: 0.9937\n",
            "Epoch 8/10\n",
            "469/469 [==============================] - 4s 9ms/step - loss: 0.0178 - accuracy: 0.9951\n",
            "Epoch 9/10\n",
            "469/469 [==============================] - 4s 10ms/step - loss: 0.0132 - accuracy: 0.9963\n",
            "Epoch 10/10\n",
            "469/469 [==============================] - 5s 11ms/step - loss: 0.0105 - accuracy: 0.9968\n"
          ]
        },
        {
          "output_type": "execute_result",
          "data": {
            "text/plain": [
              "<keras.callbacks.History at 0x7f0275983290>"
            ]
          },
          "metadata": {},
          "execution_count": 8
        }
      ]
    },
    {
      "cell_type": "markdown",
      "metadata": {
        "id": "zxwPIDluYBeD"
      },
      "source": [
        "정확도가 ppt자료에 있는 숫자와 다르게 나타나는 이유는 학습 데이터셋에서 무작위로 선택된 128개의 데이터로 구성된 \"배치(batch)\"를 가져옵니다. 무작위 데이터의 작은 배치를 사용하는 방법을 학률적 학습(stochastic training)이라고 부르는데 이는 확률적 경사 하강법 입니다. 이상적으로는 학습의 매 단계마다 전체 데이터를 사용하고 싶지만, 그렇게 하면 작업이 무거워집니다. 따라서 그 대신에 매번 서로 다른 부분 집합을 사용하는 것이 그 이유입니다. 이렇게 하면 작업 내용은 가벼워지지만 전체 데이터를 쓸 때의 이점은 거의 다 얻을 수 있기 때문입니다."
      ]
    },
    {
      "cell_type": "markdown",
      "metadata": {
        "id": "0OgJLuGVZgEP"
      },
      "source": [
        "**사례 2: IMDB 영화평 긍정/부정 분류**"
      ]
    },
    {
      "cell_type": "code",
      "metadata": {
        "id": "BT_pwW5XZAVZ"
      },
      "source": [
        "from keras.datasets import imdb\n",
        "\n",
        "(train_data, train_labels), (test_data, test_labels) = imdb.load_data( num_words=10000)\n"
      ],
      "execution_count": 9,
      "outputs": []
    },
    {
      "cell_type": "code",
      "metadata": {
        "id": "khYI0UM5aUEw"
      },
      "source": [
        "word_index = imdb.get_word_index() \n",
        "reverse_word_index = dict([(value, key) for (key, value) in word_index.items()])\n",
        "decoded_review =' '.join([reverse_word_index.get(i - 3, '?') for i in train_data[0]])\n"
      ],
      "execution_count": 10,
      "outputs": []
    },
    {
      "cell_type": "code",
      "metadata": {
        "id": "89xQuDdwa-Xn"
      },
      "source": [
        "import numpy as np \n",
        "def vectorize_sequences(sequences, dimension=10000): \n",
        "\tresults = np.zeros((len(sequences), dimension)) \n",
        "\tfor i, sequence in enumerate(sequences): \n",
        "\t\tresults[i, sequence] = 1. \n",
        "\treturn results \n",
        "\n",
        "x_train = vectorize_sequences(train_data) \n",
        "x_test = vectorize_sequences(test_data)\n",
        "y_train = np.asarray(train_labels).astype('float32')\n",
        "y_test = np.asarray(test_labels).astype('float32')"
      ],
      "execution_count": 11,
      "outputs": []
    },
    {
      "cell_type": "code",
      "metadata": {
        "id": "GtwvMHQ_bSwn"
      },
      "source": [
        "from keras import models \n",
        "from keras import layers\n",
        "\n",
        "model = models.Sequential() \n",
        "model.add(layers.Dense(16, activation='relu', input_shape=(10000,))) \n",
        "model.add(layers.Dense(16, activation='relu')) \n",
        "model.add(layers.Dense(1, activation='sigmoid'))\n"
      ],
      "execution_count": 12,
      "outputs": []
    },
    {
      "cell_type": "code",
      "metadata": {
        "colab": {
          "base_uri": "https://localhost:8080/"
        },
        "id": "E3qiLX7kbYO8",
        "outputId": "57e572fe-dea8-46d2-de7a-d76d74a2b722"
      },
      "source": [
        "model.compile(optimizer='rmsprop', loss='binary_crossentropy', \n",
        "\tmetrics=['accuracy'])\n",
        "\n",
        "model.fit(x_train, y_train, epochs=6, batch_size=512)\n",
        "results = model.evaluate(x_test, y_test)\n"
      ],
      "execution_count": 13,
      "outputs": [
        {
          "output_type": "stream",
          "name": "stdout",
          "text": [
            "Epoch 1/6\n",
            "49/49 [==============================] - 2s 33ms/step - loss: 0.4354 - accuracy: 0.8265\n",
            "Epoch 2/6\n",
            "49/49 [==============================] - 1s 30ms/step - loss: 0.2512 - accuracy: 0.9097\n",
            "Epoch 3/6\n",
            "49/49 [==============================] - 1s 30ms/step - loss: 0.1959 - accuracy: 0.9290\n",
            "Epoch 4/6\n",
            "49/49 [==============================] - 1s 27ms/step - loss: 0.1653 - accuracy: 0.9408\n",
            "Epoch 5/6\n",
            "49/49 [==============================] - 1s 27ms/step - loss: 0.1438 - accuracy: 0.9495\n",
            "Epoch 6/6\n",
            "49/49 [==============================] - 1s 27ms/step - loss: 0.1273 - accuracy: 0.9551\n",
            "782/782 [==============================] - 2s 2ms/step - loss: 0.3346 - accuracy: 0.8757\n"
          ]
        }
      ]
    },
    {
      "cell_type": "code",
      "metadata": {
        "colab": {
          "base_uri": "https://localhost:8080/"
        },
        "id": "CBtbIhr9cMMD",
        "outputId": "d57fb444-6051-4170-faf6-628cb3fe7dd6"
      },
      "source": [
        "x_val = x_train[:10000]\n",
        "y_val = y_train[:10000]\n",
        "result_model = model.fit(x_train, y_train, epochs=6, batch_size=512, validation_data=(x_val, y_val))"
      ],
      "execution_count": 14,
      "outputs": [
        {
          "output_type": "stream",
          "name": "stdout",
          "text": [
            "Epoch 1/6\n",
            "49/49 [==============================] - 2s 47ms/step - loss: 0.1120 - accuracy: 0.9616 - val_loss: 0.0902 - val_accuracy: 0.9732\n",
            "Epoch 2/6\n",
            "49/49 [==============================] - 2s 33ms/step - loss: 0.1024 - accuracy: 0.9664 - val_loss: 0.0788 - val_accuracy: 0.9773\n",
            "Epoch 3/6\n",
            "49/49 [==============================] - 2s 40ms/step - loss: 0.0910 - accuracy: 0.9695 - val_loss: 0.0728 - val_accuracy: 0.9786\n",
            "Epoch 4/6\n",
            "49/49 [==============================] - 2s 43ms/step - loss: 0.0825 - accuracy: 0.9728 - val_loss: 0.0593 - val_accuracy: 0.9842\n",
            "Epoch 5/6\n",
            "49/49 [==============================] - 2s 40ms/step - loss: 0.0726 - accuracy: 0.9764 - val_loss: 0.0575 - val_accuracy: 0.9844\n",
            "Epoch 6/6\n",
            "49/49 [==============================] - 2s 40ms/step - loss: 0.0676 - accuracy: 0.9772 - val_loss: 0.0587 - val_accuracy: 0.9819\n"
          ]
        }
      ]
    },
    {
      "cell_type": "markdown",
      "metadata": {
        "id": "Rt_kn3blcw40"
      },
      "source": [
        "위에서 model.fit()메서드는 result_model객체를 반환합니다. 이 객체는 훈련하는 동안 발생한 모든 정보를 담고 있는 딕셔너리인 history 속성을 가지고 있습니다."
      ]
    },
    {
      "cell_type": "code",
      "metadata": {
        "colab": {
          "base_uri": "https://localhost:8080/"
        },
        "id": "87bDtC2Hcuek",
        "outputId": "15a3cbc8-d439-407f-925d-9ab8ce8aea7a"
      },
      "source": [
        "history_dict = result_model.history\n",
        "history_dict.keys()"
      ],
      "execution_count": 15,
      "outputs": [
        {
          "output_type": "execute_result",
          "data": {
            "text/plain": [
              "dict_keys(['loss', 'accuracy', 'val_loss', 'val_accuracy'])"
            ]
          },
          "metadata": {},
          "execution_count": 15
        }
      ]
    },
    {
      "cell_type": "code",
      "metadata": {
        "colab": {
          "base_uri": "https://localhost:8080/",
          "height": 295
        },
        "id": "GBRiSk-bd17s",
        "outputId": "c265b6ec-76e5-4f3f-af01-865835e892d6"
      },
      "source": [
        "import matplotlib.pyplot as plt\n",
        "loss = history_dict['loss']\n",
        "val_loss = history_dict['val_loss']\n",
        "\n",
        "epochs = range(1, len(loss) + 1)\n",
        "\n",
        "plt.plot(epochs, loss, 'bo', label='Training loss')  # ‘bo’는 파란색 점을 의미합니다.\n",
        "plt.plot(epochs, val_loss, 'b', label='Validation loss') # ‘b’는 파란색 실선을 의미합니다.\n",
        "plt.title('Training and validation loss')\n",
        "plt.xlabel('Epochs')\n",
        "plt.ylabel('Loss')\n",
        "plt.legend()\n",
        "\n",
        "plt.show()"
      ],
      "execution_count": 16,
      "outputs": [
        {
          "output_type": "display_data",
          "data": {
            "image/png": "[encoded data removed]",
            "text/plain": [
              "<Figure size 432x288 with 1 Axes>"
            ]
          },
          "metadata": {
            "needs_background": "light"
          }
        }
      ]
    },
    {
      "cell_type": "code",
      "metadata": {
        "colab": {
          "base_uri": "https://localhost:8080/",
          "height": 295
        },
        "id": "fNJR5N5FeWjS",
        "outputId": "820ac9d8-1307-4fdf-ac68-6ae3d6d5ef26"
      },
      "source": [
        "plt.clf() # 그래프를 초기화합니다.\n",
        "acc = history_dict['accuracy']\n",
        "val_acc = history_dict['val_accuracy']\n",
        "\n",
        "plt.plot(epochs, acc, 'bo', label='Training acc')\n",
        "plt.plot(epochs, val_acc, 'b', label='Validation acc')\n",
        "plt.title('Training and validation accuracy')\n",
        "plt.xlabel('Epochs')\n",
        "plt.ylabel('Accuracy')\n",
        "plt.legend()\n",
        "\n",
        "plt.show()"
      ],
      "execution_count": 17,
      "outputs": [
        {
          "output_type": "display_data",
          "data": {
            "image/png": "[encoded data removed]",
            "text/plain": [
              "<Figure size 432x288 with 1 Axes>"
            ]
          },
          "metadata": {
            "needs_background": "light"
          }
        }
      ]
    },
    {
      "cell_type": "markdown",
      "metadata": {
        "id": "r7ervI48e86M"
      },
      "source": [
        " 위에 그래프에서 볼 수 있듯이 훈련 손실이 epoch마다 감소하고 훈련 정확도는 에포크마다 증가합니다.\n",
        "경사 하강법 최적화를 사용했을 때 반복마다 최소화되는 것이 손실이므로 기대했던 대로 입니다. epochs가 6일때부터 그래프가 역전되는것을 볼 수 있습니다.\n",
        "이는 훈련 데이터가 과대적합되었음을 알 수 있습니다. 그러므로 과대 적합을 방지하기위해 과대 적합을 완화하는 방법을 사용 또는 처음부터 epoch을 5까지만 훈련하고 테스트 데이터에서 평가하는 방법을 사용해야 합니다."
      ]
    }
  ]
}