{
  "nbformat": 4,
  "nbformat_minor": 0,
  "metadata": {
    "colab": {
      "name": "Text_data_classification_eng_modeling_Random_forest.ipynb",
      "provenance": [],
      "collapsed_sections": [],
      "toc_visible": true,
      "include_colab_link": true
    },
    "kernelspec": {
      "name": "python3",
      "display_name": "Python 3"
    }
  },
  "cells": [
    {
      "cell_type": "markdown",
      "metadata": {
        "id": "view-in-github",
        "colab_type": "text"
      },
      "source": [
        "<a href=\"https://colab.research.google.com/github/jg116907/NLPstudy/blob/master/Text_data_classification_eng_modeling_Random_forest.ipynb\" target=\"_parent\"><img src=\"https://colab.research.google.com/assets/colab-badge.svg\" alt=\"Open In Colab\"/></a>"
      ]
    },
    {
      "cell_type": "markdown",
      "metadata": {
        "id": "5DRpOTagco9K",
        "colab_type": "text"
      },
      "source": [
        "# 모델링\n",
        "  2. 랜덤 포레스트 분류 모델\n",
        "    - 여러 개의 의사결정 트리의 결과값을 평균 낸 것\n",
        "    - 분류 또는 회귀가 가능\n",
        "    > - 의사결정 트리\n",
        "        - 자료구조 중 트리 구조의 형태를 띈다."
      ]
    },
    {
      "cell_type": "code",
      "metadata": {
        "id": "LjJqXGBKcmYQ",
        "colab_type": "code",
        "colab": {}
      },
      "source": [
        "# CountVectorizer를 활용한 벡터화\n",
        "import pandas as pd\n",
        "import numpy as np\n",
        "\n",
        "train_data = pd.read_csv(\"train_clean.csv\")\n",
        "\n",
        "reviews = list(train_data[\"review\"])\n",
        "y = np.array(train_data[\"sentiment\"])"
      ],
      "execution_count": 0,
      "outputs": []
    },
    {
      "cell_type": "code",
      "metadata": {
        "id": "DDpTMI6neRBP",
        "colab_type": "code",
        "colab": {}
      },
      "source": [
        "from sklearn.feature_extraction.text import CountVectorizer\n",
        "\n",
        "vectorizer = CountVectorizer(analyzer=\"word\",max_features=5000)\n",
        "\n",
        "train_data_features = vectorizer.fit_transform(reviews)"
      ],
      "execution_count": 0,
      "outputs": []
    },
    {
      "cell_type": "code",
      "metadata": {
        "id": "vss3Lr4dellk",
        "colab_type": "code",
        "colab": {
          "base_uri": "https://localhost:8080/",
          "height": 52
        },
        "outputId": "92aee67b-5616-4d53-94d1-1f30f990dae6"
      },
      "source": [
        "train_data_features"
      ],
      "execution_count": 6,
      "outputs": [
        {
          "output_type": "execute_result",
          "data": {
            "text/plain": [
              "<25000x5000 sparse matrix of type '<class 'numpy.int64'>'\n",
              "\twith 1975048 stored elements in Compressed Sparse Row format>"
            ]
          },
          "metadata": {
            "tags": []
          },
          "execution_count": 6
        }
      ]
    },
    {
      "cell_type": "code",
      "metadata": {
        "id": "njuEq9aAfFlU",
        "colab_type": "code",
        "colab": {}
      },
      "source": [
        "# train/data set 분리\n",
        "from sklearn.model_selection import train_test_split\n",
        "\n",
        "X = train_data_features\n",
        "\n",
        "train_input, eval_input, train_label, eval_label = train_test_split(X,y,test_size=0.2, random_state=42)"
      ],
      "execution_count": 0,
      "outputs": []
    },
    {
      "cell_type": "code",
      "metadata": {
        "id": "buUjBiVpgS3V",
        "colab_type": "code",
        "colab": {
          "base_uri": "https://localhost:8080/",
          "height": 140
        },
        "outputId": "27662fc8-371d-4d4a-f2a5-a9d6e219f9ab"
      },
      "source": [
        "# 모델 구현 및 학습\n",
        "from sklearn.ensemble import RandomForestClassifier\n",
        "\n",
        "# 랜덤 포레스트 분류기에 100개의 의사결정 트리를 사용\n",
        "forest = RandomForestClassifier(n_estimators=100)\n",
        "\n",
        "# 단어 묶음을 벡터화한 데이터와 정답 데이터를 가지고 학습을 시킨다.\n",
        "forest.fit(train_input, train_label)"
      ],
      "execution_count": 10,
      "outputs": [
        {
          "output_type": "execute_result",
          "data": {
            "text/plain": [
              "RandomForestClassifier(bootstrap=True, class_weight=None, criterion='gini',\n",
              "                       max_depth=None, max_features='auto', max_leaf_nodes=None,\n",
              "                       min_impurity_decrease=0.0, min_impurity_split=None,\n",
              "                       min_samples_leaf=1, min_samples_split=2,\n",
              "                       min_weight_fraction_leaf=0.0, n_estimators=100,\n",
              "                       n_jobs=None, oob_score=False, random_state=None,\n",
              "                       verbose=0, warm_start=False)"
            ]
          },
          "metadata": {
            "tags": []
          },
          "execution_count": 10
        }
      ]
    },
    {
      "cell_type": "code",
      "metadata": {
        "id": "P-hEn4gEg62B",
        "colab_type": "code",
        "colab": {
          "base_uri": "https://localhost:8080/",
          "height": 34
        },
        "outputId": "bc8c60f7-2898-4763-ef08-1d863a327851"
      },
      "source": [
        "print(\"Accuracy : \",forest.score(eval_input,eval_label)) # 검증 함수로 정확도 측정"
      ],
      "execution_count": 11,
      "outputs": [
        {
          "output_type": "stream",
          "text": [
            "Accuracy :  0.8422\n"
          ],
          "name": "stdout"
        }
      ]
    },
    {
      "cell_type": "code",
      "metadata": {
        "id": "5Es9lPKhhz0-",
        "colab_type": "code",
        "colab": {}
      },
      "source": [
        "# 결과 제출\n",
        "test_data = pd.read_csv(\"test_clean.csv\")\n",
        "\n",
        "test_reviews = list(test_data[\"review\"])\n",
        "ids = list(test_data[\"id\"])\n",
        "\n",
        "test_data_features = vectorizer.transform(test_reviews)\n",
        "test_predicted = forest.predict(test_data_features)"
      ],
      "execution_count": 0,
      "outputs": []
    },
    {
      "cell_type": "code",
      "metadata": {
        "id": "5IRI6VRUjS3g",
        "colab_type": "code",
        "colab": {}
      },
      "source": [
        "answer_df = pd.DataFrame({\"id\":ids,\"sentiment\":test_predicted})\n",
        "answer_df.to_csv(\"forest_answer.csv\",index=False,quoting=3)"
      ],
      "execution_count": 0,
      "outputs": []
    },
    {
      "cell_type": "code",
      "metadata": {
        "id": "JCl3qFhQkFqj",
        "colab_type": "code",
        "colab": {
          "base_uri": "https://localhost:8080/",
          "height": 70
        },
        "outputId": "00f612ed-de45-4e2c-fb99-46f1cfc28c01"
      },
      "source": [
        "!mkdir -p ~/.kaggle\n",
        "!cp kaggle.json ~/.kaggle/\n",
        "# 자신의 kaggle account에서 api key 생성 후 kaggle.json 업로드\n",
        "!chmod 600 ~/.kaggle/kaggle.json\n",
        "!kaggle competitions submit -c word2vec-nlp-tutorial -f forest_answer.csv -m \"Random forest\""
      ],
      "execution_count": 26,
      "outputs": [
        {
          "output_type": "stream",
          "text": [
            "Warning: Looks like you're using an outdated API Version, please consider updating (server 1.5.6 / client 1.5.4)\n",
            "100% 276k/276k [00:08<00:00, 34.7kB/s]\n",
            "Successfully submitted to Bag of Words Meets Bags of Popcorn"
          ],
          "name": "stdout"
        }
      ]
    },
    {
      "cell_type": "code",
      "metadata": {
        "id": "Mc9TFEJIl9Fu",
        "colab_type": "code",
        "colab": {}
      },
      "source": [
        ""
      ],
      "execution_count": 0,
      "outputs": []
    }
  ]
}