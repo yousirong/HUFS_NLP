{
  "nbformat": 4,
  "nbformat_minor": 0,
  "metadata": {
    "colab": {
      "name": "NLP_Tokenizing.ipynb",
      "version": "0.3.2",
      "provenance": [],
      "collapsed_sections": [],
      "include_colab_link": true
    },
    "kernelspec": {
      "name": "python3",
      "display_name": "Python 3"
    },
    "accelerator": "GPU"
  },
  "cells": [
    {
      "cell_type": "markdown",
      "metadata": {
        "id": "view-in-github",
        "colab_type": "text"
      },
      "source": [
        "<a href=\"https://colab.research.google.com/github/jg116907/NLPstudy/blob/master/NLP_Tokenizing.ipynb\" target=\"_parent\"><img src=\"https://colab.research.google.com/assets/colab-badge.svg\" alt=\"Open In Colab\"/></a>"
      ]
    },
    {
      "cell_type": "markdown",
      "metadata": {
        "id": "TzSvfHkOFbkG",
        "colab_type": "text"
      },
      "source": [
        "# 자연어 토크나이징\n",
        "- 예측해야 할 입력 정보(문장 또는 발화)를 하나의 특정 기본 단위로 자르는 것을 토크나이징이라 한다.\n"
      ]
    },
    {
      "cell_type": "markdown",
      "metadata": {
        "id": "i535yjPwF06E",
        "colab_type": "text"
      },
      "source": [
        "## 영어 토크나이징\n",
        "- NLTK(Natural Language Toolkit), Spacy가 토크나이징에 많이 쓰이는 대표적인 라이브러리."
      ]
    },
    {
      "cell_type": "code",
      "metadata": {
        "id": "7qNdnR2nFPll",
        "colab_type": "code",
        "colab": {}
      },
      "source": [
        "# NLTK\n",
        "# 빠르게 영어 텍스트 전처리가 가능\n",
        "!pip3 install nltk"
      ],
      "execution_count": 0,
      "outputs": []
    },
    {
      "cell_type": "code",
      "metadata": {
        "id": "XyumLzrmGbC5",
        "colab_type": "code",
        "colab": {}
      },
      "source": [
        "import nltk\n",
        "nltk.download() # 말뭉치(corpus)를 내려받아 연동\n",
        "# all-corpora : 텍스트 언어 분석을 위한 말뭉치 데이터 셋\n",
        "# book : 예시 데이터 셋"
      ],
      "execution_count": 0,
      "outputs": []
    },
    {
      "cell_type": "code",
      "metadata": {
        "id": "l_f4PwnkLZV4",
        "colab_type": "code",
        "colab": {}
      },
      "source": [
        "nltk.download('punkt')"
      ],
      "execution_count": 0,
      "outputs": []
    },
    {
      "cell_type": "code",
      "metadata": {
        "id": "pnYqsTGRGo-E",
        "colab_type": "code",
        "colab": {
          "base_uri": "https://localhost:8080/",
          "height": 54
        },
        "outputId": "b7977cf9-d431-4386-a783-7224201aee06"
      },
      "source": [
        "# 단어 단위 토크나이징\n",
        "from nltk.tokenize import word_tokenize\n",
        "sentence = \"Natural language processing (NLP) is a subfield of linguistics, \\\n",
        "computer science, information engineering, and artificial intelligence concerned \\\n",
        "with the interactions between computers and human (natural) languages, \\\n",
        "in particular how to program computers to process and analyze large amounts of natural language data. \\\n",
        "Challenges in natural language processing frequently involve speech recognition, \\\n",
        "natural language understanding, and natural language generation.\"\n",
        "\n",
        "print (word_tokenize(sentence))"
      ],
      "execution_count": 13,
      "outputs": [
        {
          "output_type": "stream",
          "text": [
            "['Natural', 'language', 'processing', '(', 'NLP', ')', 'is', 'a', 'subfield', 'of', 'linguistics', ',', 'computer', 'science', ',', 'information', 'engineering', ',', 'and', 'artificial', 'intelligence', 'concerned', 'with', 'the', 'interactions', 'between', 'computers', 'and', 'human', '(', 'natural', ')', 'languages', ',', 'in', 'particular', 'how', 'to', 'program', 'computers', 'to', 'process', 'and', 'analyze', 'large', 'amounts', 'of', 'natural', 'language', 'data', '.', 'Challenges', 'in', 'natural', 'language', 'processing', 'frequently', 'involve', 'speech', 'recognition', ',', 'natural', 'language', 'understanding', ',', 'and', 'natural', 'language', 'generation', '.']\n"
          ],
          "name": "stdout"
        }
      ]
    },
    {
      "cell_type": "code",
      "metadata": {
        "id": "Tk9o_gEyI3CZ",
        "colab_type": "code",
        "colab": {
          "base_uri": "https://localhost:8080/",
          "height": 54
        },
        "outputId": "0a03f192-c34c-444d-9f14-51167a1bb157"
      },
      "source": [
        "# 문장 단위 토크나이징\n",
        "from nltk.tokenize import sent_tokenize\n",
        "paragraph = \"Natural language processing (NLP) is a subfield of linguistics, \\\n",
        "computer science, information engineering, and artificial intelligence concerned \\\n",
        "with the interactions between computers and human (natural) languages, \\\n",
        "in particular how to program computers to process and analyze large amounts of natural language data. \\\n",
        "Challenges in natural language processing frequently involve speech recognition, \\\n",
        "natural language understanding, and natural language generation.\"\n",
        "\n",
        "print(sent_tokenize(paragraph))"
      ],
      "execution_count": 12,
      "outputs": [
        {
          "output_type": "stream",
          "text": [
            "['Natural language processing (NLP) is a subfield of linguistics, computer science, information engineering, and artificial intelligence concerned with the interactions between computers and human (natural) languages, in particular how to program computers to process and analyze large amounts of natural language data.', 'Challenges in natural language processing frequently involve speech recognition, natural language understanding, and natural language generation.']\n"
          ],
          "name": "stdout"
        }
      ]
    },
    {
      "cell_type": "code",
      "metadata": {
        "id": "-_HswRbyMEPk",
        "colab_type": "code",
        "colab": {}
      },
      "source": [
        "# Spacy\n",
        "!pip3 install spacy"
      ],
      "execution_count": 0,
      "outputs": []
    },
    {
      "cell_type": "code",
      "metadata": {
        "id": "ddjJRGLiNBJt",
        "colab_type": "code",
        "colab": {
          "base_uri": "https://localhost:8080/",
          "height": 160
        },
        "outputId": "0dc61ec0-de56-4826-c277-5a07ee4cbf7e"
      },
      "source": [
        "!python3 -m spacy download en # 언어 데이터 자료 설치"
      ],
      "execution_count": 15,
      "outputs": [
        {
          "output_type": "stream",
          "text": [
            "Requirement already satisfied: en_core_web_sm==2.1.0 from https://github.com/explosion/spacy-models/releases/download/en_core_web_sm-2.1.0/en_core_web_sm-2.1.0.tar.gz#egg=en_core_web_sm==2.1.0 in /usr/local/lib/python3.6/dist-packages (2.1.0)\n",
            "\u001b[38;5;2m✔ Download and installation successful\u001b[0m\n",
            "You can now load the model via spacy.load('en_core_web_sm')\n",
            "\u001b[38;5;2m✔ Linking successful\u001b[0m\n",
            "/usr/local/lib/python3.6/dist-packages/en_core_web_sm -->\n",
            "/usr/local/lib/python3.6/dist-packages/spacy/data/en\n",
            "You can now load the model via spacy.load('en')\n"
          ],
          "name": "stdout"
        }
      ]
    },
    {
      "cell_type": "code",
      "metadata": {
        "id": "auhEGNVbNOQj",
        "colab_type": "code",
        "colab": {}
      },
      "source": [
        "import spacy"
      ],
      "execution_count": 0,
      "outputs": []
    },
    {
      "cell_type": "code",
      "metadata": {
        "id": "2YB0SnCLNWjq",
        "colab_type": "code",
        "colab": {}
      },
      "source": [
        "nlp = spacy.load('en') # 토크나이징할 객체 생성 후 nlp 변수에 할당\n",
        "sentence = \"Natural language processing (NLP) is a subfield of linguistics, \\\n",
        "computer science, information engineering, and artificial intelligence concerned \\\n",
        "with the interactions between computers and human (natural) languages, \\\n",
        "in particular how to program computers to process and analyze large amounts of natural language data. \\\n",
        "Challenges in natural language processing frequently involve speech recognition, \\\n",
        "natural language understanding, and natural language generation.\"\n",
        "\n",
        "doc = nlp(sentence)"
      ],
      "execution_count": 0,
      "outputs": []
    },
    {
      "cell_type": "code",
      "metadata": {
        "id": "WPx3EvhnNkwm",
        "colab_type": "code",
        "colab": {
          "base_uri": "https://localhost:8080/",
          "height": 72
        },
        "outputId": "42aef219-e3a7-4eea-e5ed-6a453e239ceb"
      },
      "source": [
        "word_tokenized_sentence = [token.text for token in doc]\n",
        "sentence_tokenized_list = [sent.text for sent in doc.sents]\n",
        "print(word_tokenized_sentence)\n",
        "print(sentence_tokenized_list)"
      ],
      "execution_count": 18,
      "outputs": [
        {
          "output_type": "stream",
          "text": [
            "['Natural', 'language', 'processing', '(', 'NLP', ')', 'is', 'a', 'subfield', 'of', 'linguistics', ',', 'computer', 'science', ',', 'information', 'engineering', ',', 'and', 'artificial', 'intelligence', 'concerned', 'with', 'the', 'interactions', 'between', 'computers', 'and', 'human', '(', 'natural', ')', 'languages', ',', 'in', 'particular', 'how', 'to', 'program', 'computers', 'to', 'process', 'and', 'analyze', 'large', 'amounts', 'of', 'natural', 'language', 'data', '.', 'Challenges', 'in', 'natural', 'language', 'processing', 'frequently', 'involve', 'speech', 'recognition', ',', 'natural', 'language', 'understanding', ',', 'and', 'natural', 'language', 'generation', '.']\n",
            "['Natural language processing (NLP) is a subfield of linguistics, computer science, information engineering, and artificial intelligence concerned with the interactions between computers and human (natural) languages, in particular how to program computers to process and analyze large amounts of natural language data.', 'Challenges in natural language processing frequently involve speech recognition, natural language understanding, and natural language generation.']\n"
          ],
          "name": "stdout"
        }
      ]
    },
    {
      "cell_type": "markdown",
      "metadata": {
        "id": "YbwQNMbPO3jH",
        "colab_type": "text"
      },
      "source": [
        "## 한글 토크나이징 - KoNLPy\n",
        "- KoNLPy 라이브러리는 형태소 분석으로 형태소 단위의 토크나이징이 가능할 뿐만 아니라 구문 분석을 가능하게 한다."
      ]
    },
    {
      "cell_type": "code",
      "metadata": {
        "id": "7ApDoyy_OWYF",
        "colab_type": "code",
        "colab": {
          "base_uri": "https://localhost:8080/",
          "height": 70
        },
        "outputId": "39925363-ac04-4f94-e480-a7d831f5ad59"
      },
      "source": [
        "# KoNLPy\n",
        "!java -version # java가 설치되어 있어야 한다."
      ],
      "execution_count": 19,
      "outputs": [
        {
          "output_type": "stream",
          "text": [
            "openjdk version \"11.0.4\" 2019-07-16\n",
            "OpenJDK Runtime Environment (build 11.0.4+11-post-Ubuntu-1ubuntu218.04.3)\n",
            "OpenJDK 64-Bit Server VM (build 11.0.4+11-post-Ubuntu-1ubuntu218.04.3, mixed mode, sharing)\n"
          ],
          "name": "stdout"
        }
      ]
    },
    {
      "cell_type": "code",
      "metadata": {
        "id": "lHMqO--wPfYM",
        "colab_type": "code",
        "colab": {
          "base_uri": "https://localhost:8080/",
          "height": 158
        },
        "outputId": "6e68a117-bbf7-415f-f2b3-30bc424dd237"
      },
      "source": [
        "!pip3 install konlpy"
      ],
      "execution_count": 22,
      "outputs": [
        {
          "output_type": "stream",
          "text": [
            "Collecting konlpy\n",
            "\u001b[?25l  Downloading https://files.pythonhosted.org/packages/e5/3d/4e983cd98d87b50b2ab0387d73fa946f745aa8164e8888a714d5129f9765/konlpy-0.5.1-py2.py3-none-any.whl (19.4MB)\n",
            "\u001b[K     |████████████████████████████████| 19.4MB 4.9MB/s \n",
            "\u001b[?25hCollecting JPype1>=0.5.7 (from konlpy)\n",
            "\u001b[?25l  Downloading https://files.pythonhosted.org/packages/07/09/e19ce27d41d4f66d73ac5b6c6a188c51b506f56c7bfbe6c1491db2d15995/JPype1-0.7.0-cp36-cp36m-manylinux2010_x86_64.whl (2.7MB)\n",
            "\u001b[K     |████████████████████████████████| 2.7MB 40.3MB/s \n",
            "\u001b[?25hInstalling collected packages: JPype1, konlpy\n",
            "Successfully installed JPype1-0.7.0 konlpy-0.5.1\n"
          ],
          "name": "stdout"
        }
      ]
    },
    {
      "cell_type": "code",
      "metadata": {
        "id": "DOYU5zCiSXoA",
        "colab_type": "code",
        "colab": {}
      },
      "source": [
        "import konlpy"
      ],
      "execution_count": 0,
      "outputs": []
    },
    {
      "cell_type": "markdown",
      "metadata": {
        "id": "Lx8-pj1bTn9H",
        "colab_type": "text"
      },
      "source": [
        "## Okt를 이용한 형태소 분석\n",
        "- okt.morphs() : 텍스트를 형태소 단위로 나눈다.\n",
        "  > - option\n",
        "      - norm : 문장을 정규화\n",
        "      - stem : 각 단어에서 어간을 추출\n",
        "- okt.nouns() : 텍스트에서 명사만 뽑아낸다\n",
        "- okt.phrase() : 텍스트에서 어절을 뽑아낸다.\n",
        "- okt.pos() : 각 품사를 태깅하는 역할을 한다.\n",
        "  > 태깅 : 주어진 텍스트를 형태소 단위로 나누고, 나눠진 형태소를 그에 해당하는 품사와 함께 리스트화\n",
        "  - option\n",
        "    - norm, stem\n",
        "    - join : 나눠진 형태소와 품사를 '형태소/품사' 형태로 같이 붙여서 리스트화 "
      ]
    },
    {
      "cell_type": "code",
      "metadata": {
        "id": "WTRcCIEQStVZ",
        "colab_type": "code",
        "colab": {}
      },
      "source": [
        "from konlpy.tag import Okt # 다양한 객체 형태의 형태소 분석기들 중 Okt를 사용\n",
        "okt = Okt() # 객체 생성"
      ],
      "execution_count": 0,
      "outputs": []
    },
    {
      "cell_type": "code",
      "metadata": {
        "id": "3Iwv1AGlTdL8",
        "colab_type": "code",
        "colab": {
          "base_uri": "https://localhost:8080/",
          "height": 72
        },
        "outputId": "d733b446-435f-43fc-ea01-854994ce2b85"
      },
      "source": [
        "text = \"자연어 처리(自然語處理) 또는 자연 언어 처리(自然言語處理)는 인간의 언어 현상을 컴퓨터와 같은 기계를 이용해서 \\\n",
        "모사 할수 있도록 연구하고 이를 구현하는 인공지능의 주요 분야 중 하나다. \\\n",
        "자연 언어 처리는 연구 대상이 언어 이기 때문에 당연하게도 언어 자체를 연구하는 \\\n",
        "언어학과 언어 현상의 내적 기재를 탐구하는 언어 인지 과학과 연관이 깊다. \\\n",
        "구현을 위해 수학적 통계적 도구를 많이 활용하며 특히 기계학습 도구를 많이 사용하는 대표적인 분야이다. \\\n",
        "정보검색, QA 시스템, 문서 자동 분류, 신문기사 클러스터링, 대화형 Agent 등 다양한 응용이 이루어 지고 있다.\"\n",
        "\n",
        "print(okt.morphs(text))\n",
        "print(okt.morphs(text,stem=True)) # 형태소 단위로 나눈 후 어간을 추출"
      ],
      "execution_count": 28,
      "outputs": [
        {
          "output_type": "stream",
          "text": [
            "['자연어', '처리', '(', '自然語處理', ')', '또는', '자연', '언어', '처리', '(', '自然言語處理', ')', '는', '인간', '의', '언어', '현상', '을', '컴퓨터', '와', '같은', '기계', '를', '이용', '해서', '모사', '할수', '있도록', '연구', '하고', '이를', '구현', '하는', '인공', '지능', '의', '주요', '분야', '중', '하나', '다', '.', '자연', '언어', '처리', '는', '연구', '대상', '이', '언어', '이기', '때문', '에', '당연하게도', '언어', '자체', '를', '연구', '하는', '언어학', '과', '언어', '현상', '의', '내적', '기재', '를', '탐구', '하는', '언어', '인지', '과학', '과', '연관', '이', '깊다', '.', '구현', '을', '위해', '수학', '적', '통계', '적', '도구', '를', '많이', '활용', '하며', '특히', '기계학습', '도구', '를', '많이', '사용', '하는', '대표', '적', '인', '분야', '이다', '.', '정보검색', ',', 'QA', '시스템', ',', '문서', '자동', '분류', ',', '신문', '기사', '클러스터링', ',', '대화', '형', 'Agent', '등', '다양한', '응용', '이', '이루어', '지고', '있다', '.']\n",
            "['자연어', '처리', '(', '自然語處理', ')', '또는', '자연', '언어', '처리', '(', '自然言語處理', ')', '늘다', '인간', '의', '언어', '현상', '을', '컴퓨터', '와', '같다', '기계', '를', '이용', '하다', '모사', '하다', '있다', '연구', '하고', '이르다', '구현', '하다', '인공', '지능', '의', '주요', '분야', '중', '하나', '다', '.', '자연', '언어', '처리', '는', '연구', '대상', '이', '언어', '이기', '때문', '에', '당연하다', '언어', '자체', '를', '연구', '하다', '언어학', '과', '언어', '현상', '의', '내적', '기재', '를', '탐구', '하다', '언어', '인지', '과학', '과', '연관', '이', '깊다', '.', '구현', '을', '위해', '수학', '적', '통계', '적', '도구', '를', '많이', '활용', '하다', '특히', '기계학습', '도구', '를', '많이', '사용', '하다', '대표', '적', '인', '분야', '이다', '.', '정보검색', ',', 'QA', '시스템', ',', '문서', '자동', '분류', ',', '신문', '기사', '클러스터링', ',', '대화', '형', 'Agent', '등', '다양하다', '응용', '이', '이루다', '지고', '있다', '.']\n"
          ],
          "name": "stdout"
        }
      ]
    },
    {
      "cell_type": "code",
      "metadata": {
        "id": "A7ASGVbUV38j",
        "colab_type": "code",
        "colab": {
          "base_uri": "https://localhost:8080/",
          "height": 72
        },
        "outputId": "22cfc975-750a-41aa-baca-fcf19977d9ac"
      },
      "source": [
        "print(okt.nouns(text))\n",
        "print(okt.phrases(text))"
      ],
      "execution_count": 29,
      "outputs": [
        {
          "output_type": "stream",
          "text": [
            "['자연어', '처리', '자연', '언어', '처리', '인간', '언어', '현상', '컴퓨터', '기계', '이용', '모사', '연구', '구현', '인공', '지능', '주요', '분야', '중', '하나', '자연', '언어', '처리', '연구', '대상', '언어', '이기', '때문', '언어', '자체', '연구', '언어학', '언어', '현상', '내적', '기재', '탐구', '언어', '인지', '과학', '연관', '구현', '위해', '수학', '통계', '도구', '활용', '기계학습', '도구', '사용', '대표', '분야', '정보검색', '시스템', '문서', '자동', '분류', '신문', '기사', '클러스터링', '대화', '등', '응용', '지고']\n",
            "['자연어', '자연어 처리', '자연', '자연 언어', '자연 언어 처리', '인간', '인간의 언어', '인간의 언어 현상', '컴퓨터', '컴퓨터와 같은 기계', '이용', '모사', '연구', '구현', '구현하는 인공지능', '구현하는 인공지능의 주요', '구현하는 인공지능의 주요 분야', '구현하는 인공지능의 주요 분야 중', '구현하는 인공지능의 주요 분야 중 하나', '연구 대상', '언어', '언어 이기', '언어 이기 때문', '언어 자체', '연구하는 언어학', '연구하는 언어학과 언어', '연구하는 언어학과 언어 현상', '연구하는 언어학과 언어 현상의 내적', '탐구', '탐구하는 언어', '탐구하는 언어 인지', '탐구하는 언어 인지 과학', '탐구하는 언어 인지 과학과 연관', '위해', '위해 수학적 통계적 도구', '활용', '기계학습', '기계학습 도구', '사용', '분야', '정보검색', 'QA', 'QA 시스템', '문서', '문서 자동', '문서 자동 분류', '신문기사', '신문기사 클러스터링', '대화형', '대화형 Agent', '대화형 Agent 등', '대화형 Agent 등 다양한 응용', '지고', '처리', '현상', '기계', '인공', '지능', '주요', '하나', '대상', '이기', '때문', '자체', '언어학', '내적', '기재', '인지', '과학', '연관', '도구', '시스템', '자동', '분류', '신문', '기사', '클러스터링', 'Agent', '응용']\n"
          ],
          "name": "stdout"
        }
      ]
    },
    {
      "cell_type": "code",
      "metadata": {
        "id": "dAjRF6WtWNPq",
        "colab_type": "code",
        "colab": {
          "base_uri": "https://localhost:8080/",
          "height": 72
        },
        "outputId": "a0a5ab01-053f-4e93-93d1-6b6954f579cd"
      },
      "source": [
        "print(okt.pos(text))\n",
        "print(okt.pos(text, join=True))"
      ],
      "execution_count": 30,
      "outputs": [
        {
          "output_type": "stream",
          "text": [
            "[('자연어', 'Noun'), ('처리', 'Noun'), ('(', 'Punctuation'), ('自然語處理', 'Foreign'), (')', 'Punctuation'), ('또는', 'Adverb'), ('자연', 'Noun'), ('언어', 'Noun'), ('처리', 'Noun'), ('(', 'Punctuation'), ('自然言語處理', 'Foreign'), (')', 'Punctuation'), ('는', 'Verb'), ('인간', 'Noun'), ('의', 'Josa'), ('언어', 'Noun'), ('현상', 'Noun'), ('을', 'Josa'), ('컴퓨터', 'Noun'), ('와', 'Josa'), ('같은', 'Adjective'), ('기계', 'Noun'), ('를', 'Josa'), ('이용', 'Noun'), ('해서', 'Verb'), ('모사', 'Noun'), ('할수', 'Verb'), ('있도록', 'Adjective'), ('연구', 'Noun'), ('하고', 'Josa'), ('이를', 'Verb'), ('구현', 'Noun'), ('하는', 'Verb'), ('인공', 'Noun'), ('지능', 'Noun'), ('의', 'Josa'), ('주요', 'Noun'), ('분야', 'Noun'), ('중', 'Noun'), ('하나', 'Noun'), ('다', 'Josa'), ('.', 'Punctuation'), ('자연', 'Noun'), ('언어', 'Noun'), ('처리', 'Noun'), ('는', 'Josa'), ('연구', 'Noun'), ('대상', 'Noun'), ('이', 'Josa'), ('언어', 'Noun'), ('이기', 'Noun'), ('때문', 'Noun'), ('에', 'Josa'), ('당연하게도', 'Adjective'), ('언어', 'Noun'), ('자체', 'Noun'), ('를', 'Josa'), ('연구', 'Noun'), ('하는', 'Verb'), ('언어학', 'Noun'), ('과', 'Josa'), ('언어', 'Noun'), ('현상', 'Noun'), ('의', 'Josa'), ('내적', 'Noun'), ('기재', 'Noun'), ('를', 'Josa'), ('탐구', 'Noun'), ('하는', 'Verb'), ('언어', 'Noun'), ('인지', 'Noun'), ('과학', 'Noun'), ('과', 'Josa'), ('연관', 'Noun'), ('이', 'Josa'), ('깊다', 'Adjective'), ('.', 'Punctuation'), ('구현', 'Noun'), ('을', 'Josa'), ('위해', 'Noun'), ('수학', 'Noun'), ('적', 'Suffix'), ('통계', 'Noun'), ('적', 'Suffix'), ('도구', 'Noun'), ('를', 'Josa'), ('많이', 'Adverb'), ('활용', 'Noun'), ('하며', 'Verb'), ('특히', 'Adverb'), ('기계학습', 'Noun'), ('도구', 'Noun'), ('를', 'Josa'), ('많이', 'Adverb'), ('사용', 'Noun'), ('하는', 'Verb'), ('대표', 'Noun'), ('적', 'Suffix'), ('인', 'Josa'), ('분야', 'Noun'), ('이다', 'Josa'), ('.', 'Punctuation'), ('정보검색', 'Noun'), (',', 'Punctuation'), ('QA', 'Alpha'), ('시스템', 'Noun'), (',', 'Punctuation'), ('문서', 'Noun'), ('자동', 'Noun'), ('분류', 'Noun'), (',', 'Punctuation'), ('신문', 'Noun'), ('기사', 'Noun'), ('클러스터링', 'Noun'), (',', 'Punctuation'), ('대화', 'Noun'), ('형', 'Suffix'), ('Agent', 'Alpha'), ('등', 'Noun'), ('다양한', 'Adjective'), ('응용', 'Noun'), ('이', 'Josa'), ('이루어', 'Verb'), ('지고', 'Noun'), ('있다', 'Adjective'), ('.', 'Punctuation')]\n",
            "['자연어/Noun', '처리/Noun', '(/Punctuation', '自然語處理/Foreign', ')/Punctuation', '또는/Adverb', '자연/Noun', '언어/Noun', '처리/Noun', '(/Punctuation', '自然言語處理/Foreign', ')/Punctuation', '는/Verb', '인간/Noun', '의/Josa', '언어/Noun', '현상/Noun', '을/Josa', '컴퓨터/Noun', '와/Josa', '같은/Adjective', '기계/Noun', '를/Josa', '이용/Noun', '해서/Verb', '모사/Noun', '할수/Verb', '있도록/Adjective', '연구/Noun', '하고/Josa', '이를/Verb', '구현/Noun', '하는/Verb', '인공/Noun', '지능/Noun', '의/Josa', '주요/Noun', '분야/Noun', '중/Noun', '하나/Noun', '다/Josa', './Punctuation', '자연/Noun', '언어/Noun', '처리/Noun', '는/Josa', '연구/Noun', '대상/Noun', '이/Josa', '언어/Noun', '이기/Noun', '때문/Noun', '에/Josa', '당연하게도/Adjective', '언어/Noun', '자체/Noun', '를/Josa', '연구/Noun', '하는/Verb', '언어학/Noun', '과/Josa', '언어/Noun', '현상/Noun', '의/Josa', '내적/Noun', '기재/Noun', '를/Josa', '탐구/Noun', '하는/Verb', '언어/Noun', '인지/Noun', '과학/Noun', '과/Josa', '연관/Noun', '이/Josa', '깊다/Adjective', './Punctuation', '구현/Noun', '을/Josa', '위해/Noun', '수학/Noun', '적/Suffix', '통계/Noun', '적/Suffix', '도구/Noun', '를/Josa', '많이/Adverb', '활용/Noun', '하며/Verb', '특히/Adverb', '기계학습/Noun', '도구/Noun', '를/Josa', '많이/Adverb', '사용/Noun', '하는/Verb', '대표/Noun', '적/Suffix', '인/Josa', '분야/Noun', '이다/Josa', './Punctuation', '정보검색/Noun', ',/Punctuation', 'QA/Alpha', '시스템/Noun', ',/Punctuation', '문서/Noun', '자동/Noun', '분류/Noun', ',/Punctuation', '신문/Noun', '기사/Noun', '클러스터링/Noun', ',/Punctuation', '대화/Noun', '형/Suffix', 'Agent/Alpha', '등/Noun', '다양한/Adjective', '응용/Noun', '이/Josa', '이루어/Verb', '지고/Noun', '있다/Adjective', './Punctuation']\n"
          ],
          "name": "stdout"
        }
      ]
    },
    {
      "cell_type": "markdown",
      "metadata": {
        "id": "D4J5Kn7CWt2W",
        "colab_type": "text"
      },
      "source": [
        "## KoNLPy 데이터\n",
        "- kolaw : 한국 법률 말뭉치. 'constitution.txt'파일로 저장되어 있다.\n",
        "- kobill : 대한민국 국회 의안 말뭉치. 각 id 값을 가지는 의안으로 구성돼 있고 파일은 '1809890.txt' 부터 '1809899.txt'까지 구성"
      ]
    },
    {
      "cell_type": "code",
      "metadata": {
        "id": "fg2mh2AjWcQk",
        "colab_type": "code",
        "colab": {}
      },
      "source": [
        "from konlpy.corpus import kolaw\n",
        "from konlpy.corpus import kobill"
      ],
      "execution_count": 0,
      "outputs": []
    },
    {
      "cell_type": "code",
      "metadata": {
        "id": "ZAP8XVD4Xkql",
        "colab_type": "code",
        "colab": {
          "base_uri": "https://localhost:8080/",
          "height": 34
        },
        "outputId": "5e5167f6-a613-4d54-dccd-27f3b2c5a6a7"
      },
      "source": [
        "kolaw.open('constitution.txt').read()[:20]"
      ],
      "execution_count": 32,
      "outputs": [
        {
          "output_type": "execute_result",
          "data": {
            "text/plain": [
              "'대한민국헌법\\n\\n유구한 역사와 전통에 '"
            ]
          },
          "metadata": {
            "tags": []
          },
          "execution_count": 32
        }
      ]
    },
    {
      "cell_type": "code",
      "metadata": {
        "id": "3JkeqFHxXrDE",
        "colab_type": "code",
        "colab": {
          "base_uri": "https://localhost:8080/",
          "height": 34
        },
        "outputId": "7fde3003-c31a-467a-efdb-42cafcc0af48"
      },
      "source": [
        "kobill.open('1809890.txt').read()[:30]"
      ],
      "execution_count": 35,
      "outputs": [
        {
          "output_type": "execute_result",
          "data": {
            "text/plain": [
              "'지방공무원법 일부개정법률안\\n\\n(정의화의원 대표발의 )\\n'"
            ]
          },
          "metadata": {
            "tags": []
          },
          "execution_count": 35
        }
      ]
    }
  ]
}