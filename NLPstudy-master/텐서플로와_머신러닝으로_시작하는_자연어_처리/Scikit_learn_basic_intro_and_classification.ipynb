{
  "nbformat": 4,
  "nbformat_minor": 0,
  "metadata": {
    "colab": {
      "name": "Scikit_learn_basic_intro_and_classification.ipynb",
      "version": "0.3.2",
      "provenance": [],
      "collapsed_sections": [],
      "include_colab_link": true
    },
    "kernelspec": {
      "name": "python3",
      "display_name": "Python 3"
    },
    "accelerator": "GPU"
  },
  "cells": [
    {
      "cell_type": "markdown",
      "metadata": {
        "id": "view-in-github",
        "colab_type": "text"
      },
      "source": [
        "<a href=\"https://colab.research.google.com/github/jg116907/NLPstudy/blob/master/Scikit_learn_basic_intro_and_classification.ipynb\" target=\"_parent\"><img src=\"https://colab.research.google.com/assets/colab-badge.svg\" alt=\"Open In Colab\"/></a>"
      ]
    },
    {
      "cell_type": "markdown",
      "metadata": {
        "id": "b-mzPHF5lAXA",
        "colab_type": "text"
      },
      "source": [
        "# Scikit-learn Basic\n",
        "- 파이썬용 머신러닝 라이브러리\n",
        "- 크게 5가지의 모듈로 나뉜다.\n",
        "  - 지도학습을 위한 모듈\n",
        "    - 나이브 베이즈(Naive Bayes)\n",
        "    - 의사결정 트리(Decision Tree)\n",
        "    - 서포트 벡터 머신(SVM)\n",
        "  - 비지도학습을 위한 모듈\n",
        "    - 군집화(Clustering)\n",
        "    - 가우시안 혼합 모델(Gaussian mixture models)\n",
        "  - 모델 선택 및 평가를 위한 모듈\n",
        "    - 교차 검증(Cross validation)\n",
        "    - 모델 평가(Model evaluation)\n",
        "    - 모델 저장과 불러오기\n",
        "  - 데이터 변환 및 데이터 불러오기를 위한 모듈\n",
        "    - 파이프라인(Pipeline)\n",
        "    - 특징 추출(Feature extraction)\n",
        "    - 데이터 전처리(Preprocessing data)\n",
        "    - 차원 축소(dimensionality reduction)\n",
        "  - 계산 성능 향상을 위한 모듈"
      ]
    },
    {
      "cell_type": "code",
      "metadata": {
        "id": "HjnYxfUek66Z",
        "colab_type": "code",
        "colab": {
          "base_uri": "https://localhost:8080/",
          "height": 34
        },
        "outputId": "265706b0-638e-46e5-f2d2-2b8c1596ab8e"
      },
      "source": [
        "# 버전 확인\n",
        "import sklearn\n",
        "sklearn.__version__"
      ],
      "execution_count": 1,
      "outputs": [
        {
          "output_type": "execute_result",
          "data": {
            "text/plain": [
              "'0.21.3'"
            ]
          },
          "metadata": {
            "tags": []
          },
          "execution_count": 1
        }
      ]
    },
    {
      "cell_type": "markdown",
      "metadata": {
        "id": "CHRb1-jdsYTK",
        "colab_type": "text"
      },
      "source": [
        "## Scikit-learn으로 Iris 데이터 분류하기"
      ]
    },
    {
      "cell_type": "markdown",
      "metadata": {
        "id": "Kckf-7QsuYzh",
        "colab_type": "text"
      },
      "source": [
        "- 데이터 정보 확인"
      ]
    },
    {
      "cell_type": "code",
      "metadata": {
        "id": "clweRecGo_hV",
        "colab_type": "code",
        "colab": {
          "base_uri": "https://localhost:8080/",
          "height": 34
        },
        "outputId": "a92b8cd0-c178-44f5-db8b-7bc4a879a115"
      },
      "source": [
        "from sklearn.datasets import load_iris\n",
        "\n",
        "iris_dataset = load_iris()\n",
        "print(\"iris_dataset key : {}\".format(iris_dataset.keys()))"
      ],
      "execution_count": 13,
      "outputs": [
        {
          "output_type": "stream",
          "text": [
            "iris_dataset key : dict_keys(['data', 'target', 'target_names', 'DESCR', 'feature_names', 'filename'])\n"
          ],
          "name": "stdout"
        }
      ]
    },
    {
      "cell_type": "code",
      "metadata": {
        "id": "bcIMIgnIt3BJ",
        "colab_type": "code",
        "colab": {
          "base_uri": "https://localhost:8080/",
          "height": 122
        },
        "outputId": "6439d2f8-3348-49f6-d84a-b5301c8c5612"
      },
      "source": [
        "print(iris_dataset['data'][:5]) # 독립 변수의 데이터를 5행 까지만 확인\n",
        "print(\"shape of data : {}\".format(iris_dataset['data'].shape)) # 150행 4열"
      ],
      "execution_count": 14,
      "outputs": [
        {
          "output_type": "stream",
          "text": [
            "[[5.1 3.5 1.4 0.2]\n",
            " [4.9 3.  1.4 0.2]\n",
            " [4.7 3.2 1.3 0.2]\n",
            " [4.6 3.1 1.5 0.2]\n",
            " [5.  3.6 1.4 0.2]]\n",
            "shape of data : (150, 4)\n"
          ],
          "name": "stdout"
        }
      ]
    },
    {
      "cell_type": "code",
      "metadata": {
        "id": "GczSaapur9gO",
        "colab_type": "code",
        "colab": {
          "base_uri": "https://localhost:8080/",
          "height": 34
        },
        "outputId": "299134ec-0bc7-43e7-c2b6-8ef7db3bc263"
      },
      "source": [
        "print(iris_dataset['feature_names']) # 독립 변수들의 이름"
      ],
      "execution_count": 9,
      "outputs": [
        {
          "output_type": "stream",
          "text": [
            "['sepal length (cm)', 'sepal width (cm)', 'petal length (cm)', 'petal width (cm)']\n"
          ],
          "name": "stdout"
        }
      ]
    },
    {
      "cell_type": "code",
      "metadata": {
        "id": "3RAUhhXptFmH",
        "colab_type": "code",
        "colab": {
          "base_uri": "https://localhost:8080/",
          "height": 122
        },
        "outputId": "cc30ef90-a375-46c3-d142-cb90a8e428a9"
      },
      "source": [
        "print(iris_dataset['target']) # 종속 변수 데이터, label 값\n",
        "print(iris_dataset['target_names']) # 종속 변수들의 이름"
      ],
      "execution_count": 10,
      "outputs": [
        {
          "output_type": "stream",
          "text": [
            "[0 0 0 0 0 0 0 0 0 0 0 0 0 0 0 0 0 0 0 0 0 0 0 0 0 0 0 0 0 0 0 0 0 0 0 0 0\n",
            " 0 0 0 0 0 0 0 0 0 0 0 0 0 1 1 1 1 1 1 1 1 1 1 1 1 1 1 1 1 1 1 1 1 1 1 1 1\n",
            " 1 1 1 1 1 1 1 1 1 1 1 1 1 1 1 1 1 1 1 1 1 1 1 1 1 1 2 2 2 2 2 2 2 2 2 2 2\n",
            " 2 2 2 2 2 2 2 2 2 2 2 2 2 2 2 2 2 2 2 2 2 2 2 2 2 2 2 2 2 2 2 2 2 2 2 2 2\n",
            " 2 2]\n",
            "['setosa' 'versicolor' 'virginica']\n"
          ],
          "name": "stdout"
        }
      ]
    },
    {
      "cell_type": "code",
      "metadata": {
        "id": "BOrQBHbWtcmE",
        "colab_type": "code",
        "colab": {
          "base_uri": "https://localhost:8080/",
          "height": 1000
        },
        "outputId": "dae92b11-c2aa-4db7-8d8c-66d9412bc1ce"
      },
      "source": [
        "print(iris_dataset['DESCR']) # iris 데이터에 대한 전체적인 요약정보"
      ],
      "execution_count": 15,
      "outputs": [
        {
          "output_type": "stream",
          "text": [
            ".. _iris_dataset:\n",
            "\n",
            "Iris plants dataset\n",
            "--------------------\n",
            "\n",
            "**Data Set Characteristics:**\n",
            "\n",
            "    :Number of Instances: 150 (50 in each of three classes)\n",
            "    :Number of Attributes: 4 numeric, predictive attributes and the class\n",
            "    :Attribute Information:\n",
            "        - sepal length in cm\n",
            "        - sepal width in cm\n",
            "        - petal length in cm\n",
            "        - petal width in cm\n",
            "        - class:\n",
            "                - Iris-Setosa\n",
            "                - Iris-Versicolour\n",
            "                - Iris-Virginica\n",
            "                \n",
            "    :Summary Statistics:\n",
            "\n",
            "    ============== ==== ==== ======= ===== ====================\n",
            "                    Min  Max   Mean    SD   Class Correlation\n",
            "    ============== ==== ==== ======= ===== ====================\n",
            "    sepal length:   4.3  7.9   5.84   0.83    0.7826\n",
            "    sepal width:    2.0  4.4   3.05   0.43   -0.4194\n",
            "    petal length:   1.0  6.9   3.76   1.76    0.9490  (high!)\n",
            "    petal width:    0.1  2.5   1.20   0.76    0.9565  (high!)\n",
            "    ============== ==== ==== ======= ===== ====================\n",
            "\n",
            "    :Missing Attribute Values: None\n",
            "    :Class Distribution: 33.3% for each of 3 classes.\n",
            "    :Creator: R.A. Fisher\n",
            "    :Donor: Michael Marshall (MARSHALL%PLU@io.arc.nasa.gov)\n",
            "    :Date: July, 1988\n",
            "\n",
            "The famous Iris database, first used by Sir R.A. Fisher. The dataset is taken\n",
            "from Fisher's paper. Note that it's the same as in R, but not as in the UCI\n",
            "Machine Learning Repository, which has two wrong data points.\n",
            "\n",
            "This is perhaps the best known database to be found in the\n",
            "pattern recognition literature.  Fisher's paper is a classic in the field and\n",
            "is referenced frequently to this day.  (See Duda & Hart, for example.)  The\n",
            "data set contains 3 classes of 50 instances each, where each class refers to a\n",
            "type of iris plant.  One class is linearly separable from the other 2; the\n",
            "latter are NOT linearly separable from each other.\n",
            "\n",
            ".. topic:: References\n",
            "\n",
            "   - Fisher, R.A. \"The use of multiple measurements in taxonomic problems\"\n",
            "     Annual Eugenics, 7, Part II, 179-188 (1936); also in \"Contributions to\n",
            "     Mathematical Statistics\" (John Wiley, NY, 1950).\n",
            "   - Duda, R.O., & Hart, P.E. (1973) Pattern Classification and Scene Analysis.\n",
            "     (Q327.D83) John Wiley & Sons.  ISBN 0-471-22361-1.  See page 218.\n",
            "   - Dasarathy, B.V. (1980) \"Nosing Around the Neighborhood: A New System\n",
            "     Structure and Classification Rule for Recognition in Partially Exposed\n",
            "     Environments\".  IEEE Transactions on Pattern Analysis and Machine\n",
            "     Intelligence, Vol. PAMI-2, No. 1, 67-71.\n",
            "   - Gates, G.W. (1972) \"The Reduced Nearest Neighbor Rule\".  IEEE Transactions\n",
            "     on Information Theory, May 1972, 431-433.\n",
            "   - See also: 1988 MLC Proceedings, 54-64.  Cheeseman et al\"s AUTOCLASS II\n",
            "     conceptual clustering system finds 3 classes in the data.\n",
            "   - Many, many more ...\n"
          ],
          "name": "stdout"
        }
      ]
    },
    {
      "cell_type": "markdown",
      "metadata": {
        "id": "CcKPViL_uOq-",
        "colab_type": "text"
      },
      "source": [
        "- Train / Test 분리"
      ]
    },
    {
      "cell_type": "code",
      "metadata": {
        "id": "_r-tNYdJuALU",
        "colab_type": "code",
        "colab": {}
      },
      "source": [
        "from sklearn.model_selection import train_test_split"
      ],
      "execution_count": 0,
      "outputs": []
    },
    {
      "cell_type": "code",
      "metadata": {
        "id": "kn0kq6NDumbu",
        "colab_type": "code",
        "colab": {}
      },
      "source": [
        "train_input, test_input, train_label, test_label = train_test_split(iris_dataset['data'],iris_dataset['target'],test_size=0.25,random_state=42) # 25%를 test로 분리"
      ],
      "execution_count": 0,
      "outputs": []
    },
    {
      "cell_type": "code",
      "metadata": {
        "id": "OMtER-STu_Qu",
        "colab_type": "code",
        "colab": {
          "base_uri": "https://localhost:8080/",
          "height": 87
        },
        "outputId": "2e7d7663-acd0-4910-f98a-6898a6c762c3"
      },
      "source": [
        "# 3:1로 나눠진 것을 확인\n",
        "print(\"shape of train_input : {}\".format(train_input.shape))\n",
        "print(\"shape of test_input : {}\".format(test_input.shape))\n",
        "print(\"shape of train_label : {}\".format(train_label.shape))\n",
        "print(\"shape of test_input : {}\".format(test_label.shape))"
      ],
      "execution_count": 18,
      "outputs": [
        {
          "output_type": "stream",
          "text": [
            "shape of train_input : (112, 4)\n",
            "shape of test_input : (38, 4)\n",
            "shape of train_label : (112,)\n",
            "shape of test_input : (38,)\n"
          ],
          "name": "stdout"
        }
      ]
    },
    {
      "cell_type": "markdown",
      "metadata": {
        "id": "qZ33yqwTv-wX",
        "colab_type": "text"
      },
      "source": [
        "### KNN 모델 사용"
      ]
    },
    {
      "cell_type": "code",
      "metadata": {
        "id": "7PVO7cKNveO_",
        "colab_type": "code",
        "colab": {}
      },
      "source": [
        "from sklearn.neighbors import KNeighborsClassifier\n",
        "knn = KNeighborsClassifier(n_neighbors = 1) # k = 1 인 분류기를 생성"
      ],
      "execution_count": 0,
      "outputs": []
    },
    {
      "cell_type": "code",
      "metadata": {
        "id": "j1jbfBXEwYHZ",
        "colab_type": "code",
        "colab": {
          "base_uri": "https://localhost:8080/",
          "height": 70
        },
        "outputId": "8a39a266-a454-4924-9462-5c0563bd94bb"
      },
      "source": [
        "knn.fit(train_input, train_label) # 학습 데이터에 적용"
      ],
      "execution_count": 20,
      "outputs": [
        {
          "output_type": "execute_result",
          "data": {
            "text/plain": [
              "KNeighborsClassifier(algorithm='auto', leaf_size=30, metric='minkowski',\n",
              "                     metric_params=None, n_jobs=None, n_neighbors=1, p=2,\n",
              "                     weights='uniform')"
            ]
          },
          "metadata": {
            "tags": []
          },
          "execution_count": 20
        }
      ]
    },
    {
      "cell_type": "markdown",
      "metadata": {
        "id": "n32nFlSYxVu3",
        "colab_type": "text"
      },
      "source": [
        "- 새로운 input 데이터를 분류해보기"
      ]
    },
    {
      "cell_type": "code",
      "metadata": {
        "id": "hNVadpfnwqCH",
        "colab_type": "code",
        "colab": {}
      },
      "source": [
        "import numpy as np\n",
        "new_input = np.array([[6.1,2.8,4.7,1.2]]) # 새로운 input 값 생성"
      ],
      "execution_count": 0,
      "outputs": []
    },
    {
      "cell_type": "code",
      "metadata": {
        "id": "VVhIDyD9xEvv",
        "colab_type": "code",
        "colab": {
          "base_uri": "https://localhost:8080/",
          "height": 34
        },
        "outputId": "dd0681b3-c96a-45ad-dcb9-2268cdf660d9"
      },
      "source": [
        "knn.predict(new_input) # Versicolor로 예측한다"
      ],
      "execution_count": 22,
      "outputs": [
        {
          "output_type": "execute_result",
          "data": {
            "text/plain": [
              "array([1])"
            ]
          },
          "metadata": {
            "tags": []
          },
          "execution_count": 22
        }
      ]
    },
    {
      "cell_type": "markdown",
      "metadata": {
        "id": "T6oLwpJFxd1B",
        "colab_type": "text"
      },
      "source": [
        "- 모델 성능 측정"
      ]
    },
    {
      "cell_type": "code",
      "metadata": {
        "id": "iQb0ff2MxJf3",
        "colab_type": "code",
        "colab": {
          "base_uri": "https://localhost:8080/",
          "height": 52
        },
        "outputId": "9030372c-9a7a-4ae2-d454-ab92be3f5b15"
      },
      "source": [
        "predict_label = knn.predict(test_input) # test 데이터를 분류\n",
        "print(predict_label)"
      ],
      "execution_count": 23,
      "outputs": [
        {
          "output_type": "stream",
          "text": [
            "[1 0 2 1 1 0 1 2 1 1 2 0 0 0 0 1 2 1 1 2 0 2 0 2 2 2 2 2 0 0 0 0 1 0 0 2 1\n",
            " 0]\n"
          ],
          "name": "stdout"
        }
      ]
    },
    {
      "cell_type": "code",
      "metadata": {
        "id": "ZwVCv3oxyFiN",
        "colab_type": "code",
        "colab": {
          "base_uri": "https://localhost:8080/",
          "height": 34
        },
        "outputId": "3f17bcd8-7899-450d-cc50-487b2cf182b7"
      },
      "source": [
        "print('test accuracy {:.2f}'.format(np.mean(predict_label==test_label))) # 정확도 산출"
      ],
      "execution_count": 24,
      "outputs": [
        {
          "output_type": "stream",
          "text": [
            "test accuracy 1.00\n"
          ],
          "name": "stdout"
        }
      ]
    },
    {
      "cell_type": "markdown",
      "metadata": {
        "id": "P096iaWfzgBQ",
        "colab_type": "text"
      },
      "source": [
        "### K-means 모델 사용"
      ]
    },
    {
      "cell_type": "code",
      "metadata": {
        "id": "Nqp82XBpyfjE",
        "colab_type": "code",
        "colab": {}
      },
      "source": [
        "from sklearn.cluster import KMeans\n",
        "k_means = KMeans(n_clusters=3)"
      ],
      "execution_count": 0,
      "outputs": []
    },
    {
      "cell_type": "code",
      "metadata": {
        "id": "mXWju6qQz8-5",
        "colab_type": "code",
        "colab": {
          "base_uri": "https://localhost:8080/",
          "height": 70
        },
        "outputId": "2317f3af-9157-4a77-c2c1-12abcde127d7"
      },
      "source": [
        "k_means.fit(train_input) # 비지도 학습이기 때문에 input data만 받는다"
      ],
      "execution_count": 26,
      "outputs": [
        {
          "output_type": "execute_result",
          "data": {
            "text/plain": [
              "KMeans(algorithm='auto', copy_x=True, init='k-means++', max_iter=300,\n",
              "       n_clusters=3, n_init=10, n_jobs=None, precompute_distances='auto',\n",
              "       random_state=None, tol=0.0001, verbose=0)"
            ]
          },
          "metadata": {
            "tags": []
          },
          "execution_count": 26
        }
      ]
    },
    {
      "cell_type": "code",
      "metadata": {
        "id": "BPyrmWkU0BQw",
        "colab_type": "code",
        "colab": {
          "base_uri": "https://localhost:8080/",
          "height": 122
        },
        "outputId": "e3eda267-d4c0-44e8-ee90-0e7fd7308727"
      },
      "source": [
        "k_means.labels_ # 분류된 cluster를 확인"
      ],
      "execution_count": 27,
      "outputs": [
        {
          "output_type": "execute_result",
          "data": {
            "text/plain": [
              "array([1, 1, 0, 0, 0, 1, 1, 0, 0, 2, 0, 2, 0, 2, 0, 1, 2, 0, 1, 1, 1, 0,\n",
              "       0, 1, 1, 1, 0, 1, 0, 2, 1, 0, 0, 1, 0, 0, 0, 0, 2, 0, 1, 0, 2, 1,\n",
              "       1, 0, 2, 1, 0, 1, 1, 0, 0, 2, 0, 2, 2, 0, 1, 1, 0, 2, 1, 1, 1, 0,\n",
              "       2, 1, 2, 2, 1, 0, 0, 0, 2, 2, 1, 2, 0, 2, 0, 0, 0, 1, 0, 0, 1, 0,\n",
              "       2, 2, 1, 0, 2, 2, 1, 2, 1, 2, 2, 2, 0, 2, 0, 0, 0, 0, 1, 0, 0, 1,\n",
              "       0, 2], dtype=int32)"
            ]
          },
          "metadata": {
            "tags": []
          },
          "execution_count": 27
        }
      ]
    },
    {
      "cell_type": "code",
      "metadata": {
        "id": "_rkRWade0YFl",
        "colab_type": "code",
        "colab": {
          "base_uri": "https://localhost:8080/",
          "height": 87
        },
        "outputId": "12213bfc-d9b6-42b7-a7aa-163c4996058d"
      },
      "source": [
        "print(\"0 cluster : \",train_label[k_means.labels_==0])\n",
        "print(\"1 cluster : \",train_label[k_means.labels_==1])\n",
        "print(\"2 cluster : \",train_label[k_means.labels_==2])"
      ],
      "execution_count": 28,
      "outputs": [
        {
          "output_type": "stream",
          "text": [
            "0 cluster :  [2 1 1 1 2 1 1 1 1 1 2 1 1 1 2 2 2 1 1 1 1 1 2 1 1 1 1 2 1 1 1 2 1 1 1 1 1\n",
            " 1 1 1 1 1 1 2 2 1 2 1]\n",
            "1 cluster :  [0 0 0 0 0 0 0 0 0 0 0 0 0 0 0 0 0 0 0 0 0 0 0 0 0 0 0 0 0 0 0 0 0 0 0]\n",
            "2 cluster :  [2 2 2 2 2 2 2 1 2 2 2 2 2 2 2 1 2 2 2 2 2 2 2 2 1 2 2 2 2]\n"
          ],
          "name": "stdout"
        }
      ]
    },
    {
      "cell_type": "code",
      "metadata": {
        "id": "K32V1_ss01iu",
        "colab_type": "code",
        "colab": {}
      },
      "source": [
        "import numpy as np\n",
        "new_input = np.array([[6.1,2.8,4.7,1.2]]) # 새로운 input 값 생성"
      ],
      "execution_count": 0,
      "outputs": []
    },
    {
      "cell_type": "code",
      "metadata": {
        "id": "18Io6Oeu1DNk",
        "colab_type": "code",
        "colab": {
          "base_uri": "https://localhost:8080/",
          "height": 34
        },
        "outputId": "1659cfa6-057e-4ecb-f913-37d25bae39d4"
      },
      "source": [
        "prediction = k_means.predict(new_input)\n",
        "print(prediction)"
      ],
      "execution_count": 30,
      "outputs": [
        {
          "output_type": "stream",
          "text": [
            "[0]\n"
          ],
          "name": "stdout"
        }
      ]
    },
    {
      "cell_type": "code",
      "metadata": {
        "id": "gy8S8m8o1Kh6",
        "colab_type": "code",
        "colab": {
          "base_uri": "https://localhost:8080/",
          "height": 52
        },
        "outputId": "d9bdb254-c7d2-4a11-86c9-a8aef4d9d29a"
      },
      "source": [
        "predict_cluster = k_means.predict(test_input)\n",
        "print(predict_cluster)"
      ],
      "execution_count": 32,
      "outputs": [
        {
          "output_type": "stream",
          "text": [
            "[0 1 2 0 0 1 0 2 0 0 2 1 1 1 1 0 2 0 0 2 1 0 1 2 2 2 2 2 1 1 1 1 0 1 1 0 0\n",
            " 1]\n"
          ],
          "name": "stdout"
        }
      ]
    },
    {
      "cell_type": "code",
      "metadata": {
        "id": "12wfaWVu1o8Z",
        "colab_type": "code",
        "colab": {
          "base_uri": "https://localhost:8080/",
          "height": 34
        },
        "outputId": "94450be3-c17b-4d2d-a030-10932d928218"
      },
      "source": [
        "# 라벨링을 제대로 해준 뒤 성능 측정\n",
        "np_arr = np.array(predict_cluster)\n",
        "np_arr[np_arr==0],np_arr[np_arr==1],np_arr[np_arr==2] = 3,4,5\n",
        "np_arr[np_arr==3] = 1\n",
        "np_arr[np_arr==4] = 0\n",
        "np_arr[np_arr==5] = 2\n",
        "predict_label = np_arr.tolist()\n",
        "print(predict_label)"
      ],
      "execution_count": 34,
      "outputs": [
        {
          "output_type": "stream",
          "text": [
            "[1, 0, 2, 1, 1, 0, 1, 2, 1, 1, 2, 0, 0, 0, 0, 1, 2, 1, 1, 2, 0, 1, 0, 2, 2, 2, 2, 2, 0, 0, 0, 0, 1, 0, 0, 1, 1, 0]\n"
          ],
          "name": "stdout"
        }
      ]
    },
    {
      "cell_type": "code",
      "metadata": {
        "id": "JNYTEUQw2WzZ",
        "colab_type": "code",
        "colab": {
          "base_uri": "https://localhost:8080/",
          "height": 34
        },
        "outputId": "8077eafa-b1e6-4ece-d0d2-8e273f6b60fa"
      },
      "source": [
        "print('test accuracy {:.2f}'.format(np.mean(predict_label==test_label))) # 정확도 산출"
      ],
      "execution_count": 35,
      "outputs": [
        {
          "output_type": "stream",
          "text": [
            "test accuracy 0.95\n"
          ],
          "name": "stdout"
        }
      ]
    }
  ]
}