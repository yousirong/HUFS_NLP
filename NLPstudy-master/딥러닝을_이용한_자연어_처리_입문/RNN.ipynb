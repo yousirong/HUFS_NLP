{
  "nbformat": 4,
  "nbformat_minor": 0,
  "metadata": {
    "colab": {
      "name": "RNN.ipynb",
      "provenance": [],
      "collapsed_sections": []
    },
    "kernelspec": {
      "name": "python3",
      "display_name": "Python 3"
    }
  },
  "cells": [
    {
      "cell_type": "markdown",
      "metadata": {
        "id": "BfWebF7SDw90",
        "colab_type": "text"
      },
      "source": [
        "# 순환신경망(Recurrent Neural Network,RNN)\n",
        "---"
      ]
    },
    {
      "cell_type": "markdown",
      "metadata": {
        "id": "Lw1l5-x1D_mf",
        "colab_type": "text"
      },
      "source": [
        "- Sequence 모델\n",
        "- Recursive Neural Network와는 다른 신경망.\n",
        "- LSTM, GRU가 RNN에 속한다.\n",
        "- 작동 원리\n",
        "  - 은닉층의 출력 결과를 출력층으로 전달함과 동시에 은닉층의 다음 시점(timestep) 계산 입력으로 전달.\n",
        "  - one-to-many :  하나의 입력으로 부터 여러 개의 출력(sequence output)을 하는 모델. 하나의 이미지 입력으로 부터 사진의 제목을 출력하는 이미지 캡셔닝(Image Captioning)에 사용할 수 있다.\n",
        "  - many-to-one : 단어 시퀀스에 대해서 하나의 출력을 하는 모델. 감성 분류나 스팸 메일 분류에 사용할 수 있다.\n",
        "  - many-to-many : 입력 문장으로 부터 대답 문장을 출력. 개체명 인식이나 품사 태깅에 사용한다. \n",
        "  - 은닉층\n",
        "  $$ h_t = tanh(W_x x_t + W_h h_{t-1} + b)$$\n",
        "  - 출력층\n",
        "  $$ y_t = f(W_y h_t + b) $$\n",
        "    - f는 비선형 활성 함수중 하나 \n"
      ]
    },
    {
      "cell_type": "markdown",
      "metadata": {
        "id": "K1QixK5wLS_v",
        "colab_type": "text"
      },
      "source": [
        "# RNN in keras\n",
        "---"
      ]
    },
    {
      "cell_type": "code",
      "metadata": {
        "id": "uO9s6jCfDVef",
        "colab_type": "code",
        "colab": {}
      },
      "source": [
        "!pip install tensorflow-gpu==2.0.0-rc1"
      ],
      "execution_count": 0,
      "outputs": []
    },
    {
      "cell_type": "code",
      "metadata": {
        "id": "iQlNr2-2Lls5",
        "colab_type": "code",
        "colab": {}
      },
      "source": [
        "from tensorflow.keras.models import Sequential\n",
        "from tensorflow.keras.layers import SimpleRNN"
      ],
      "execution_count": 0,
      "outputs": []
    },
    {
      "cell_type": "code",
      "metadata": {
        "id": "qg9vxqtBNeCl",
        "colab_type": "code",
        "colab": {}
      },
      "source": [
        "## psuedo code\n",
        "model = Sequential()\n",
        "\n",
        "# hidden_size : 은닉 상태의 크기를 정의. \n",
        "#               메모리 셀이 다음 시점의 메모리 셀과 출력층으로 보내는 값의 크기와 동일\n",
        "# timesteps : 입력 시퀀스의 길이, 시점의 수\n",
        "# input_dim : 입력의 크기\n",
        "\n",
        "# 추가 인자 사용\n",
        "model.add(SimpleRNN(hidden_size, input_shape=(timesteps, input_dim)))\n",
        "\n",
        "# 다른 표기\n",
        "model.add(SimpleRNN(hidden_size, input_length=M, input_dim=N)) # M과 N은 정수"
      ],
      "execution_count": 0,
      "outputs": []
    },
    {
      "cell_type": "markdown",
      "metadata": {
        "id": "jPLkLcSTQa1L",
        "colab_type": "text"
      },
      "source": [
        "- return sequence를 true로 설정하면 모든 은닉 상태를 전달, many-to-many가 되며, false로 설정 시 마지막 은닉 상태만 전달하도록 해서 many-to-one 문제를 풀 수 있게 된다."
      ]
    },
    {
      "cell_type": "code",
      "metadata": {
        "id": "4WvGV6F3OgJ5",
        "colab_type": "code",
        "colab": {
          "base_uri": "https://localhost:8080/",
          "height": 204
        },
        "outputId": "5280f7e4-115c-4fc8-c2b4-59e365fed663"
      },
      "source": [
        "model=Sequential()\n",
        "model.add(SimpleRNN(3, input_shape=(2,10)))\n",
        "model.summary() # output shape에서  batch size를 알 수 없기 때문에 None으로 출력"
      ],
      "execution_count": 6,
      "outputs": [
        {
          "output_type": "stream",
          "text": [
            "Model: \"sequential_1\"\n",
            "_________________________________________________________________\n",
            "Layer (type)                 Output Shape              Param #   \n",
            "=================================================================\n",
            "simple_rnn (SimpleRNN)       (None, 3)                 42        \n",
            "=================================================================\n",
            "Total params: 42\n",
            "Trainable params: 42\n",
            "Non-trainable params: 0\n",
            "_________________________________________________________________\n"
          ],
          "name": "stdout"
        }
      ]
    },
    {
      "cell_type": "code",
      "metadata": {
        "id": "MdusMCoCSuoT",
        "colab_type": "code",
        "colab": {
          "base_uri": "https://localhost:8080/",
          "height": 204
        },
        "outputId": "ca7e94b7-7f66-4fb4-880c-1c417d6896b9"
      },
      "source": [
        "model=Sequential()\n",
        "model.add(SimpleRNN(3, batch_input_shape=(8,2,10)))\n",
        "model.summary() # batch size를 8로 설정"
      ],
      "execution_count": 8,
      "outputs": [
        {
          "output_type": "stream",
          "text": [
            "Model: \"sequential_3\"\n",
            "_________________________________________________________________\n",
            "Layer (type)                 Output Shape              Param #   \n",
            "=================================================================\n",
            "simple_rnn_2 (SimpleRNN)     (8, 3)                    42        \n",
            "=================================================================\n",
            "Total params: 42\n",
            "Trainable params: 42\n",
            "Non-trainable params: 0\n",
            "_________________________________________________________________\n"
          ],
          "name": "stdout"
        }
      ]
    },
    {
      "cell_type": "code",
      "metadata": {
        "id": "x8Ea4D6mTc2i",
        "colab_type": "code",
        "colab": {
          "base_uri": "https://localhost:8080/",
          "height": 204
        },
        "outputId": "2e278b68-e3d7-4dbe-e333-15d879fb1256"
      },
      "source": [
        "model = Sequential()\n",
        "model.add(SimpleRNN(3, batch_input_shape=(8,2,10), return_sequences=True))\n",
        "model.summary()"
      ],
      "execution_count": 9,
      "outputs": [
        {
          "output_type": "stream",
          "text": [
            "Model: \"sequential_4\"\n",
            "_________________________________________________________________\n",
            "Layer (type)                 Output Shape              Param #   \n",
            "=================================================================\n",
            "simple_rnn_3 (SimpleRNN)     (8, 2, 3)                 42        \n",
            "=================================================================\n",
            "Total params: 42\n",
            "Trainable params: 42\n",
            "Non-trainable params: 0\n",
            "_________________________________________________________________\n"
          ],
          "name": "stdout"
        }
      ]
    }
  ]
}