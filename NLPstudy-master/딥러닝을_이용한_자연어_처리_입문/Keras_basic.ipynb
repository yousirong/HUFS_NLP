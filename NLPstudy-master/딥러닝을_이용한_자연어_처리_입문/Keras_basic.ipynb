{
  "nbformat": 4,
  "nbformat_minor": 0,
  "metadata": {
    "colab": {
      "name": "Keras_basic.ipynb",
      "provenance": [],
      "collapsed_sections": []
    },
    "kernelspec": {
      "name": "python3",
      "display_name": "Python 3"
    }
  },
  "cells": [
    {
      "cell_type": "markdown",
      "metadata": {
        "id": "rWv9iMG3Pvh7",
        "colab_type": "text"
      },
      "source": [
        "** 케라스 공식 문서 :  https://keras.io/ "
      ]
    },
    {
      "cell_type": "code",
      "metadata": {
        "id": "rTqWh9vhRZpk",
        "colab_type": "code",
        "colab": {
          "base_uri": "https://localhost:8080/",
          "height": 70
        },
        "outputId": "06486fd4-e0e4-448f-ce09-c647bdd67365"
      },
      "source": [
        "!pip install -q tensorflow-gpu==2.0.0-rc1 # tensorflow 2.0 사용"
      ],
      "execution_count": 2,
      "outputs": [
        {
          "output_type": "stream",
          "text": [
            "\u001b[K     |████████████████████████████████| 380.5MB 38kB/s \n",
            "\u001b[K     |████████████████████████████████| 4.3MB 56.7MB/s \n",
            "\u001b[K     |████████████████████████████████| 501kB 43.7MB/s \n",
            "\u001b[?25h"
          ],
          "name": "stdout"
        }
      ]
    },
    {
      "cell_type": "markdown",
      "metadata": {
        "id": "h8XNYpCbQOw_",
        "colab_type": "text"
      },
      "source": [
        "# 전처리(Preprocessing)\n",
        "---"
      ]
    },
    {
      "cell_type": "markdown",
      "metadata": {
        "id": "RqEZxPJ1QWZJ",
        "colab_type": "text"
      },
      "source": [
        "- Tokenizer() : 토큰화와 정수 인코딩을 위해 사용됨"
      ]
    },
    {
      "cell_type": "code",
      "metadata": {
        "id": "GBLhIkmsPVg_",
        "colab_type": "code",
        "colab": {
          "base_uri": "https://localhost:8080/",
          "height": 52
        },
        "outputId": "155309b1-2360-47d5-fb58-581e442be7d7"
      },
      "source": [
        "from tensorflow.keras.preprocessing.text import Tokenizer\n",
        "t = Tokenizer()\n",
        "fit_text = \"The earth is an awsome place live\"\n",
        "t.fit_on_texts([fit_text])\n",
        "\n",
        "test_text = \"The earth is an great place live\"\n",
        "sequences = t.texts_to_sequences([test_text])[0]\n",
        "\n",
        "print(sequences) # great는 단어 집합에 속하지 않으므로 제외\n",
        "print(t.word_index) # 단어 집합 전체"
      ],
      "execution_count": 6,
      "outputs": [
        {
          "output_type": "stream",
          "text": [
            "[1, 2, 3, 4, 6, 7]\n",
            "{'the': 1, 'earth': 2, 'is': 3, 'an': 4, 'awsome': 5, 'place': 6, 'live': 7}\n"
          ],
          "name": "stdout"
        }
      ]
    },
    {
      "cell_type": "markdown",
      "metadata": {
        "id": "FGjma8ocyj2K",
        "colab_type": "text"
      },
      "source": [
        "- pad_sequence() : 샘플의 길이를 동일하게 하는 패딩 작업.\n",
        "  - maxlen : 모든 데이터에 대해서 정규화 할 길이\n",
        "  - padding : 'pre'는 앞에 0을 채우고, 'post'는 뒤에 0을 채운다."
      ]
    },
    {
      "cell_type": "code",
      "metadata": {
        "id": "UnoJUA5wRBqS",
        "colab_type": "code",
        "colab": {
          "base_uri": "https://localhost:8080/",
          "height": 70
        },
        "outputId": "c7fc55d2-315b-43d2-e227-c9a5d409be3e"
      },
      "source": [
        "from tensorflow.keras.preprocessing.sequence import pad_sequences\n",
        "pad_sequences([[1,2,3],[3,4,5,6],[7,8]], maxlen=3, padding='pre') # 3개 데이터를 입력으로 한다."
      ],
      "execution_count": 10,
      "outputs": [
        {
          "output_type": "execute_result",
          "data": {
            "text/plain": [
              "array([[1, 2, 3],\n",
              "       [4, 5, 6],\n",
              "       [0, 7, 8]], dtype=int32)"
            ]
          },
          "metadata": {
            "tags": []
          },
          "execution_count": 10
        }
      ]
    },
    {
      "cell_type": "markdown",
      "metadata": {
        "id": "iOo10NpD1cxM",
        "colab_type": "text"
      },
      "source": [
        "# 워드 임베딩(Word Embbeding)\n",
        "---"
      ]
    },
    {
      "cell_type": "markdown",
      "metadata": {
        "id": "c_v03eKf43V_",
        "colab_type": "text"
      },
      "source": [
        "- 단어를 밀집 벡터로 만드는 작업\n",
        "> - 원-핫 벡터\t// 임베딩 벡터\n",
        "    - 차원 : 고차원(단어 집합의 크기) //\t저차원\n",
        "    - 다른 표현 :\t희소 벡터의 일종\t// 밀집 벡터의 일종\n",
        "    - 표현 방법 :\t수동\t훈련 // 데이터로부터 학습함\n",
        "    - 값의 타입 :\t1과 0\t// 실수\n",
        "- Embedding() : 정수 인코딩된 단어들을 입력 받아서 임베딩을 수행\n"
      ]
    },
    {
      "cell_type": "code",
      "metadata": {
        "id": "KmmmUsvY8lTe",
        "colab_type": "code",
        "colab": {}
      },
      "source": [
        "## pseudo code\n",
        "text=[['Hope', 'to', 'see', 'you', 'soon'],['Nice', 'to', 'see', 'you', 'again']]\n",
        "\n",
        "# 각 단어에 대한 정수 인코딩\n",
        "text=[[0, 1, 2, 3, 4],[5, 1, 2, 3, 6]]\n",
        "\n",
        "# 위 데이터가 아래의 임베딩 층의 입력이 된다.\n",
        "Embedding(7, 2, input_length=5)\n",
        "# 7은 단어의 개수. 즉, 단어 집합(vocabulary)의 크기이다.\n",
        "# 2는 임베딩한 후의 벡터의 크기이다.\n",
        "# 5는 각 입력 시퀀스의 길이. 즉, input_length이다."
      ],
      "execution_count": 0,
      "outputs": []
    },
    {
      "cell_type": "markdown",
      "metadata": {
        "id": "8nTIdQsz6KrN",
        "colab_type": "text"
      },
      "source": [
        "# 모델링(Modeling)\n",
        "---"
      ]
    },
    {
      "cell_type": "markdown",
      "metadata": {
        "id": "i7DVng7R7opU",
        "colab_type": "text"
      },
      "source": [
        "- Sequential() : 층을 구성하기 위해 사용"
      ]
    },
    {
      "cell_type": "code",
      "metadata": {
        "id": "7mQMh3tp09No",
        "colab_type": "code",
        "colab": {}
      },
      "source": [
        "## pseudo code\n",
        "from tensorflow.keras.model import Sequential\n",
        "from tensorflow.keras.layers import Embedding\n",
        "model = Sequential()\n",
        "model.add(Embedding(voca,output_dim,input_length))"
      ],
      "execution_count": 0,
      "outputs": []
    },
    {
      "cell_type": "markdown",
      "metadata": {
        "id": "1xEu8VHw88n_",
        "colab_type": "text"
      },
      "source": [
        "- Dense() : 전결합층(fully-connected layer)를 추가"
      ]
    },
    {
      "cell_type": "code",
      "metadata": {
        "id": "QfcPU4B89GzV",
        "colab_type": "code",
        "colab": {
          "base_uri": "https://localhost:8080/",
          "height": 90
        },
        "outputId": "6cc04879-d731-420b-b89e-4963640a8e8b"
      },
      "source": [
        "from tensorflow.keras.models import Sequential\n",
        "from tensorflow.keras.layers import Dense\n",
        "model = Sequential()\n",
        "model.add(Dense(1,input_dim=3, activation='relu')) # 첫번째 param은 출력 뉴런의 수"
      ],
      "execution_count": 11,
      "outputs": [
        {
          "output_type": "stream",
          "text": [
            "WARNING:tensorflow:From /usr/local/lib/python3.6/dist-packages/tensorflow_core/python/ops/resource_variable_ops.py:1630: calling BaseResourceVariable.__init__ (from tensorflow.python.ops.resource_variable_ops) with constraint is deprecated and will be removed in a future version.\n",
            "Instructions for updating:\n",
            "If using Keras pass *_constraint arguments to layers.\n"
          ],
          "name": "stdout"
        }
      ]
    },
    {
      "cell_type": "code",
      "metadata": {
        "id": "XfNKRRJ09gHd",
        "colab_type": "code",
        "colab": {}
      },
      "source": [
        "from tensorflow.keras.models import Sequential\n",
        "from tensorflow.keras.layers import Dense\n",
        "model = Sequential()\n",
        "model.add(Dense(8, input_dim=4, activation='relu'))\n",
        "model.add(Dense(1, activation='sigmoid'))\n",
        "# 입력 4 -> 은닉 8 -> 츨력 1"
      ],
      "execution_count": 0,
      "outputs": []
    },
    {
      "cell_type": "markdown",
      "metadata": {
        "id": "v-iSdlss-tVl",
        "colab_type": "text"
      },
      "source": [
        "- summary : 모델의 정보를 요약해서 보여준다."
      ]
    },
    {
      "cell_type": "markdown",
      "metadata": {
        "id": "F2Ka91wI-7KY",
        "colab_type": "text"
      },
      "source": [
        "# 컴파일(Compile)과 훈련(Training)\n",
        "---"
      ]
    },
    {
      "cell_type": "markdown",
      "metadata": {
        "id": "CdUJrI8fB_fv",
        "colab_type": "text"
      },
      "source": [
        "- compile() : 모델을 기계가 이해할 수 있도록 컴파일. 오차 함수, 최적화 방법, 메트릭 함수를 지정 가능하다."
      ]
    },
    {
      "cell_type": "code",
      "metadata": {
        "id": "p2ogdsyn-pUK",
        "colab_type": "code",
        "colab": {
          "base_uri": "https://localhost:8080/",
          "height": 142
        },
        "outputId": "2b6f22ed-6297-4b33-8831-a990ffa46b19"
      },
      "source": [
        "from tensorflow.keras.layers import SimpleRNN, Embedding, Dense\n",
        "from tensorflow.keras.models import Sequential\n",
        "max_feature = 10000\n",
        "\n",
        "model = Sequential()\n",
        "model.add(Embedding(max_feature,32))\n",
        "model.add(SimpleRNN(32))\n",
        "model.add(Dense(1,activation='sigmoid'))\n",
        "model.compile(optimizer='rmsprop',loss='binary_crossentropy',metircs=['acc'])"
      ],
      "execution_count": 14,
      "outputs": [
        {
          "output_type": "stream",
          "text": [
            "WARNING:tensorflow:From /usr/local/lib/python3.6/dist-packages/tensorflow_core/python/keras/initializers.py:119: calling RandomUniform.__init__ (from tensorflow.python.ops.init_ops) with dtype is deprecated and will be removed in a future version.\n",
            "Instructions for updating:\n",
            "Call initializer instance with the dtype argument instead of passing it to the constructor\n",
            "WARNING:tensorflow:From /usr/local/lib/python3.6/dist-packages/tensorflow_core/python/ops/nn_impl.py:183: where (from tensorflow.python.ops.array_ops) is deprecated and will be removed in a future version.\n",
            "Instructions for updating:\n",
            "Use tf.where in 2.0, which has the same broadcast rule as np.where\n"
          ],
          "name": "stdout"
        }
      ]
    },
    {
      "cell_type": "markdown",
      "metadata": {
        "id": "ofBOaR9EDnJL",
        "colab_type": "text"
      },
      "source": [
        "- 대표적 손실 함수와 활성 함수의 조합\n",
        "  - 회귀 문제\n",
        "    - 손실 함수 : mse\n",
        "  - 다중 클래스 분류\n",
        "    - 손실 함수 \n",
        "      - categorical_crossentropy\n",
        "      - sparse_categorical_crossentropy : one-hot encoding아닌 정수 인코딩 상태에서도 사용 가능 \n",
        "    - 출력층의 활성함수 : softmax\n",
        "  - 이진 분류\n",
        "    - 손실 함수 : binary_crossentropy\n",
        "    - 출력층의 활성함수 : sigmoid\n"
      ]
    },
    {
      "cell_type": "markdown",
      "metadata": {
        "id": "4xkymN1MExQ4",
        "colab_type": "text"
      },
      "source": [
        "- fit() : 모델을 학습"
      ]
    },
    {
      "cell_type": "code",
      "metadata": {
        "id": "T0Migf2xEvma",
        "colab_type": "code",
        "colab": {}
      },
      "source": [
        "model.fit(X_train,y_train,epochs=10,batch_size=32,verbose=0,validation_data=(X_val,y_val))\n",
        "# epoch 1은 전체 데이터를 한번 훑고 지나간 것을 뜻함\n",
        "# 배치 크기는 기본적으로 32이며, 미니 배치 경사 하강법을 사용하고 싶지 않을 때는 batch_size=None으로 설정\n",
        "# 검증 데이터를 사용하면 각 epoch마다 검증 데이터의 정확도도 함께 출력된다. 검증데이터의 loss가 낮아지다가 높아지면 과적합의 신호.\n",
        "# validation split : validation_data 대신 사용. 역시 훈련 자체에 영향을 주지 않고 훈련 과정을 지켜보기 위해 사용된다."
      ],
      "execution_count": 0,
      "outputs": []
    },
    {
      "cell_type": "markdown",
      "metadata": {
        "id": "Bz81WbwLGyYL",
        "colab_type": "text"
      },
      "source": [
        "# 평가, 예측, 저장\n",
        "---"
      ]
    },
    {
      "cell_type": "markdown",
      "metadata": {
        "id": "mrMO6E1gG5ln",
        "colab_type": "text"
      },
      "source": [
        "- evaluate()\n",
        "- predict()\n",
        "- save()\n",
        "- load()"
      ]
    }
  ]
}