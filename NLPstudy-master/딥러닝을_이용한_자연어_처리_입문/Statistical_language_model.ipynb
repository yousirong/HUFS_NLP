{
  "nbformat": 4,
  "nbformat_minor": 0,
  "metadata": {
    "colab": {
      "name": "Statistical_language_model.ipynb",
      "provenance": [],
      "collapsed_sections": []
    },
    "kernelspec": {
      "name": "python3",
      "display_name": "Python 3"
    }
  },
  "cells": [
    {
      "cell_type": "markdown",
      "metadata": {
        "id": "Ywik9cZ-Hx6o",
        "colab_type": "text"
      },
      "source": [
        "# 통계적 언어 모델(SLM)\n",
        "---"
      ]
    },
    {
      "cell_type": "markdown",
      "metadata": {
        "id": "bmUMAH98JImp",
        "colab_type": "text"
      },
      "source": [
        "- 카운트 기반의 접근\n",
        "  - 조건부 확률을 이용\n",
        "  - 예) P(is | An adorable little boy) = count(An adorable little boy is) / count(An adorable little boy)\n",
        "  - 데이터를 충분히 관측하지 못해서 발생하는 희소 문제(sparsity problem)이 발생"
      ]
    },
    {
      "cell_type": "markdown",
      "metadata": {
        "id": "tniO_Cf5KEk_",
        "colab_type": "text"
      },
      "source": [
        "# N-gram 모델\n",
        "---"
      ]
    },
    {
      "cell_type": "markdown",
      "metadata": {
        "id": "KmPqWagLKIaB",
        "colab_type": "text"
      },
      "source": [
        "- SLM의 일종이지만 비교하는 단어의 개수를 제한\n",
        "- unigram(boy), bigram(little boy), trigram(adorable little boy), 4-gram(An adorable little boy)\n",
        "- 여전히 희소 문제가 발생\n",
        "- 성능과 희소 문제간의 trade-off가 발생 "
      ]
    },
    {
      "cell_type": "markdown",
      "metadata": {
        "id": "K5Cca_w5L0Ur",
        "colab_type": "text"
      },
      "source": [
        "# Perplexity\n",
        "---"
      ]
    },
    {
      "cell_type": "markdown",
      "metadata": {
        "id": "GpJMHRJnL4t-",
        "colab_type": "text"
      },
      "source": [
        "- 모델 간의 평가를 할 때 실제 작업을 통한 성능 비교 평가는 외부 평가라고 한다.\n",
        "- 외부 평가는 시간과 노력이 많이 들게 된다.\n",
        "- 모델 자신 내부에서 성능을 수치화하여 결과를 내놓는 내부평가가 효율적(PPL)\n",
        "\n",
        "$$PPL(W) = \\sqrt[N]{{1 \\over \\Pi_{i-1}^{N}{P(wi|w1,w2,...,wi-1)}}}$$"
      ]
    },
    {
      "cell_type": "code",
      "metadata": {
        "id": "z6NjNxtpRQTI",
        "colab_type": "code",
        "colab": {}
      },
      "source": [
        ""
      ],
      "execution_count": 0,
      "outputs": []
    }
  ]
}