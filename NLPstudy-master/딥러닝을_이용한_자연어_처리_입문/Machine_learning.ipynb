{
  "nbformat": 4,
  "nbformat_minor": 0,
  "metadata": {
    "colab": {
      "name": "Machine_learning.ipynb",
      "provenance": [],
      "collapsed_sections": [
        "iH-kvyoV3Uqk",
        "TyW1W2994QMm"
      ]
    },
    "kernelspec": {
      "name": "python3",
      "display_name": "Python 3"
    }
  },
  "cells": [
    {
      "cell_type": "markdown",
      "metadata": {
        "id": "FWM8noAf40bU",
        "colab_type": "text"
      },
      "source": [
        "** 개인적으로 부족한 부분만 정리한 내용입니다."
      ]
    },
    {
      "cell_type": "markdown",
      "metadata": {
        "id": "iH-kvyoV3Uqk",
        "colab_type": "text"
      },
      "source": [
        "# 머신 러닝 모델의 평가\n",
        "---"
      ]
    },
    {
      "cell_type": "markdown",
      "metadata": {
        "id": "hAlbgfwE3Z-O",
        "colab_type": "text"
      },
      "source": [
        "- 보통 Train, Validation, Test 로 데이터를 분리해서 사용\n",
        "- 검증용 데이터는 모델의 성능을 평가하는 것이 아닌, 모델의 성능을 조정하기 위한 용도\n",
        "  - 과적합 여부, 하이퍼파라미터의 조정 등을 위해 사용\n",
        "  - 검증, 튜닝을 마친 뒤에 Test데이터로 성능 평가를 실시\n",
        "- 검증, 테스트 데이터를 나눌만큼 데이터의 양이 충분하지 않다면 K-폴드 교차 검증 방법을 사용"
      ]
    },
    {
      "cell_type": "markdown",
      "metadata": {
        "id": "TyW1W2994QMm",
        "colab_type": "text"
      },
      "source": [
        "# 혼동 행렬(Confusion Matrix)\n",
        "---"
      ]
    },
    {
      "cell_type": "markdown",
      "metadata": {
        "id": "sKg4Gjp34TNm",
        "colab_type": "text"
      },
      "source": [
        "- 정확도(accuracy)는 맞춘 결과와 틀린 결과에 대한 자세한 정보를 제공하지는 않는다.\n",
        "- 정밀도(Precision) : positive 예측 케이스중 실제 positive인 비율\n",
        "- 재현율(Recall) : 실제 positive값 중 positive 예측의 비율\n",
        "$$Accuracy = {{TP + TN} \\over {TP+FP+TN+FN}}$$\n",
        "\n",
        "$$Precision = {{TP} \\over {TP+TN}}$$\n",
        "\n",
        "$$Recall = {{TP} \\over {TP+FN}}$$"
      ]
    },
    {
      "cell_type": "markdown",
      "metadata": {
        "id": "cJn6IFHtAwWG",
        "colab_type": "text"
      },
      "source": [
        "# Keras linear regression\n",
        "---"
      ]
    },
    {
      "cell_type": "code",
      "metadata": {
        "id": "E-e9TOt02OQN",
        "colab_type": "code",
        "colab": {}
      },
      "source": [
        "!pip install tensorflow-gpu==2.0.0-rc1\n",
        "from tensorflow.keras.models import Sequential\n",
        "from tensorflow.keras.layers import Dense\n",
        "from tensorflow.keras import optimizers\n",
        "import numpy as np"
      ],
      "execution_count": 0,
      "outputs": []
    },
    {
      "cell_type": "code",
      "metadata": {
        "id": "TYpvMa-5BIkz",
        "colab_type": "code",
        "colab": {}
      },
      "source": [
        "X=np.array([1,2,3,4,5,6,7,8,9])\n",
        "y=np.array([11,22,33,44,53,66,77,87,95])\n",
        "\n",
        "model = Sequential()\n",
        "model.add(Dense(1,input_dim=1, activation='linear')) # linear dense를 추가\n",
        "sgd = optimizers.SGD(lr=0.01) # optimizer로 경사하강법을 사용\n",
        "model.compile(optimizers=sgd, loss='mse', metrics=['mse']) # 손실과 metric 모두 mse를 사용\n",
        "model.fit(X,y,batch_size=1, epochs=2000, shuffle=False, verbose=1)"
      ],
      "execution_count": 0,
      "outputs": []
    },
    {
      "cell_type": "code",
      "metadata": {
        "id": "H9V-zmJyC5NY",
        "colab_type": "code",
        "colab": {
          "base_uri": "https://localhost:8080/",
          "height": 265
        },
        "outputId": "f66b6220-ff23-4822-82c4-05146a62993b"
      },
      "source": [
        "import matplotlib.pyplot as plt\n",
        "%matplotlib inline\n",
        "plt.plot(X,model.predict(X),'b',X,y,'k.')\n",
        "plt.show()"
      ],
      "execution_count": 20,
      "outputs": [
        {
          "output_type": "display_data",
          "data": {
            "image/png": "[encoded data removed]",
            "text/plain": [
              "<Figure size 432x288 with 1 Axes>"
            ]
          },
          "metadata": {
            "tags": []
          }
        }
      ]
    },
    {
      "cell_type": "code",
      "metadata": {
        "id": "bEDjZsNnLoZN",
        "colab_type": "code",
        "colab": {}
      },
      "source": [
        "### 다중 선형 회귀\n",
        "X=np.array([[70,85,11],[71,89,18],[50,80,20],[99,20,10],[50,10,10]])\n",
        "y=np.array([73,82,72,57,34])\n",
        "\n",
        "model = Sequential()\n",
        "model.add(Dense(1,input_dim=3,activation='linear'))\n",
        "sgd=optimizers.SGD(lr=0.00001)\n",
        "model.compile(optimizer=sgd,loss='mse',metric=['mse'])\n",
        "model.fit(X,y,batch_size=1,epochs=2000,shuffle=False)"
      ],
      "execution_count": 0,
      "outputs": []
    },
    {
      "cell_type": "code",
      "metadata": {
        "id": "aoz13rMcicFd",
        "colab_type": "code",
        "colab": {
          "base_uri": "https://localhost:8080/",
          "height": 158
        },
        "outputId": "e9559a6d-bbf3-465f-be7e-c3b33517a69a"
      },
      "source": [
        "print(model.predict(X))\n",
        "print(y)\n",
        "print(model.evaluate(X,y))"
      ],
      "execution_count": 34,
      "outputs": [
        {
          "output_type": "stream",
          "text": [
            "[[72.927185]\n",
            " [81.96541 ]\n",
            " [72.07211 ]\n",
            " [57.125404]\n",
            " [33.791122]]\n",
            "[73 82 72 57 34]\n",
            "\r5/1 [======================================================================================================================================================] - 0s 9ms/sample - loss: 0.0142\n",
            "0.014210996218025684\n"
          ],
          "name": "stdout"
        }
      ]
    },
    {
      "cell_type": "markdown",
      "metadata": {
        "id": "PzhrWCvMIyIa",
        "colab_type": "text"
      },
      "source": [
        "# Keras logistic regression\n",
        "---"
      ]
    },
    {
      "cell_type": "code",
      "metadata": {
        "id": "__uyBRcIDulB",
        "colab_type": "code",
        "colab": {}
      },
      "source": [
        "import numpy as np\n",
        "from tensorflow.keras.models import Sequential\n",
        "from tensorflow.keras.layers import Dense\n",
        "from tensorflow.keras import optimizers\n",
        "\n",
        "X=np.array([-50, -40, -30, -20, -10, -5, 0, 5, 10, 20, 30, 40, 50])\n",
        "y=np.array([0, 0, 0, 0, 0, 0, 0, 0, 1, 1, 1, 1, 1])\n",
        "\n",
        "model = Sequential()\n",
        "model.add(Dense(1,input_dim=1,activation='sigmoid'))\n",
        "sgd = optimizers.SGD(lr=0.01)\n",
        "model.compile(optimizer=sgd, loss='binary_crossentropy',metrics=['binary_accuracy'])\n",
        "model.fit(X,y,batch_size=1,epochs=100,shuffle=False)"
      ],
      "execution_count": 0,
      "outputs": []
    },
    {
      "cell_type": "code",
      "metadata": {
        "id": "byattlXfLHF4",
        "colab_type": "code",
        "colab": {
          "base_uri": "https://localhost:8080/",
          "height": 265
        },
        "outputId": "cec060dc-40dc-4a4d-ef7d-8bcd2cb5ce4c"
      },
      "source": [
        "import matplotlib.pyplot as plt\n",
        "%matplotlib inline\n",
        "plt.plot(X, model.predict(X), 'b', X,y, 'k.')\n",
        "plt.show()"
      ],
      "execution_count": 25,
      "outputs": [
        {
          "output_type": "display_data",
          "data": {
            "image/png": "[encoded data removed]",
            "text/plain": [
              "<Figure size 432x288 with 1 Axes>"
            ]
          },
          "metadata": {
            "tags": []
          }
        }
      ]
    },
    {
      "cell_type": "code",
      "metadata": {
        "id": "5Vro8DhIkdb-",
        "colab_type": "code",
        "colab": {}
      },
      "source": [
        "## 다중 로지스틱 회귀\n",
        "X=np.array([[0, 0], [0, 1], [1, 0], [1, 1]])\n",
        "y=np.array([0, 1, 1, 1])\n",
        "\n",
        "model=Sequential()\n",
        "model.add(Dense(1, input_dim=2, activation='sigmoid'))\n",
        "model.compile(optimizer='sgd' ,loss='binary_crossentropy',metrics=['binary_accuracy'])\n",
        "model.fit(X,y, batch_size=1, epochs=800, shuffle=False)"
      ],
      "execution_count": 0,
      "outputs": []
    },
    {
      "cell_type": "code",
      "metadata": {
        "id": "X7-v20jKk_8g",
        "colab_type": "code",
        "colab": {
          "base_uri": "https://localhost:8080/",
          "height": 140
        },
        "outputId": "f44bc53a-b12e-4d32-defe-0d5e105551ab"
      },
      "source": [
        "print(model.predict(X))\n",
        "print(y)\n",
        "print(model.evaluate(X,y))"
      ],
      "execution_count": 37,
      "outputs": [
        {
          "output_type": "stream",
          "text": [
            "[[0.41842166]\n",
            " [0.8482052 ]\n",
            " [0.86553746]\n",
            " [0.98039013]]\n",
            "[0 1 1 1]\n",
            "\r4/1 [========================================================================================================================] - 0s 20ms/sample - loss: 0.2177 - binary_accuracy: 1.0000\n",
            "[0.21771292388439178, 1.0]\n"
          ],
          "name": "stdout"
        }
      ]
    },
    {
      "cell_type": "code",
      "metadata": {
        "id": "FV3rRrIJls7m",
        "colab_type": "code",
        "colab": {}
      },
      "source": [
        ""
      ],
      "execution_count": 0,
      "outputs": []
    }
  ]
}