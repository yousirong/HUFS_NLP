{
  "nbformat": 4,
  "nbformat_minor": 0,
  "metadata": {
    "colab": {
      "name": "Document_similarity.ipynb",
      "provenance": [],
      "collapsed_sections": []
    },
    "kernelspec": {
      "name": "python3",
      "display_name": "Python 3"
    }
  },
  "cells": [
    {
      "cell_type": "markdown",
      "metadata": {
        "id": "fjHz6gA4UKGB",
        "colab_type": "text"
      },
      "source": [
        "# 코사인 유사도\n",
        "---"
      ]
    },
    {
      "cell_type": "markdown",
      "metadata": {
        "id": "gLrDnDvQUQKr",
        "colab_type": "text"
      },
      "source": [
        "- BoW, DTM, TF-IDF 등으로 단어를 수치화 한 뒤에는 문서의 유사도를 구하는 게 가능해진다.\n",
        "- 두 벡터가 가리키는 방향이 얼마나 유사한가를 나타냄\n",
        "$$similarity = cos(\\Theta) = {{A \\centerdot B} \\over {\\parallel A \\parallel \\parallel B \\parallel}} = {{\\sum_{i=1}^{n}{A_i \\times B_i}} \\over {\\sqrt{\\sum_{i=1}^{n}{(A_i)^2}} \\times \\sqrt{\\sum_{i=1}^{n}{(B_i)^2}}}}$$\n"
      ]
    },
    {
      "cell_type": "code",
      "metadata": {
        "id": "e1KcJyewQywd",
        "colab_type": "code",
        "colab": {}
      },
      "source": [
        "room = [\"바닥은 삐걱거리는 나무판자로 되어있다.\",\\\n",
        "        \"바닥은 차갑다\",\\\n",
        "        \"방 가운데에는 돌로 된 탁자가 하나 놓여있다.\",\\\n",
        "        \"방에 문이 하나 있다.\",\\\n",
        "        \"문은 나무로 되어있다.\",\\\n",
        "        \"문은 열리지 않는다.\",\\\n",
        "        \"문에는 잠금장치가 걸려있다.\",\\\n",
        "        \"방에 침대가 하나 있다.\",\\\n",
        "        \"탁자 옆에는 의자가 두 개 놓여있다.\",\\\n",
        "        \"침대 밑에는 열쇠가 있다.\",\\\n",
        "        \"방에 창문이 없다.\",\\\n",
        "        \"방 안에 또 다른 방이 있다.\",\\\n",
        "        \"방과 방이 창문으로 연결되어 있다.\"]"
      ],
      "execution_count": 0,
      "outputs": []
    },
    {
      "cell_type": "code",
      "metadata": {
        "id": "Xn9mINIhUHDy",
        "colab_type": "code",
        "colab": {}
      },
      "source": [
        "!pip install konlpy"
      ],
      "execution_count": 0,
      "outputs": []
    },
    {
      "cell_type": "code",
      "metadata": {
        "id": "zzZT2Woofd9i",
        "colab_type": "code",
        "colab": {}
      },
      "source": [
        "from konlpy.tag import Kkma \n",
        "import re\n",
        "\n",
        "kma = Kkma()\n",
        "token = re.sub(\"(\\.)\",\"\",\" \".join(room))\n",
        "token = kma.morphs(token)\n",
        "tk_list=[re.sub(\"(\\.)\",\"\",sen) for sen in room]\n",
        "tk_list = [kma.morphs(sen) for sen in tk_list]\n",
        "word2index = {}\n",
        "for voca in token:\n",
        "  if voca not in word2index.keys():\n",
        "    word2index[voca] = len(word2index)"
      ],
      "execution_count": 0,
      "outputs": []
    },
    {
      "cell_type": "code",
      "metadata": {
        "id": "M1K-810ef21f",
        "colab_type": "code",
        "colab": {}
      },
      "source": [
        "def BoW(tk):\n",
        "  bow = [0 for _ in range(len(word2index))]\n",
        "  for voca in tk:\n",
        "    if voca in word2index.keys():\n",
        "      index = word2index.get(voca)\n",
        "      bow[index] += 1\n",
        "  return bow"
      ],
      "execution_count": 0,
      "outputs": []
    },
    {
      "cell_type": "code",
      "metadata": {
        "id": "TEyWpWQff85u",
        "colab_type": "code",
        "colab": {
          "base_uri": "https://localhost:8080/",
          "height": 246
        },
        "outputId": "464e8957-cade-461a-db71-36b48feb0602"
      },
      "source": [
        "dtm = []\n",
        "for tk in tk_list: \n",
        "  dtm.append(BoW(tk)) # 문서 각각의 BoW를 구해 DTM을 생성\n",
        "for d in dtm:\n",
        "  print(d)"
      ],
      "execution_count": 9,
      "outputs": [
        {
          "output_type": "stream",
          "text": [
            "[1, 1, 1, 1, 1, 1, 1, 1, 1, 1, 1, 0, 0, 0, 0, 0, 0, 0, 0, 0, 0, 0, 0, 0, 0, 0, 0, 0, 0, 0, 0, 0, 0, 0, 0, 0, 0, 0, 0, 0, 0, 0, 0, 0]\n",
            "[1, 1, 0, 0, 0, 0, 0, 0, 0, 0, 1, 1, 0, 0, 0, 0, 0, 0, 0, 0, 0, 0, 0, 0, 0, 0, 0, 0, 0, 0, 0, 0, 0, 0, 0, 0, 0, 0, 0, 0, 0, 0, 0, 0]\n",
            "[0, 0, 0, 1, 0, 0, 1, 1, 1, 1, 1, 0, 1, 1, 1, 1, 1, 1, 1, 1, 1, 0, 0, 0, 0, 0, 0, 0, 0, 0, 0, 0, 0, 0, 0, 0, 0, 0, 0, 0, 0, 0, 0, 0]\n",
            "[0, 0, 0, 0, 0, 0, 0, 0, 0, 1, 1, 0, 1, 0, 1, 0, 0, 0, 0, 1, 0, 1, 1, 0, 0, 0, 0, 0, 0, 0, 0, 0, 0, 0, 0, 0, 0, 0, 0, 0, 0, 0, 0, 0]\n",
            "[0, 1, 0, 0, 1, 0, 1, 1, 1, 1, 1, 0, 0, 0, 0, 0, 0, 0, 0, 0, 0, 1, 0, 0, 0, 0, 0, 0, 0, 0, 0, 0, 0, 0, 0, 0, 0, 0, 0, 0, 0, 0, 0, 0]\n",
            "[0, 1, 0, 1, 0, 0, 0, 0, 0, 0, 1, 0, 0, 0, 0, 0, 0, 0, 0, 0, 0, 1, 0, 0, 1, 1, 1, 0, 0, 0, 0, 0, 0, 0, 0, 0, 0, 0, 0, 0, 0, 0, 0, 0]\n",
            "[0, 0, 0, 1, 0, 0, 0, 0, 1, 1, 1, 0, 0, 0, 1, 0, 0, 0, 1, 0, 0, 1, 0, 0, 0, 0, 0, 1, 1, 0, 0, 0, 0, 0, 0, 0, 0, 0, 0, 0, 0, 0, 0, 0]\n",
            "[0, 0, 0, 0, 0, 0, 0, 0, 0, 1, 1, 0, 1, 0, 1, 0, 0, 0, 1, 1, 0, 0, 0, 0, 0, 0, 0, 0, 0, 1, 0, 0, 0, 0, 0, 0, 0, 0, 0, 0, 0, 0, 0, 0]\n",
            "[0, 0, 0, 1, 0, 0, 0, 0, 1, 1, 1, 0, 0, 0, 1, 0, 0, 1, 1, 0, 1, 0, 0, 0, 0, 0, 0, 0, 0, 0, 1, 1, 1, 1, 0, 0, 0, 0, 0, 0, 0, 0, 0, 0]\n",
            "[0, 0, 0, 1, 0, 0, 0, 0, 0, 1, 1, 0, 0, 0, 1, 0, 0, 0, 1, 0, 0, 0, 0, 0, 0, 0, 0, 0, 0, 1, 0, 0, 0, 0, 1, 1, 0, 0, 0, 0, 0, 0, 0, 0]\n",
            "[0, 0, 0, 0, 0, 0, 0, 0, 0, 0, 1, 0, 1, 0, 1, 0, 0, 0, 0, 0, 0, 0, 1, 0, 0, 0, 0, 0, 0, 0, 0, 0, 0, 0, 0, 0, 1, 1, 0, 0, 0, 0, 0, 0]\n",
            "[0, 0, 0, 0, 0, 0, 0, 0, 0, 1, 1, 0, 2, 0, 1, 0, 0, 0, 0, 0, 0, 0, 1, 0, 0, 0, 0, 0, 0, 0, 0, 0, 0, 0, 0, 0, 0, 0, 1, 1, 1, 0, 0, 0]\n",
            "[0, 0, 0, 0, 0, 0, 0, 1, 1, 1, 1, 0, 1, 0, 0, 0, 0, 0, 0, 0, 0, 0, 1, 0, 0, 0, 0, 0, 0, 0, 0, 0, 0, 0, 0, 0, 1, 0, 0, 0, 0, 1, 1, 1]\n"
          ],
          "name": "stdout"
        }
      ]
    },
    {
      "cell_type": "code",
      "metadata": {
        "id": "D1iZyQ0Gf-9L",
        "colab_type": "code",
        "colab": {}
      },
      "source": [
        "# 유사도 계산 함수\n",
        "import numpy as np\n",
        "from numpy.linalg import norm\n",
        "\n",
        "def cos_sim(A,B):\n",
        "  return np.dot(A,B)/(norm(A)*norm(B))"
      ],
      "execution_count": 0,
      "outputs": []
    },
    {
      "cell_type": "markdown",
      "metadata": {
        "id": "tBXV2cMzj2cl",
        "colab_type": "text"
      },
      "source": [
        "# 유클리드 거리\n",
        "---"
      ]
    },
    {
      "cell_type": "markdown",
      "metadata": {
        "id": "sztAMXOAmI0K",
        "colab_type": "text"
      },
      "source": [
        "- 코사인 유사도나 자카드 유사도보다는 문서 유사도 측정에서 성능이 떨어진다."
      ]
    },
    {
      "cell_type": "code",
      "metadata": {
        "id": "yPFnS3vxnCo_",
        "colab_type": "code",
        "colab": {}
      },
      "source": [
        "# 유클리드 거리 계산 함수\n",
        "def dist(x,y):\n",
        "  return np.sqrt(np.sum((x-y)**2))"
      ],
      "execution_count": 0,
      "outputs": []
    },
    {
      "cell_type": "markdown",
      "metadata": {
        "id": "HwTq757GvU7H",
        "colab_type": "text"
      },
      "source": [
        "# 자카드 유사도\n",
        "---"
      ]
    },
    {
      "cell_type": "markdown",
      "metadata": {
        "id": "8usADAOewGYo",
        "colab_type": "text"
      },
      "source": [
        " - 두 문서의 합집합에서 교집합의 비율을 구해서 유사도를 구한다.\n",
        " $$ J(A,B) = {{\\mid A \\cap B \\mid} \\over {\\mid A \\cup B \\mid}} = {{\\mid A \\cap B \\mid} \\over {\\mid A \\mid + \\mid B \\mid - {\\mid A \\cap B \\mid}}}$$"
      ]
    },
    {
      "cell_type": "code",
      "metadata": {
        "id": "RHKwFxfs-YDf",
        "colab_type": "code",
        "colab": {
          "base_uri": "https://localhost:8080/",
          "height": 70
        },
        "outputId": "ca18472e-c8e7-40b7-d87e-5788355fd7a3"
      },
      "source": [
        "union = set(tk_list[-1]).union(set(tk_list[-2]))\n",
        "intersection = set(tk_list[-1]).intersection(set(tk_list[-2]))\n",
        "print(union)\n",
        "print(intersection)\n",
        "print(len(intersection)/len(union))"
      ],
      "execution_count": 25,
      "outputs": [
        {
          "output_type": "stream",
          "text": [
            "{'있', '방', '이', '연결', '안', '방과', '창문', '어', '으로', '되', '에', '다른', '다', '또'}\n",
            "{'있', '다', '방', '이'}\n",
            "0.2857142857142857\n"
          ],
          "name": "stdout"
        }
      ]
    },
    {
      "cell_type": "markdown",
      "metadata": {
        "id": "w3SETbxVxRJf",
        "colab_type": "text"
      },
      "source": [
        "# 유사도 구하기\n",
        "---"
      ]
    },
    {
      "cell_type": "code",
      "metadata": {
        "id": "DEdby4Fxiad4",
        "colab_type": "code",
        "colab": {
          "base_uri": "https://localhost:8080/",
          "height": 34
        },
        "outputId": "ef77b61e-b5bc-4741-a4b2-f112d8b4eab7"
      },
      "source": [
        "sub_text = \"나무로 된 탁자가 방에 놓여있다\"\n",
        "sub_token = kma.morphs(sub_text)\n",
        "sub_token"
      ],
      "execution_count": 15,
      "outputs": [
        {
          "output_type": "execute_result",
          "data": {
            "text/plain": [
              "['나무', '로', '되', 'ㄴ', '탁자', '가', '방', '에', '놓이', '어', '있', '다']"
            ]
          },
          "metadata": {
            "tags": []
          },
          "execution_count": 15
        }
      ]
    },
    {
      "cell_type": "code",
      "metadata": {
        "id": "PPpbWJvXl5fv",
        "colab_type": "code",
        "colab": {}
      },
      "source": [
        "sub_doc = BoW(sub_token)"
      ],
      "execution_count": 0,
      "outputs": []
    },
    {
      "cell_type": "code",
      "metadata": {
        "id": "FEQI-sjZn6MQ",
        "colab_type": "code",
        "colab": {
          "base_uri": "https://localhost:8080/",
          "height": 1000
        },
        "outputId": "2cefe030-7848-4733-9a36-be2183582a95"
      },
      "source": [
        "for i in range(len(dtm)):\n",
        "  union = set(tk_list[i]).union(set(sub_token))\n",
        "  intersection = set(tk_list[i]).intersection(set(sub_token))\n",
        "  print(\"dist : \",dist(dtm[i],sub_doc))\n",
        "  print(\"cosine : \",cos_sim(dtm[i],sub_doc))\n",
        "  print(\"jaccad  : \",len(intersection)/len(union))\n",
        "  print(\"sentence : \",room[i])\n",
        "  print(\"------------------------------------\")"
      ],
      "execution_count": 27,
      "outputs": [
        {
          "output_type": "stream",
          "text": [
            "dist :  3.3166247903554\n",
            "cosine :  0.5222329678670935\n",
            "jaccad  :  0.35294117647058826\n",
            "sentence :  바닥은 삐걱거리는 나무판자로 되어있다.\n",
            "------------------------------------\n",
            "dist :  3.7416573867739413\n",
            "cosine :  0.14433756729740646\n",
            "jaccad  :  0.06666666666666667\n",
            "sentence :  바닥은 차갑다\n",
            "------------------------------------\n",
            "dist :  2.23606797749979\n",
            "cosine :  0.819891591749923\n",
            "jaccad  :  0.6875\n",
            "sentence :  방 가운데에는 돌로 된 탁자가 하나 놓여있다.\n",
            "------------------------------------\n",
            "dist :  3.3166247903554\n",
            "cosine :  0.4364357804719848\n",
            "jaccad  :  0.26666666666666666\n",
            "sentence :  방에 문이 하나 있다.\n",
            "------------------------------------\n",
            "dist :  2.8284271247461903\n",
            "cosine :  0.6123724356957945\n",
            "jaccad  :  0.42857142857142855\n",
            "sentence :  문은 나무로 되어있다.\n",
            "------------------------------------\n",
            "dist :  4.123105625617661\n",
            "cosine :  0.1091089451179962\n",
            "jaccad  :  0.05555555555555555\n",
            "sentence :  문은 열리지 않는다.\n",
            "------------------------------------\n",
            "dist :  3.3166247903554\n",
            "cosine :  0.4811252243246881\n",
            "jaccad  :  0.3125\n",
            "sentence :  문에는 잠금장치가 걸려있다.\n",
            "------------------------------------\n",
            "dist :  3.0\n",
            "cosine :  0.545544725589981\n",
            "jaccad  :  0.35714285714285715\n",
            "sentence :  방에 침대가 하나 있다.\n",
            "------------------------------------\n",
            "dist :  3.1622776601683795\n",
            "cosine :  0.5833333333333334\n",
            "jaccad  :  0.4117647058823529\n",
            "sentence :  탁자 옆에는 의자가 두 개 놓여있다.\n",
            "------------------------------------\n",
            "dist :  3.4641016151377544\n",
            "cosine :  0.40824829046386296\n",
            "jaccad  :  0.25\n",
            "sentence :  침대 밑에는 열쇠가 있다.\n",
            "------------------------------------\n",
            "dist :  3.4641016151377544\n",
            "cosine :  0.3535533905932738\n",
            "jaccad  :  0.2\n",
            "sentence :  방에 창문이 없다.\n",
            "------------------------------------\n",
            "dist :  3.605551275463989\n",
            "cosine :  0.4351941398892446\n",
            "jaccad  :  0.25\n",
            "sentence :  방 안에 또 다른 방이 있다.\n",
            "------------------------------------\n",
            "dist :  3.4641016151377544\n",
            "cosine :  0.45643546458763845\n",
            "jaccad  :  0.29411764705882354\n",
            "sentence :  방과 방이 창문으로 연결되어 있다.\n",
            "------------------------------------\n"
          ],
          "name": "stdout"
        }
      ]
    }
  ]
}