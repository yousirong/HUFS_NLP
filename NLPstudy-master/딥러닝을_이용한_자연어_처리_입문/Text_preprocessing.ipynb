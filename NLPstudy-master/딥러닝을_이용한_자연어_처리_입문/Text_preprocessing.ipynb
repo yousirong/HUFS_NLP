{
  "nbformat": 4,
  "nbformat_minor": 0,
  "metadata": {
    "colab": {
      "name": "Text_preprocessing.ipynb",
      "provenance": [],
      "collapsed_sections": [
        "4izRwq24t7L8",
        "7nYjx7Ko0JfN",
        "cAH6ppXJ2b2Q",
        "5FY_tOtT5HiP"
      ]
    },
    "kernelspec": {
      "name": "python3",
      "display_name": "Python 3"
    }
  },
  "cells": [
    {
      "cell_type": "code",
      "metadata": {
        "id": "ibB-YJV_HPgK",
        "colab_type": "code",
        "colab": {}
      },
      "source": [
        "!pip install konlpy # konlpy 패키지 설치"
      ],
      "execution_count": 0,
      "outputs": []
    },
    {
      "cell_type": "code",
      "metadata": {
        "id": "veaDLZCwG0bO",
        "colab_type": "code",
        "colab": {}
      },
      "source": [
        "room = [\"바닥은 삐걱거리는 나무판자로 되어있다.\",\\\n",
        "        \"바닥은 차갑다\",\\\n",
        "        \"방 가운데에는 돌로 된 탁자가 하나 놓여있다.\",\\\n",
        "        \"방에 문이 하나 있다.\",\\\n",
        "        \"문은 나무로 되어있다.\",\\\n",
        "        \"문은 열리지 않는다.\",\\\n",
        "        \"문에는 잠금장치가 걸려있다.\",\\\n",
        "        \"방에 침대가 하나 있다.\",\\\n",
        "        \"탁자 옆에는 의자가 두 개 놓여있다.\",\\\n",
        "        \"침대 밑에는 열쇠가 있다.\",\\\n",
        "        \"방에 창문이 없다.\"]"
      ],
      "execution_count": 0,
      "outputs": []
    },
    {
      "cell_type": "markdown",
      "metadata": {
        "id": "4izRwq24t7L8",
        "colab_type": "text"
      },
      "source": [
        "# 형태소 단위 토큰화\n",
        "---\n"
      ]
    },
    {
      "cell_type": "code",
      "metadata": {
        "id": "T3UFrx7WKR8D",
        "colab_type": "code",
        "colab": {
          "base_uri": "https://localhost:8080/",
          "height": 0
        },
        "outputId": "c8c4a27c-52d9-4eb3-93b7-ae0232941665"
      },
      "source": [
        "from konlpy.tag import Okt # 속도가 빠르지만 정확하게 분류해내지 못함.\n",
        "o = Okt()\n",
        "room_pos = o.pos(room[0])\n",
        "room_nouns = o.nouns(room[0])\n",
        "print(room_pos)\n",
        "print(room_nouns)"
      ],
      "execution_count": 24,
      "outputs": [
        {
          "output_type": "stream",
          "text": [
            "[('바닥', 'Noun'), ('은', 'Josa'), ('삐걱', 'Noun'), ('거리', 'Noun'), ('는', 'Josa'), ('나무', 'Noun'), ('판자', 'Noun'), ('로', 'Josa'), ('되어있다', 'Verb'), ('.', 'Punctuation')]\n",
            "['바닥', '삐걱', '거리', '나무', '판자']\n"
          ],
          "name": "stdout"
        }
      ]
    },
    {
      "cell_type": "code",
      "metadata": {
        "id": "U3_LuA36rid-",
        "colab_type": "code",
        "colab": {
          "base_uri": "https://localhost:8080/",
          "height": 0
        },
        "outputId": "1c9ec27a-769d-4a42-c75e-279568e1c34c"
      },
      "source": [
        "from konlpy.tag import Kkma # 속도가 느리지만 정확하게 분류해낸다.\n",
        "k = Kkma()\n",
        "room_pos = k.pos(room[0])\n",
        "room_nouns = k.nouns(room[0])\n",
        "print(room_pos)\n",
        "print(room_nouns)"
      ],
      "execution_count": 26,
      "outputs": [
        {
          "output_type": "stream",
          "text": [
            "[('바닥', 'NNG'), ('은', 'JX'), ('삐걱거리', 'VV'), ('는', 'ETD'), ('나무', 'NNG'), ('판자', 'NNG'), ('로', 'JKM'), ('되', 'VV'), ('어', 'ECD'), ('있', 'VXV'), ('다', 'EFN'), ('.', 'SF')]\n",
            "['바닥', '나무', '나무판자', '판자']\n"
          ],
          "name": "stdout"
        }
      ]
    },
    {
      "cell_type": "markdown",
      "metadata": {
        "id": "7nYjx7Ko0JfN",
        "colab_type": "text"
      },
      "source": [
        "# 어간 추출(Stemming) 및 표제어 추출(Lemmatization)\n",
        "---\n",
        "\n"
      ]
    },
    {
      "cell_type": "markdown",
      "metadata": {
        "id": "k-T5bqui1Rk_",
        "colab_type": "text"
      },
      "source": [
        " - 뿌리 단어들을 찾아가서 단어의 개수를 줄일 수 있는지 확인\n",
        " - 예) am, are, is -> be\n",
        " - 형태학적 파싱이 필요.\n",
        " - 형태소의 두 가지 종류\n",
        "    1. 어간(stem) : 단어의 의미를 담고 있는 핵심 부분.\n",
        "    2. 접사(affix) : 단어에 추가적인 의미를 주는 부분."
      ]
    },
    {
      "cell_type": "markdown",
      "metadata": {
        "id": "cAH6ppXJ2b2Q",
        "colab_type": "text"
      },
      "source": [
        "# 불용어(stopwords) 제거\n",
        "---"
      ]
    },
    {
      "cell_type": "markdown",
      "metadata": {
        "id": "ZbRntm_y2xtS",
        "colab_type": "text"
      },
      "source": [
        "- 조사, 접속사 제거\n",
        "- 직접 정의 후 제거"
      ]
    },
    {
      "cell_type": "code",
      "metadata": {
        "id": "Awe9Qrxx3XCl",
        "colab_type": "code",
        "colab": {
          "base_uri": "https://localhost:8080/",
          "height": 0
        },
        "outputId": "6a6fc397-eeaa-485b-d6a3-87b29612bb28"
      },
      "source": [
        "import nltk\n",
        "nltk.download('punkt')"
      ],
      "execution_count": 30,
      "outputs": [
        {
          "output_type": "stream",
          "text": [
            "[nltk_data] Downloading package punkt to /root/nltk_data...\n",
            "[nltk_data]   Unzipping tokenizers/punkt.zip.\n"
          ],
          "name": "stdout"
        },
        {
          "output_type": "execute_result",
          "data": {
            "text/plain": [
              "True"
            ]
          },
          "metadata": {
            "tags": []
          },
          "execution_count": 30
        }
      ]
    },
    {
      "cell_type": "code",
      "metadata": {
        "id": "HmvT9QjUuvax",
        "colab_type": "code",
        "colab": {}
      },
      "source": [
        "from nltk.corpus import stopwords\n",
        "from nltk.tokenize import word_tokenize"
      ],
      "execution_count": 0,
      "outputs": []
    },
    {
      "cell_type": "code",
      "metadata": {
        "id": "7kNdv2M63IG9",
        "colab_type": "code",
        "colab": {}
      },
      "source": [
        "# 직접 정의 후 제거\n",
        "stop_words = \"된 있다 되어있다 놓여있다 .\"\n",
        "stop_words = stop_words.split(' ')\n",
        "tk_list = []\n",
        "for i in range(len(room)):\n",
        "  tk_list.append(word_tokenize(room[i]))\n",
        "\n",
        "result = []\n",
        "for tk in tk_list:\n",
        "  for w in tk:\n",
        "    if w not in stop_words:\n",
        "      result.append(w)"
      ],
      "execution_count": 0,
      "outputs": []
    },
    {
      "cell_type": "code",
      "metadata": {
        "id": "MFu2HuWA3d4m",
        "colab_type": "code",
        "colab": {
          "base_uri": "https://localhost:8080/",
          "height": 0
        },
        "outputId": "4ef45a21-cc3c-42e3-d96d-5801975a7e99"
      },
      "source": [
        "print(result)"
      ],
      "execution_count": 55,
      "outputs": [
        {
          "output_type": "stream",
          "text": [
            "['바닥은', '삐걱거리는', '나무판자로', '바닥은', '차갑다', '방', '가운데에는', '돌로', '탁자가', '하나', '방에', '문이', '하나', '문은', '나무로', '문은', '열리지', '않는다', '문에는', '잠금장치가', '걸려있다', '방에', '침대가', '하나', '탁자', '옆에는', '의자가', '두', '개', '침대', '밑에는', '열쇠가', '방에', '창문이', '없다']\n"
          ],
          "name": "stdout"
        }
      ]
    },
    {
      "cell_type": "markdown",
      "metadata": {
        "id": "5FY_tOtT5HiP",
        "colab_type": "text"
      },
      "source": [
        "# 정수 인코딩\n",
        "---"
      ]
    },
    {
      "cell_type": "code",
      "metadata": {
        "id": "W_wXYcyO6MiY",
        "colab_type": "code",
        "colab": {}
      },
      "source": [
        "from tensorflow.keras.preprocessing.text import Tokenizer\n",
        "tokenizer = Tokenizer()\n",
        "tokenizer.fit_on_texts(result)"
      ],
      "execution_count": 0,
      "outputs": []
    },
    {
      "cell_type": "code",
      "metadata": {
        "id": "Qd9W2cUg8ryU",
        "colab_type": "code",
        "colab": {
          "base_uri": "https://localhost:8080/",
          "height": 0
        },
        "outputId": "c19e968e-db12-4581-fc0b-4d32447e4b81"
      },
      "source": [
        "print(tokenizer.word_index) # 빈도 수가 높은 순서대로 index를 부여"
      ],
      "execution_count": 61,
      "outputs": [
        {
          "output_type": "stream",
          "text": [
            "{'하나': 1, '방에': 2, '바닥은': 3, '문은': 4, '삐걱거리는': 5, '나무판자로': 6, '차갑다': 7, '방': 8, '가운데에는': 9, '돌로': 10, '탁자가': 11, '문이': 12, '나무로': 13, '열리지': 14, '않는다': 15, '문에는': 16, '잠금장치가': 17, '걸려있다': 18, '침대가': 19, '탁자': 20, '옆에는': 21, '의자가': 22, '두': 23, '개': 24, '침대': 25, '밑에는': 26, '열쇠가': 27, '창문이': 28, '없다': 29}\n"
          ],
          "name": "stdout"
        }
      ]
    },
    {
      "cell_type": "code",
      "metadata": {
        "id": "CTZLGhLq8w1P",
        "colab_type": "code",
        "colab": {
          "base_uri": "https://localhost:8080/",
          "height": 0
        },
        "outputId": "9ccc8a2f-0969-4a05-f779-01d41a969986"
      },
      "source": [
        "print(tokenizer.texts_to_sequences(tk_list))"
      ],
      "execution_count": 62,
      "outputs": [
        {
          "output_type": "stream",
          "text": [
            "[[3, 5, 6], [3, 7], [8, 9, 10, 11, 1], [2, 12, 1], [4, 13], [4, 14, 15], [16, 17, 18], [2, 19, 1], [20, 21, 22, 23, 24], [25, 26, 27], [2, 28, 29]]\n"
          ],
          "name": "stdout"
        }
      ]
    },
    {
      "cell_type": "code",
      "metadata": {
        "id": "NgmaZGyW9XCU",
        "colab_type": "code",
        "colab": {}
      },
      "source": [
        "# 빈도수 상위 5개 단어만 인코딩\n",
        "vocab_size = 5\n",
        "tokenizer = Tokenizer(num_words=vocab_size+1)\n",
        "tokenizer.fit_on_texts(tk_list)"
      ],
      "execution_count": 0,
      "outputs": []
    },
    {
      "cell_type": "code",
      "metadata": {
        "id": "8uSz_4539yA5",
        "colab_type": "code",
        "colab": {
          "base_uri": "https://localhost:8080/",
          "height": 0
        },
        "outputId": "aa8e5348-e411-4829-b9db-9ef81b25b77c"
      },
      "source": [
        "tokenizer.texts_to_sequences(tk_list)"
      ],
      "execution_count": 66,
      "outputs": [
        {
          "output_type": "execute_result",
          "data": {
            "text/plain": [
              "[[5, 1],\n",
              " [5],\n",
              " [2, 1],\n",
              " [3, 2, 4, 1],\n",
              " [1],\n",
              " [1],\n",
              " [1],\n",
              " [3, 2, 4, 1],\n",
              " [1],\n",
              " [4, 1],\n",
              " [3, 1]]"
            ]
          },
          "metadata": {
            "tags": []
          },
          "execution_count": 66
        }
      ]
    },
    {
      "cell_type": "code",
      "metadata": {
        "id": "KlTcdQbR-Cb6",
        "colab_type": "code",
        "colab": {}
      },
      "source": [
        ""
      ],
      "execution_count": 0,
      "outputs": []
    },
    {
      "cell_type": "markdown",
      "metadata": {
        "id": "iCKb-lUM-ckD",
        "colab_type": "text"
      },
      "source": [
        "# 원-핫 인코딩\n",
        "---"
      ]
    },
    {
      "cell_type": "markdown",
      "metadata": {
        "id": "_LP2NWORD8ee",
        "colab_type": "text"
      },
      "source": [
        "- 한계\n",
        "  - 벡터를 저장하기 위한 공간이 계속해서 늘어남\n",
        "  - 단어의 유사도 표현이 불가"
      ]
    },
    {
      "cell_type": "code",
      "metadata": {
        "id": "I_RLG_1Y-fmx",
        "colab_type": "code",
        "colab": {}
      },
      "source": [
        "from konlpy.tag import Okt\n",
        "okt = Okt()\n",
        "token = okt.morphs(' '.join(room))"
      ],
      "execution_count": 0,
      "outputs": []
    },
    {
      "cell_type": "code",
      "metadata": {
        "id": "kcsvbgj7_Wnv",
        "colab_type": "code",
        "colab": {
          "base_uri": "https://localhost:8080/",
          "height": 54
        },
        "outputId": "fda71dba-eb9a-4481-a3b6-41262f8666ad"
      },
      "source": [
        "word2index = {} # 토큰마다 고유 인덱스 부여\n",
        "for voca in token:\n",
        "  if voca not in word2index.keys():\n",
        "    word2index[voca] = len(word2index)\n",
        "print(word2index)"
      ],
      "execution_count": 71,
      "outputs": [
        {
          "output_type": "stream",
          "text": [
            "{'바닥': 0, '은': 1, '삐걱': 2, '거리': 3, '는': 4, '나무': 5, '판자': 6, '로': 7, '되어있다': 8, '.': 9, '차갑다': 10, '방': 11, '가운데': 12, '에는': 13, '돌': 14, '된': 15, '탁자': 16, '가': 17, '하나': 18, '놓여있다': 19, '에': 20, '문': 21, '이': 22, '있다': 23, '열': 24, '리지': 25, '않는다': 26, '잠금장치': 27, '걸려있다': 28, '침대': 29, '옆': 30, '의자': 31, '두': 32, '개': 33, '밑': 34, '열쇠': 35, '창문': 36, '없다': 37}\n"
          ],
          "name": "stdout"
        }
      ]
    },
    {
      "cell_type": "code",
      "metadata": {
        "id": "5Pcb0l7j_fVI",
        "colab_type": "code",
        "colab": {}
      },
      "source": [
        "def one_hot_encoding(word, word2index):\n",
        "  one_hot_vector = [0]*(len(word2index))\n",
        "  index = word2index[word]\n",
        "  one_hot_vector[index] = 1\n",
        "  return one_hot_vector"
      ],
      "execution_count": 0,
      "outputs": []
    },
    {
      "cell_type": "code",
      "metadata": {
        "id": "dTXEJUnWBHUR",
        "colab_type": "code",
        "colab": {
          "base_uri": "https://localhost:8080/",
          "height": 34
        },
        "outputId": "cd433795-0549-4ff5-ca86-a0746614c5e4"
      },
      "source": [
        "print(one_hot_encoding(\"침대\",word2index))"
      ],
      "execution_count": 75,
      "outputs": [
        {
          "output_type": "stream",
          "text": [
            "[0, 0, 0, 0, 0, 0, 0, 0, 0, 0, 0, 0, 0, 0, 0, 0, 0, 0, 0, 0, 0, 0, 0, 0, 0, 0, 0, 0, 0, 1, 0, 0, 0, 0, 0, 0, 0, 0]\n"
          ],
          "name": "stdout"
        }
      ]
    },
    {
      "cell_type": "code",
      "metadata": {
        "id": "bHuqftNYBPw-",
        "colab_type": "code",
        "colab": {
          "base_uri": "https://localhost:8080/",
          "height": 54
        },
        "outputId": "1f33ed67-84b9-427c-b828-3906375440d9"
      },
      "source": [
        "# 케라스를 이용한 one hot encoding\n",
        "from tensorflow.keras.preprocessing.text import Tokenizer\n",
        "from tensorflow.keras.utils import to_categorical\n",
        "tokenizer = Tokenizer()\n",
        "tokenizer.fit_on_texts(room)\n",
        "print(tokenizer.word_index)"
      ],
      "execution_count": 81,
      "outputs": [
        {
          "output_type": "stream",
          "text": [
            "{'하나': 1, '방에': 2, '있다': 3, '바닥은': 4, '되어있다': 5, '놓여있다': 6, '문은': 7, '삐걱거리는': 8, '나무판자로': 9, '차갑다': 10, '방': 11, '가운데에는': 12, '돌로': 13, '된': 14, '탁자가': 15, '문이': 16, '나무로': 17, '열리지': 18, '않는다': 19, '문에는': 20, '잠금장치가': 21, '걸려있다': 22, '침대가': 23, '탁자': 24, '옆에는': 25, '의자가': 26, '두': 27, '개': 28, '침대': 29, '밑에는': 30, '열쇠가': 31, '창문이': 32, '없다': 33}\n"
          ],
          "name": "stdout"
        }
      ]
    },
    {
      "cell_type": "code",
      "metadata": {
        "id": "KUONqoBzCPBe",
        "colab_type": "code",
        "colab": {
          "base_uri": "https://localhost:8080/",
          "height": 34
        },
        "outputId": "c701e788-729a-4b3c-edbc-f7e1de84e2a3"
      },
      "source": [
        "sub_text = \"침대가 나무로 되어있다.\"\n",
        "encoded = tokenizer.texts_to_sequences([sub_text])[0]\n",
        "print(encoded)"
      ],
      "execution_count": 83,
      "outputs": [
        {
          "output_type": "stream",
          "text": [
            "[23, 17, 5]\n"
          ],
          "name": "stdout"
        }
      ]
    },
    {
      "cell_type": "code",
      "metadata": {
        "id": "3D5QHUtwDGQ9",
        "colab_type": "code",
        "colab": {
          "base_uri": "https://localhost:8080/",
          "height": 122
        },
        "outputId": "717b48dc-d98e-44ac-ff4d-7e2b6a7213c7"
      },
      "source": [
        "one_hot = to_categorical(encoded)\n",
        "one_hot"
      ],
      "execution_count": 84,
      "outputs": [
        {
          "output_type": "execute_result",
          "data": {
            "text/plain": [
              "array([[0., 0., 0., 0., 0., 0., 0., 0., 0., 0., 0., 0., 0., 0., 0., 0.,\n",
              "        0., 0., 0., 0., 0., 0., 0., 1.],\n",
              "       [0., 0., 0., 0., 0., 0., 0., 0., 0., 0., 0., 0., 0., 0., 0., 0.,\n",
              "        0., 1., 0., 0., 0., 0., 0., 0.],\n",
              "       [0., 0., 0., 0., 0., 1., 0., 0., 0., 0., 0., 0., 0., 0., 0., 0.,\n",
              "        0., 0., 0., 0., 0., 0., 0., 0.]], dtype=float32)"
            ]
          },
          "metadata": {
            "tags": []
          },
          "execution_count": 84
        }
      ]
    },
    {
      "cell_type": "markdown",
      "metadata": {
        "id": "t6vOFbVtEPGE",
        "colab_type": "text"
      },
      "source": [
        "# 단어 분리(Subword Segmentation)\n",
        "---"
      ]
    },
    {
      "cell_type": "markdown",
      "metadata": {
        "id": "MTNFDDECEkRZ",
        "colab_type": "text"
      },
      "source": [
        "- BPE(Byte pair Encoding) 알고리즘, WPM(Word Piece Model) 등이 있다.\n",
        "- 하나의 단어가 의미있는 여러 단어의 조합인 경우가 많기 때문에 효과적"
      ]
    }
  ]
}