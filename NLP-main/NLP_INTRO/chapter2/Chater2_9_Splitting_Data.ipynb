{
  "nbformat": 4,
  "nbformat_minor": 0,
  "metadata": {
    "colab": {
      "name": "Chater2_9_Splitting_Data.ipynb",
      "provenance": [],
      "collapsed_sections": []
    },
    "kernelspec": {
      "name": "python3",
      "display_name": "Python 3"
    }
  },
  "cells": [
    {
      "cell_type": "markdown",
      "metadata": {
        "id": "HdeLZpxUZR_x"
      },
      "source": [
        "**09) 데이터의 분리(Splitting Data)**\n",
        "\n",
        "  지도학습을 위한 데이터 분리 작업"
      ]
    },
    {
      "cell_type": "markdown",
      "metadata": {
        "id": "hINeZu4UZdLG"
      },
      "source": [
        "1. 지도 학습(Supervised Learning)\n",
        "\n",
        "  <훈련 데이터>  \n",
        "  X_train : 문제지 데이터  \n",
        "  y_train : 문제지에 대한 정답 데이터.  \n",
        "\n",
        "  <테스트 데이터>  \n",
        "  X_test : 시험지 데이터.  \n",
        "  y_test : 시험지에 대한 정답 데이터.  "
      ]
    },
    {
      "cell_type": "markdown",
      "metadata": {
        "id": "Ha3MVvgWdbyX"
      },
      "source": [
        "2. X와 y분리하기"
      ]
    },
    {
      "cell_type": "code",
      "metadata": {
        "id": "k8Da6HITZIM-",
        "outputId": "c2ff8d69-0726-463d-b8b6-8e788f3d9c6b",
        "colab": {
          "base_uri": "https://localhost:8080/",
          "height": 701
        }
      },
      "source": [
        "# 1) zip 함수를 이용하여 분리하기\n",
        "# zip(*iterable)은 동일한 개수로 이루어진 자료형을 묶어 주는 역할을 하는 함수이다.\n",
        "\n",
        "X,y = zip(['a',1],['b',1],['c',1])\n",
        "print(X)\n",
        "print(y)\n",
        "print()\n",
        "\n",
        "sequences=[['a', 1], ['b', 2], ['c', 3]] # 리스트의 리스트 또는 행렬 또는 뒤에서 배울 개념인 2D 텐서.\n",
        "X,y = zip(*sequences) # *를 추가\n",
        "print('zip 함수를 이용하여 분리 --------------------')\n",
        "print(X)\n",
        "print(y)\n",
        "print()\n",
        "\n",
        "# 2) 데이터프레임을 이용하여 분리하기\n",
        "\n",
        "import pandas as pd\n",
        "\n",
        "values = [['당신에게 드리는 마지막 혜택', 1],\n",
        "          ['내일 뵐 수 있을지 확인 부탁드...', 0],\n",
        "          ['도연씨. 잘 지내시죠? 오랜만입...', 0],\n",
        "          ['(광고) AI로 주가를 예측할 수 있다!', 1]]\n",
        "\n",
        "columns = ['메일 본문','스팸메일 유무']\n",
        "\n",
        "df = pd.DataFrame(values, columns=columns)\n",
        "print('DataFrame ----------------------------------')\n",
        "print(df)\n",
        "print()\n",
        "X=df['메일 본문']\n",
        "y=df['스팸메일 유무']\n",
        "\n",
        "print(X)\n",
        "print()\n",
        "print(y)\n",
        "print()\n",
        "\n",
        "# 3) Numpy 를 이용하여 분리하기\n",
        "import numpy as np\n",
        "ar = np.arange(0,16).reshape((4,4)) # arange 로 배열 생성, reshape 로 배열을 다차원으로 변형\n",
        "print(ar)\n",
        "print()\n",
        "\n",
        "X=ar[:,:3]\n",
        "print(X)\n",
        "print()\n",
        "\n",
        "y=ar[:,3]\n",
        "print(y)\n",
        "print()"
      ],
      "execution_count": 14,
      "outputs": [
        {
          "output_type": "stream",
          "text": [
            "('a', 'b', 'c')\n",
            "(1, 1, 1)\n",
            "\n",
            "zip 함수를 이용하여 분리 --------------------\n",
            "('a', 'b', 'c')\n",
            "(1, 2, 3)\n",
            "\n",
            "DataFrame ----------------------------------\n",
            "                    메일 본문  스팸메일 유무\n",
            "0         당신에게 드리는 마지막 혜택        1\n",
            "1    내일 뵐 수 있을지 확인 부탁드...        0\n",
            "2    도연씨. 잘 지내시죠? 오랜만입...        0\n",
            "3  (광고) AI로 주가를 예측할 수 있다!        1\n",
            "\n",
            "0           당신에게 드리는 마지막 혜택\n",
            "1      내일 뵐 수 있을지 확인 부탁드...\n",
            "2      도연씨. 잘 지내시죠? 오랜만입...\n",
            "3    (광고) AI로 주가를 예측할 수 있다!\n",
            "Name: 메일 본문, dtype: object\n",
            "\n",
            "0    1\n",
            "1    0\n",
            "2    0\n",
            "3    1\n",
            "Name: 스팸메일 유무, dtype: int64\n",
            "\n",
            "[[ 0  1  2  3]\n",
            " [ 4  5  6  7]\n",
            " [ 8  9 10 11]\n",
            " [12 13 14 15]]\n",
            "\n",
            "[[ 0  1  2]\n",
            " [ 4  5  6]\n",
            " [ 8  9 10]\n",
            " [12 13 14]]\n",
            "\n",
            "[ 3  7 11 15]\n",
            "\n"
          ],
          "name": "stdout"
        }
      ]
    },
    {
      "cell_type": "markdown",
      "metadata": {
        "id": "WBYyGsVvhmlw"
      },
      "source": [
        "3. 테스트 데이터 분리하기"
      ]
    },
    {
      "cell_type": "code",
      "metadata": {
        "id": "FGZTXoPNhos3"
      },
      "source": [
        "# 1) 사이킷 런을 이용하여 분리하기\n",
        "\n",
        "print('X ------------------------------------------')\n",
        "print(X)\n",
        "print()\n",
        "print('y ------------------------------------------')\n",
        "print(y)\n",
        "print()\n",
        "\n",
        "from sklearn.model_selection import train_test_split\n",
        "X_train, X_test, y_train, y_test = train_test_split(X, y, test_size=0.2, random_state=1234)\n",
        "\n",
        "# X : 독립변수 데이터. (배열이나 데이터프레임)\n",
        "# y : 종속변수 데이터. 레이블 데이터\n",
        "# test_size : 테스트용 데이터 개수를 지정한다. 1보다 작은 실수를 기재할 경우, 비율을 나타낸다\n",
        "# train_size : 학습용 데이터 개수를 지정한다. 1보다 작은 실수를 기재할 경우, 비율을 나타낸다.\n",
        "# random_state : 난수 시드\n",
        "\n",
        "print('X_train ------------------------------------')\n",
        "print(X_train)\n",
        "print()\n",
        "print('X_test -------------------------------------')\n",
        "print(X_test)\n",
        "print()\n",
        "print('y_train ------------------------------------')\n",
        "print(y_train)\n",
        "print()\n",
        "print('y_test -------------------------------------')\n",
        "print(y_test)\n",
        "print()\n",
        "\n",
        "\n",
        "import numpy as np\n",
        "from sklearn.model_selection import train_test_split\n",
        "X, y = np.arange(10).reshape((5, 2)), range(5)\n",
        "# 실습을 위해 임의로 X와 y가 이미 분리 된 데이터를 생성\n",
        "print(X)\n",
        "print(list(y)) #레이블 데이터\n",
        "print()\n",
        "\n",
        "X_train, X_test, y_train, y_test = train_test_split(X, y, test_size=0.33, random_state=1234)\n",
        "#3분의 1만 test 데이터로 지정.\n",
        "#random_state 지정으로 인해 순서가 섞인 채로 훈련 데이터와 테스트 데이터가 나눠진다.\n",
        "\n",
        "print('X_train ------------------------------------')\n",
        "print(X_train)\n",
        "print()\n",
        "print('X_test -------------------------------------')\n",
        "print(X_test)\n",
        "print()\n",
        "print('y_train ------------------------------------')\n",
        "print(y_train)\n",
        "print()\n",
        "print('y_test -------------------------------------')\n",
        "print(y_test)\n",
        "print()"
      ],
      "execution_count": null,
      "outputs": []
    },
    {
      "cell_type": "code",
      "metadata": {
        "id": "cOzYK1sll4jp"
      },
      "source": [
        "# 2) 수동으로 분리하기\n",
        "\n",
        "import numpy as np\n",
        "X, y = np.arange(0,24).reshape((12,2)), range(12)\n",
        "# 실습을 위해 임의로 X와 y가 이미 분리 된 데이터를 생성\n",
        "\n",
        "print('X ------------------------------------------')\n",
        "print(X)\n",
        "print()\n",
        "print('y ------------------------------------------')\n",
        "print(list(y))\n",
        "print()\n",
        "\n",
        "n_of_train = int(len(X) * 0.8) # 데이터의 전체 길이의 80%에 해당하는 길이값을 구한다.\n",
        "n_of_test = int(len(X) - n_of_train) # 전체 길이에서 80%에 해당하는 길이를 뺀다.\n",
        "print('n_of_train : ' + str(n_of_train))\n",
        "print('n_of_test : ' + str(n_of_test))\n",
        "print()\n",
        "\n",
        "X_test = X[n_of_train:] #전체 데이터 중에서 20%만큼 뒤의 데이터 저장\n",
        "y_test = y[n_of_train:] #전체 데이터 중에서 20%만큼 뒤의 데이터 저장\n",
        "X_train = X[:n_of_train] #전체 데이터 중에서 80%만큼 앞의 데이터 저장\n",
        "y_train = y[:n_of_train] #전체 데이터 중에서 80%만큼 앞의 데이터 저장\n",
        "\n",
        "print('X_train ------------------------------------')\n",
        "print(X_train)\n",
        "print()\n",
        "print('X_test -------------------------------------')\n",
        "print(X_test)\n",
        "print()\n",
        "print('y_train ------------------------------------')\n",
        "print(list(y_train))\n",
        "print()\n",
        "print('y_test -------------------------------------')\n",
        "print(list(y_test))\n",
        "print()"
      ],
      "execution_count": null,
      "outputs": []
    }
  ]
}