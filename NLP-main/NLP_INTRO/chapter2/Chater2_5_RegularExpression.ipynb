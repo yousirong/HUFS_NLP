{
  "nbformat": 4,
  "nbformat_minor": 0,
  "metadata": {
    "colab": {
      "name": "Chater2_5_RegularExpression.ipynb",
      "provenance": [],
      "collapsed_sections": []
    },
    "kernelspec": {
      "name": "python3",
      "display_name": "Python 3"
    }
  },
  "cells": [
    {
      "cell_type": "markdown",
      "metadata": {
        "id": "YL7AmwXcDbOg"
      },
      "source": [
        "**05) 정규 표현식(Regular Expression)**\n"
      ]
    },
    {
      "cell_type": "markdown",
      "metadata": {
        "id": "OZmVsf9lD1jU"
      },
      "source": [
        "2. 정규 표현식 실습\n",
        "\n",
        "  1) 정규표현식 문법\n",
        "\n",
        "   역 슬래쉬(\\)를 이용하여 자주 쓰이는 문자 규칙  \n",
        "   [정규표현식 - MDN](https://developer.mozilla.org/ko/docs/Web/JavaScript/Guide/%EC%A0%95%EA%B7%9C%EC%8B%9D) 참고\n",
        "\n",
        "| 문자규칙 | 설명 |\n",
        "|---|---|\n",
        "| \\\\ | 역 슬래쉬 문자 자체를 의미 |\n",
        "| \\d | 모든 숫자를 의미. [0-9]와 의미가 동일 |\n",
        "| \\D | 숫자를 제외한 모든 문자를 의미. [^0-9]와 의미가 동일 |\n",
        "| \\s | 공백을 의미. [ \\t\\n\\r\\f\\v]와 의미가 동일 |\n",
        "| \\S | 공백을 제외한 문자를 의미. [^ \\t\\n\\r\\f\\v]와 의미가 동일 |\n",
        "| \\w | 문자 또는 숫자를 의미. [a-zA-Z0-9]와 의미가 동일 |\n",
        "| \\W | 문자 또는 숫자가 아닌 문자를 의미. [^a-zA-Z0-9]와 의미가 동일 |\n",
        "\n",
        "  2) 정규표현식 모듈함수  \n",
        "\n",
        "| 모듈함수 | 설명 |\n",
        "|---|---|\n",
        "| re.compile() | 정규표현식을 컴파일하는 함수 |\n",
        "| re.search() | 문자열 전체에 대해서 정규표현시과 매치되는지를 검색 |\n",
        "| re.match() | 문자열의 처음이 정규표현식과 매치되는지를 검색 |\n",
        "| re.split() | 정규표현식을 기준으로 문자열을 분리하여 리스트로 리턴 |\n",
        "| re.findall() | 문자열에서 정규표현식과 매치되는 모든 경우의 문자열을 찾아서 리스트로 리턴 |\n",
        "| re.finditer() | 문자열에서 정규표현식과 매치되는 모든 경우의 문자열에 대한 이터레이터 객체를 리턴 |\n",
        "| re.sub() | 문자열에서 정규표현식과 일치하는 부분에 대해서 다른 문자열로 대체 |"
      ]
    },
    {
      "cell_type": "code",
      "metadata": {
        "id": "GMqlywWgDUFh"
      },
      "source": [
        "import re\n",
        "\n",
        "# 1) .기호 : .은 한 개의 임의의 문자\n",
        "r = re.compile(\"a.c\")\n",
        "print('1) .기호 -----------------------------------')\n",
        "print(r.search(\"kkk\"))\n",
        "print(r.search(\"abc\"))\n",
        "print()\n",
        "\n",
        "# 2) ?기호 : ?는 ? 앞의 문자가 존재할 수도 있고, 존재하지 않을 수도 있는 경우\n",
        "r=re.compile(\"ab?c\")\n",
        "print('2) ?기호 -----------------------------------')\n",
        "print(r.search(\"abbc\"))\n",
        "print(r.search(\"abc\"))\n",
        "print(r.search(\"ac\"))\n",
        "print()\n",
        "\n",
        "# 3) *기호 : *은 바로 앞의 문자가 0개 이상일 경우\n",
        "r=re.compile(\"ab*c\")\n",
        "print('3) *기호 -----------------------------------')\n",
        "print(r.search(\"a\"))\n",
        "print(r.search(\"ac\"))\n",
        "print(r.search(\"abc\"))\n",
        "print(r.search(\"abbbc\"))\n",
        "print()\n",
        "\n",
        "# 4) +기호 : +는 *와 유사. 앞의 문자가 최소 1개 이상\n",
        "r=re.compile(\"ab+c\")\n",
        "print('4) +기호 -----------------------------------')\n",
        "print(r.search(\"ac\"))\n",
        "print(r.search(\"abc\"))\n",
        "print(r.search(\"abbbc\"))\n",
        "print()\n",
        "\n",
        "# 5) ^기호 : ^는 시작되는 글자를 지정\n",
        "r=re.compile(\"^a\")\n",
        "print('5) ^기호 -----------------------------------')\n",
        "print(r.search(\"bbc\"))\n",
        "print(r.search(\"ab\"))\n",
        "print()\n",
        "\n",
        "# 6) {숫자} 기호 : 문자에 해당 기호를 붙이면, 해당 문자를 숫자만큼 반복\n",
        "r=re.compile(\"ab{2}c\")\n",
        "print('6) {숫자} 기호 -----------------------------')\n",
        "print(r.search(\"ac\"))\n",
        "print(r.search(\"abc\"))\n",
        "print(r.search(\"abbc\"))\n",
        "print(r.search(\"abbbc\"))\n",
        "# print()\n",
        "\n",
        "# 7) {숫자1, 숫자2} 기호 : 문자에 해당 기호를 붙이면, 해당 문자를 숫자1 이상 숫자2 이하만큼 반복\n",
        "r=re.compile(\"ab{2,8}c\")\n",
        "print('7) {숫자1, 숫자2} 기호 ---------------------')\n",
        "print(r.search(\"ac\"))\n",
        "print(r.search(\"abc\"))\n",
        "print(r.search(\"abbc\"))\n",
        "print(r.search(\"abbbbbbbbc\"))\n",
        "print(r.search(\"abbbbbbbbbc\"))\n",
        "print()\n",
        "\n",
        "# 8) {숫자,} 기호 : 문자에 해당 기호를 붙이면 해당 문자를 숫자 이상 만큼 반복\n",
        "r=re.compile(\"a{2,}bc\")\n",
        "print('8) {숫자,} 기호 ----------------------------')\n",
        "print(r.search(\"bc\"))\n",
        "print(r.search(\"aa\"))\n",
        "print(r.search(\"aabc\"))\n",
        "print(r.search(\"aaaaaaaabc\"))\n",
        "print()\n",
        "\n",
        "# 9) [ ] 기호 : [ ]안에 문자들을 넣으면 그 문자들 중 한 개의 문자와 매치라는 의미\n",
        "r=re.compile(\"[abc]\")\n",
        "print('9) [ ] 기호 --------------------------------')\n",
        "print(r.search(\"a\"))\n",
        "print(r.search(\"aaaaaaa\"))\n",
        "print(r.search(\"baac\"))\n",
        "print()\n",
        "\n",
        "r=re.compile(\"[a-z]\")\n",
        "print(r.search(\"AAA\"))\n",
        "print(r.search(\"aBc\"))\n",
        "print(r.search(\"111\"))\n",
        "print()\n",
        "\n",
        "# 10) [^문자] 기호 : ^ 기호 뒤에 붙은 문자들을 제외한 모든 문자를 매치\n",
        "r=re.compile(\"[^abc]\")\n",
        "print('10) [^문자] 기호 ---------------------------')\n",
        "print(r.search(\"a\"))\n",
        "print(r.search(\"ab\"))\n",
        "print(r.search(\"b\"))\n",
        "print(r.search(\"cabbac\"))\n",
        "print(r.search(\"d\"))\n",
        "print(r.search(\"1\"))\n",
        "print()\n"
      ],
      "execution_count": null,
      "outputs": []
    },
    {
      "cell_type": "markdown",
      "metadata": {
        "id": "xRy9u1HnRYDQ"
      },
      "source": [
        "3. 정규 표현식 모듈 함수 예제"
      ]
    },
    {
      "cell_type": "code",
      "metadata": {
        "id": "bjlErOyFRaCk"
      },
      "source": [
        "# 1) re.match() 와 re.search()의 차이\n",
        "  # - re.search() : 정규 표현식 전체에 대해서 문자열이 매치하는지 확인\n",
        "  # - re.match()  : 문자열의 첫 부분부터 정규 표현식과 매치하는지 확인. match 함수는 문자열의 시작에서 패턴이 일치하지 않으면 찾지 않습니다.\n",
        "r=re.compile(\"ab.\")\n",
        "print('1) re.match() 와 re.search()의 차이 -------')\n",
        "print(r.search(\"kkkabc\"))\n",
        "print(r.match(\"kkkabc\"))\n",
        "print(r.match(\"abckkk\"))\n",
        "print()\n",
        "\n",
        "\n",
        "# 2) re.split() : 입력된 정규 표현식을 기준으로 문자열들을 분리하여 리스트로 리턴\n",
        "text=\"사과 딸기 수박 메론 바나나\"\n",
        "print('2) re.split() -----------------------------')\n",
        "print(re.split(\" \", text))\n",
        "print()\n",
        "\n",
        "text=\"\"\"사과\n",
        "딸기\n",
        "수박\n",
        "메론\n",
        "바나나\"\"\"\n",
        "print(re.split(\"\\n\", text))\n",
        "print()\n",
        "\n",
        "text=\"사과+딸기+수박+메론+바나나\"\n",
        "print(re.split(\"\\+\",text))\n",
        "print()\n",
        "\n",
        "# 3) re.findall() : 정규 표현식과 매치되는 모든 문자열들을 리스트로 리턴\n",
        "print('re.findall() ------------------------------')\n",
        "text=\"\"\"이름 : 김철수\n",
        "전화번로 : 010 - 1234- 5678\n",
        "나이 \" 30\n",
        "성별 : 남\"\"\"\n",
        "print(re.findall(\"\\d+\", text))\n",
        "print()\n",
        "print(re.findall(\"\\d+\", \"문자열입니다.\"))\n",
        "print()\n",
        "\n",
        "# 4) re.sub() : 정규 표현식 패턴과 일치하는 문자열을 찾아 다른 문자열로 대체\n",
        "print('4) re.sub() -------------------------------')\n",
        "text=\"Regular expression : A regular expression, regex or regexp[1] (sometimes called a rational expression)[2][3] is, in theoretical computer science and formal language theory, a sequence of characters that define a search pattern.\"\n",
        "print(re.sub('[^a-zA-Z]',' ',text))\n",
        "print()"
      ],
      "execution_count": null,
      "outputs": []
    },
    {
      "cell_type": "markdown",
      "metadata": {
        "id": "YI9ZH_fxURt3"
      },
      "source": [
        "5. 정규 표현식 텍스트 전처리 예제"
      ]
    },
    {
      "cell_type": "code",
      "metadata": {
        "id": "0UJkPfvIUYY8"
      },
      "source": [
        "import re\n",
        "\n",
        "text = \"\"\"100 John    PROF\n",
        "101 James   STUD\n",
        "102 Mac   STUD\"\"\"  \n",
        "\n",
        "print(re.split(\"\\s+\", text)) # 공백을 기준으로 분리\n",
        "\n",
        "print(re.findall('\\d+',text)) # 숫자만 찾음\n",
        "\n",
        "print(re.findall('[A-Z]',text)) # 대문자만 찾음\n",
        "\n",
        "print(re.findall('[A-Z]{4}',text)) # 대문자 4번\n",
        "\n",
        "print(re.findall('[A-Z][a-z]+',text)) # 대문자로 시작하고 소문자 여러번 등장\n",
        "\n",
        "print(re.sub('[^a-zA-Z]', ' ', text)) # 영대문자가 아닌 문자는 전부 공백 치환"
      ],
      "execution_count": null,
      "outputs": []
    },
    {
      "cell_type": "markdown",
      "metadata": {
        "id": "jfGM3RzIZV_p"
      },
      "source": [
        "6. 정규 표현식을 이용한 토큰화"
      ]
    },
    {
      "cell_type": "code",
      "metadata": {
        "id": "psIzbvjOZYJh"
      },
      "source": [
        "import nltk\n",
        "from nltk.tokenize import RegexpTokenizer\n",
        "\n",
        "text = \"Don't be fooled by the dark sounding name, Mr. Jone's Orphanage is as cheery as cheery goes for a pastry shop\"\n",
        "\n",
        "tokenizer=RegexpTokenizer(\"[\\w]+\")\n",
        "print(tokenizer.tokenize(text))  # 문자, 숫자를 기준으로 분리\n",
        "\n",
        "tokenizer=RegexpTokenizer(\"[\\s]+\", gaps=True)\n",
        "print(tokenizer.tokenize(text))  # 공백을 기준으로 분리"
      ],
      "execution_count": null,
      "outputs": []
    }
  ]
}