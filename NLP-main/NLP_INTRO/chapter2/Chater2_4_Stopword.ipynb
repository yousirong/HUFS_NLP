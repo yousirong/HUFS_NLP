{
  "nbformat": 4,
  "nbformat_minor": 0,
  "metadata": {
    "colab": {
      "name": "Chater2_4_Stopword.ipynb",
      "provenance": [],
      "collapsed_sections": []
    },
    "kernelspec": {
      "name": "python3",
      "display_name": "Python 3"
    }
  },
  "cells": [
    {
      "cell_type": "markdown",
      "metadata": {
        "id": "Bw16HHZEYa9X"
      },
      "source": [
        "**04) 불용어(Stopword)**\n",
        "\n",
        "  갖고 있는 데이터에서 유의미한 단어 토큰만을 선별하기 위해서는 큰 의미가 없는 단어 토큰을 제거하는 작업이 필요  \n",
        "\n",
        "  문장에서는 자주 등장하지만 실제 의미 분석을 하는데는 거의 기여하는 바가 없는 단어들을 불용어(stopword)라고 하며, NLTK에서는 100여개 이상의 영어 단어들을 불용어로 패키지 내에서 미리 정의하고 있습니다."
      ]
    },
    {
      "cell_type": "markdown",
      "metadata": {
        "id": "8jY_3RRNaJAZ"
      },
      "source": [
        "1. NLTK에서 불용어 확인하기"
      ]
    },
    {
      "cell_type": "code",
      "metadata": {
        "id": "G1-iJ7DEYUsu"
      },
      "source": [
        "import nltk\n",
        "nltk.download('stopwords')\n",
        "\n",
        "from nltk.corpus import stopwords  \n",
        "stopwords.words('english')[:10]  "
      ],
      "execution_count": null,
      "outputs": []
    },
    {
      "cell_type": "markdown",
      "metadata": {
        "id": "X9y1k-jOaK0L"
      },
      "source": [
        "2. NLTK를 통해서 불용어 제거하기"
      ]
    },
    {
      "cell_type": "code",
      "metadata": {
        "id": "fXpZY3v5aIb3"
      },
      "source": [
        "import nltk\n",
        "nltk.download('punkt')\n",
        "\n",
        "from nltk.corpus import stopwords\n",
        "from nltk.tokenize import word_tokenize\n",
        "\n",
        "text = \"Family is not an important thing. It's everything.\"\n",
        "print('text ---------------------------------------')\n",
        "print(text)\n",
        "print()\n",
        "\n",
        "# set : 집합자료형\n",
        "# https://wikidocs.net/1015\n",
        "#  - 중복을 허용하지 않는다.\n",
        "#  - 순서가 없다(Unordered)\n",
        "\n",
        "stop_words = set(stopwords.words('english')) \n",
        "\n",
        "word_tokens = word_tokenize(text)\n",
        "\n",
        "result = []\n",
        "\n",
        "print('stop_word list -----------------------------')\n",
        "for w in word_tokens:\n",
        "  if w not in stop_words:\n",
        "    result.append(w)\n",
        "  else:\n",
        "    print('[%s]is stop_words' %w)\n",
        "\n",
        "print()\n",
        "\n",
        "print('word_tokens --------------------------------')\n",
        "print(word_tokens)    \n",
        "print()\n",
        "\n",
        "print('result -------------------------------------')\n",
        "print(result)\n",
        "print()"
      ],
      "execution_count": null,
      "outputs": []
    },
    {
      "cell_type": "markdown",
      "metadata": {
        "id": "EExiced4dAyZ"
      },
      "source": [
        "3. 한국어에서 불용어 제거하기  \n",
        "  한국어 불용어 사이트\n",
        "    - [Korean Stopwords](https://www.ranks.nl/stopwords/korean)\n",
        "    - [한국어 불용어 리스트 100개](https://bab2min.tistory.com/544)"
      ]
    },
    {
      "cell_type": "code",
      "metadata": {
        "id": "rfZrtqJAdDc3"
      },
      "source": [
        "from nltk.corpus import stopwords\n",
        "from nltk.tokenize import word_tokenize\n",
        "\n",
        "text = \"고기를 아무렇게나 구우려고 하면 안 돼. 고기라고 다 같은 게 아니거든. 예컨대 삼겹살을 구울 때는 중요한 게 있지.\"\n",
        "print('text ---------------------------------------')\n",
        "print(text)\n",
        "print()\n",
        "\n",
        "stop_word_text = \"아무거나 아무렇게나 어찌하든지 같다 비슷하다 예컨대 이럴정도로 하면 아니거든\"\n",
        "# 위의 불용어는 명사가 아닌 단어 중에서 저자가 임의로 선정한 것으로 실제 의미있는 선정 기준이 아님\n",
        "\n",
        "stop_words = set(stop_word_text.split(' '))\n",
        "print('stop_words ---------------------------------')\n",
        "print(stop_words)    \n",
        "print()\n",
        "\n",
        "word_tokens = word_tokenize(text)\n",
        "\n",
        "result = []\n",
        "\n",
        "print('stop_word list -----------------------------')\n",
        "for w in word_tokens:\n",
        "  if w not in stop_words:\n",
        "    result.append(w)\n",
        "  else:\n",
        "    print('[%s]is stop_words' %w)\n",
        "\n",
        "print()\n",
        "\n",
        "print('word_tokens --------------------------------')\n",
        "print(word_tokens)    \n",
        "print()\n",
        "\n",
        "print('result -------------------------------------')\n",
        "print(result)\n",
        "print()\n"
      ],
      "execution_count": null,
      "outputs": []
    }
  ]
}