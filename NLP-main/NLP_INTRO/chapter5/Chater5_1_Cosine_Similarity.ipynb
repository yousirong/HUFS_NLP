{
  "nbformat": 4,
  "nbformat_minor": 0,
  "metadata": {
    "colab": {
      "name": "Chater5_1_Cosine_Similarity.ipynb",
      "provenance": [],
      "collapsed_sections": []
    },
    "kernelspec": {
      "name": "python3",
      "display_name": "Python 3"
    }
  },
  "cells": [
    {
      "cell_type": "markdown",
      "metadata": {
        "id": "dJme2RBREcAY"
      },
      "source": [
        "**1) 코사인 유사도(Cosine Similarity)**"
      ]
    },
    {
      "cell_type": "markdown",
      "metadata": {
        "id": "83aYo6_CEgIF"
      },
      "source": [
        "1. 코사인 유사도(Cosine Similarity)"
      ]
    },
    {
      "cell_type": "code",
      "metadata": {
        "id": "khOn3xu3G44j"
      },
      "source": [
        "import pandas as pd  # 데이터프레임 사용을 위해\n",
        "from math import log # IDF 계산을 위해\n",
        "\n",
        "docs = [\n",
        "  '저는 사과 좋아요',\n",
        "  '저는 바나나 좋아요',\n",
        "  '저는 바나나 좋아요 저는 바나나 좋아요'\n",
        "] \n",
        "\n",
        "vocab = list(set(w for doc in docs for w in doc.split()))\n",
        "print('정렬 전 --------------------------------------')\n",
        "print(vocab)\n",
        "print()\n",
        "vocab.sort()\n",
        "print('정렬 후 --------------------------------------')\n",
        "print(vocab)\n",
        "print()\n",
        "\n",
        "N = len(docs) # 총 문서의 수\n",
        "print('총 문서 수 ------------------------------------')\n",
        "print(N)\n",
        "print()\n",
        "\n",
        "# tf(d,t) : 특정 문서 d에서의 특정 단어 t의 등장 횟수.\n",
        "def tf(t, d): \n",
        "  return d.count(t)\n",
        "\n",
        "\n",
        "# df(t) : 특정 단어 t가 등장한 문서의 수.  \n",
        "def idf(t):\n",
        "  df = 0\n",
        "  for doc in docs:\n",
        "    df += t in doc\n",
        "  return log(N/(df + 1))\n",
        "\n",
        "# idf(d, t) : df(t)에 반비례하는 수.\n",
        "def tfidf(t, d):\n",
        "  return tf(t,d)*idf(t)\n",
        "\n",
        "\n",
        "result=[]\n",
        "for i in range(N): # 각 문서에 대해서 아래 명령을 수행\n",
        "  result.append([])\n",
        "  d = docs[i]\n",
        "  for j in range(len(vocab)):\n",
        "    t = vocab[j]\n",
        "    result[-1].append(tf(t,d))\n",
        "\n",
        "tf_ = pd.DataFrame(result, columns=vocab)\n",
        "print('DTM ----------------------------------------')    \n",
        "print(tf_)\n",
        "print()\n",
        "print(list(tf_.iloc[0]))\n",
        "print(list(tf_.iloc[1]))\n",
        "print(list(tf_.iloc[2]))"
      ],
      "execution_count": null,
      "outputs": []
    },
    {
      "cell_type": "code",
      "metadata": {
        "id": "dflRFMz8EQWh"
      },
      "source": [
        "from numpy import dot\n",
        "from numpy.linalg import norm\n",
        "import numpy as np\n",
        "\n",
        "# 코사인 유사도를 구하는 함수\n",
        "def cos_sim(A, B):\n",
        "  return dot(A,B)/(norm(A) * norm(B))\n",
        "\n",
        "# doc1=np.array([0,1,1,1])\n",
        "# doc2=np.array([1,0,1,1])\n",
        "# doc3=np.array([2,0,2,2])\n",
        "\n",
        "doc1=list(tf_.iloc[0])\n",
        "doc2=list(tf_.iloc[1])\n",
        "doc3=list(tf_.iloc[2])\n",
        "\n",
        "\n",
        "print(cos_sim(doc1, doc2)) #문서1과 문서2의 코사인 유사도\n",
        "print(cos_sim(doc1, doc3)) #문서1과 문서3의 코사인 유사도\n",
        "print(cos_sim(doc2, doc3)) #문서2과 문서3의 코사인 유사도"
      ],
      "execution_count": null,
      "outputs": []
    },
    {
      "cell_type": "markdown",
      "metadata": {
        "id": "FLQluMAyEiOw"
      },
      "source": [
        "2. 유사도를 이용한 추천 시스템 구현하기"
      ]
    },
    {
      "cell_type": "code",
      "metadata": {
        "id": "fg-qWu5FLcui"
      },
      "source": [
        "import pandas as pd\n",
        "\n",
        "# 외부 데이터 읽기\n",
        "import io\n",
        "from google.colab import files\n",
        "uploaded = files.upload()\n",
        "\n",
        "data = pd.read_csv(io.StringIO(uploaded['movies_metadata.csv'].decode('utf-8')), low_memory=False)\n",
        "print(\"data ------------------------------\")\n",
        "print(data.head(2))"
      ],
      "execution_count": null,
      "outputs": []
    },
    {
      "cell_type": "code",
      "metadata": {
        "id": "q7J9DdduUyNb"
      },
      "source": [
        "data = data.head(20000)\n",
        "\n",
        "print(len(data))\n",
        "print(data.columns)\n",
        "print(data['overview'].isnull().sum())\n",
        "print()\n",
        "\n",
        "data['overview'] = data['overview'].fillna('') # overview에서 Null 값을 가진 경우에는 값 제거\n",
        "print(data['overview'].isnull().sum())\n",
        "print()\n",
        "\n",
        "print('---------------------------------')\n",
        "print(data[['title','overview']][:2])"
      ],
      "execution_count": null,
      "outputs": []
    },
    {
      "cell_type": "code",
      "metadata": {
        "id": "Z8VQkNBDZPK4"
      },
      "source": [
        "from sklearn.feature_extraction.text import TfidfVectorizer\n",
        "tfidf = TfidfVectorizer(stop_words='english')\n",
        "tfidf_matrix = tfidf.fit_transform(data['overview']) # overview에 대해서 tf-idf 수행\n",
        "\n",
        "print(tfidf_matrix.shape)\n",
        "print()\n",
        "\n",
        "\n",
        "from sklearn.metrics.pairwise import linear_kernel\n",
        "cosine_sim = linear_kernel(tfidf_matrix, tfidf_matrix)\n",
        "\n",
        "indices = pd.Series(data.index, index=data['title']).drop_duplicates()\n",
        "print(indices.head())\n",
        "print()\n",
        "\n",
        "idx = indices['Father of the Bride Part II']\n",
        "print(idx)\n",
        "print()\n",
        "\n",
        "# 가장 overview가 유사한 10개의 영화\n",
        "def get_recommendations(title, cosine_sim=cosine_sim):\n",
        "  # 선택한 영화의 타이틀로부터 해당되는 인덱스를 받아옵니다. 이제 선택한 영화를 가지고 연산할 수 있습니다.\n",
        "  idx = indices[title]\n",
        "\n",
        "  # 모든 영화에 대해서 해당 영화화의 유사도를 구합니다.\n",
        "  sim_scores = list(enumerate(cosine_sim[idx]))\n",
        "\n",
        "  # 유사도에 따라 영화들을 정렬합니다.\n",
        "  sim_scores = sorted(sim_scores, key=lambda x: x[1], reverse=True)\n",
        "\n",
        "  # 가장 유사한 10개의 영화를 받아옵니다.\n",
        "  sim_scores = sim_scores[1:11]\n",
        "\n",
        "  # 가장 유사항 10개의 영화의 인덱스를 받아옵니다.\n",
        "  movie_indices = [i[0] for i in sim_scores]\n",
        "\n",
        "  # 가장 유사한 10개의 영화의 제목을 리턴합니다.\n",
        "  return data['title'].iloc[movie_indices]\n",
        "\n",
        "# print(data['title'].get(12481))\n",
        "\n",
        "# movie_title = 'The Dark Knight Rises'\n",
        "# movie_title = 'Toy Story'\n",
        "movie_title = 'Man on the Moon'\n",
        "print(movie_title)\n",
        "print('overview 유사 -----------------------------') \n",
        "print(get_recommendations(movie_title))"
      ],
      "execution_count": null,
      "outputs": []
    }
  ]
}