{
  "nbformat": 4,
  "nbformat_minor": 0,
  "metadata": {
    "colab": {
      "name": "Chater7_4_Logistic_Regression.ipynb",
      "provenance": [],
      "collapsed_sections": []
    },
    "kernelspec": {
      "name": "python3",
      "display_name": "Python 3"
    }
  },
  "cells": [
    {
      "cell_type": "markdown",
      "metadata": {
        "id": "VfZ5ce1xkAvc"
      },
      "source": [
        "**4) 로지스틱 회귀(Logistic Regression) - 이진 분류**"
      ]
    },
    {
      "cell_type": "markdown",
      "metadata": {
        "id": "jf8mSMRzkF8d"
      },
      "source": [
        "2. 시그모이드 함수(Sigmoid function)"
      ]
    },
    {
      "cell_type": "code",
      "metadata": {
        "id": "SNFDtu86j8ju"
      },
      "source": [
        "%matplotlib inline\n",
        "import numpy as np\n",
        "import matplotlib.pyplot as plt\n",
        "\n",
        "# X=np.array([1,2,3,4,5,6,7,8,9]) # 공부하는 시간\n",
        "# y=np.array([11,22,33,44,53,66,77,87,95]) # 각 공부하는 시간에 맵핑되는 성적"
      ],
      "execution_count": 13,
      "outputs": []
    },
    {
      "cell_type": "code",
      "metadata": {
        "id": "GpFfZEXWlHvv"
      },
      "source": [
        "# (1-3) 지수함수(exponential function), 로그함수(logarithmic function)\n",
        "# 출처: https://rfriend.tistory.com/295 [R, Python 분석과 프로그래밍의 친구 (by R Friend)]\n",
        "\n",
        "def sigmoid(x):\n",
        "  return 1/(1+np.exp(-x))\n",
        "\n",
        "x = np.arange(-5.0,5.0,0.1)\n",
        "y = sigmoid(x)\n",
        "\n",
        "# Matplotlib 차트/플롯 그리기\n",
        "# 출처 http://pythonstudy.xyz/python/article/407-Matplotlib-%EC%B0%A8%ED%8A%B8-%ED%94%8C%EB%A1%AF-%EA%B7%B8%EB%A6%AC%EA%B8%B0\n",
        "\n",
        "# matplotlib.pyplot.plot\n",
        "# https://matplotlib.org/3.3.2/api/_as_gen/matplotlib.pyplot.plot.html\n",
        "plt.plot(x, y, 'g')\n",
        "plt.plot([0,0], [1.0,0.0], ':') # 가운데 점선 추가\n",
        "plt.title('Sigmoid Function')\n",
        "plt.show()"
      ],
      "execution_count": null,
      "outputs": []
    },
    {
      "cell_type": "code",
      "metadata": {
        "id": "Yht9JvrZnTKK"
      },
      "source": [
        "def sigmoid(x):\n",
        "  return 1/(1+np.exp(-x))\n",
        "\n",
        "x = np.arange(-5.0,5.0,0.1)\n",
        "y1 = sigmoid(0.5*x)\n",
        "y2 = sigmoid(x)\n",
        "y3 = sigmoid(2*x)\n",
        "\n",
        "print('x ----------------------------------------')\n",
        "print(x)\n",
        "print()\n",
        "print('y1 ---------------------------------------')\n",
        "print(y1)\n",
        "print()\n",
        "print('y2 ---------------------------------------')\n",
        "print(y2)\n",
        "print()\n",
        "print('y3 ---------------------------------------')\n",
        "print(y3)\n",
        "print()\n",
        "\n",
        "print('W 의 따라서 그래프의 변화 -----------------')\n",
        "plt.plot(x, y1, 'r', linestyle='--') # W 의 값이 0.5일때, 색깔 red, 라인스타일 dashed line style\n",
        "plt.plot(x, y2, 'g')                 # W 의 값이 1일때, 색깔 green \n",
        "plt.plot(x, y3, 'b', linestyle='--') # W 의 값이 2일때, 색깔 blue, dashed line style\n",
        "\n",
        "plt.plot([0,0], [1.0,0.0], ':') # 가운데 점선 추가\n",
        "plt.title('Sigmoid Function')\n",
        "plt.show()"
      ],
      "execution_count": null,
      "outputs": []
    },
    {
      "cell_type": "code",
      "metadata": {
        "id": "xKY4pv2Yp96O"
      },
      "source": [
        "def sigmoid(x):\n",
        "  return 1/(1+np.exp(-x))\n",
        "\n",
        "x = np.arange(-5.0,5.0,0.1)\n",
        "y1 = sigmoid(x+0.5)\n",
        "y2 = sigmoid(x+1)\n",
        "y3 = sigmoid(x+2)\n",
        "\n",
        "print('x ----------------------------------------')\n",
        "print(x)\n",
        "print()\n",
        "print('y1 ---------------------------------------')\n",
        "print(y1)\n",
        "print()\n",
        "print('y2 ---------------------------------------')\n",
        "print(y2)\n",
        "print()\n",
        "print('y3 ---------------------------------------')\n",
        "print(y3)\n",
        "print()\n",
        "\n",
        "print('b 의 따라서 그래프의 변화 -----------------')\n",
        "plt.plot(x, y1, 'r', linestyle='--') # W 의 값이 0.5일때, 색깔 red, 라인스타일 dashed line style\n",
        "plt.plot(x, y2, 'g')                 # W 의 값이 1일때, 색깔 green \n",
        "plt.plot(x, y3, 'b', linestyle='--') # W 의 값이 2일때, 색깔 blue, dashed line style\n",
        "\n",
        "plt.plot([0,0], [1.0,0.0], ':') # 가운데 점선 추가\n",
        "plt.title('Sigmoid Function')\n",
        "plt.show()"
      ],
      "execution_count": null,
      "outputs": []
    },
    {
      "cell_type": "markdown",
      "metadata": {
        "id": "50JyC2qhqwb7"
      },
      "source": [
        "4. 케라스로 구현하는 로지스틱 회귀"
      ]
    },
    {
      "cell_type": "code",
      "metadata": {
        "id": "4f3G1n3zrUQ4"
      },
      "source": [
        "from tensorflow.keras.models import Sequential # 케라스의 Sequential() 을 임포트\n",
        "from tensorflow.keras.layers import Dense # 케라스의 Dense() 을 임포트\n",
        "from tensorflow.keras import optimizers # 케라스의 옵티마이저를 임포트\n",
        "import numpy as np # Numpu를 임포트\n",
        "\n",
        "X=np.array([-50, -40, -30, -20, -10, -5, 0, 5, 10, 20, 30, 40, 50])\n",
        "y=np.array([0, 0, 0, 0, 0, 0, 0, 0, 1, 1, 1, 1, 1]) #숫자 10부터 1\n",
        "\n",
        "model = Sequential()\n",
        "model.add(Dense(1, input_dim=1, activation='sigmoid'))\n",
        "sgd=optimizers.SGD(lr=0.01)\n",
        "model.compile(optimizer=sgd, loss='binary_crossentropy', metrics=['binary_accuracy']) \n",
        "# 옵티마이저는 경사하강법 sgd를 사용합니다.\n",
        "# 손실 함수(Loss Function) 는 binary_crossentropy(이진 크로스 엔트로피)를 사용합니다.\n",
        "model.fit(X, y, batch_size=1, epochs=200, shuffle=False)\n",
        "# 주어진 X와 y데이터에 대해서 오차를 최소화하는 작업을 200번 시도합니다."
      ],
      "execution_count": null,
      "outputs": []
    },
    {
      "cell_type": "code",
      "metadata": {
        "id": "SiVtP-IisQ_c"
      },
      "source": [
        "%matplotlib inline\n",
        "import matplotlib.pyplot as plt\n",
        "plt.plot(X, model.predict(X), 'b', X, y, 'k.')"
      ],
      "execution_count": null,
      "outputs": []
    },
    {
      "cell_type": "code",
      "metadata": {
        "id": "fKZuNlHnshCw"
      },
      "source": [
        "print(model.predict([1, 2, 3, 4, 4.5]))\n",
        "print(model.predict([11, 21, 31, 41, 500]))"
      ],
      "execution_count": null,
      "outputs": []
    }
  ]
}